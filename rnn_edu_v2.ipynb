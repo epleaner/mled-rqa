{
 "cells": [
  {
   "cell_type": "markdown",
   "metadata": {},
   "source": [
    "## RNN Modeling of Behavior and Performance\n",
    "\n",
    "- In this notebook, we will be experimenting with two models: skill2skill and DKT (Deep Knowledge Tracing). \n",
    "- Starter code for both the models has already been provided to you. \n",
    "- See below for how to initiate and train the model."
   ]
  },
  {
   "cell_type": "code",
   "execution_count": 1,
   "metadata": {},
   "outputs": [
    {
     "name": "stdout",
     "output_type": "stream",
     "text": [
      "Requirement already satisfied: pandas in /Users/elipleaner/workspace/mled/final/env/lib/python3.8/site-packages (1.4.2)\n",
      "Requirement already satisfied: pytz>=2020.1 in /Users/elipleaner/workspace/mled/final/env/lib/python3.8/site-packages (from pandas) (2022.1)\n",
      "Requirement already satisfied: python-dateutil>=2.8.1 in /Users/elipleaner/workspace/mled/final/env/lib/python3.8/site-packages (from pandas) (2.8.2)\n",
      "Requirement already satisfied: numpy>=1.20.0 in /Users/elipleaner/workspace/mled/final/env/lib/python3.8/site-packages (from pandas) (1.22.3)\n",
      "Requirement already satisfied: six>=1.5 in /Users/elipleaner/workspace/mled/final/env/lib/python3.8/site-packages (from python-dateutil>=2.8.1->pandas) (1.16.0)\n",
      "\u001b[33mWARNING: You are using pip version 21.1.1; however, version 22.0.4 is available.\n",
      "You should consider upgrading via the '/Users/elipleaner/workspace/mled/final/env/bin/python3 -m pip install --upgrade pip' command.\u001b[0m\n",
      "Requirement already satisfied: numpy in /Users/elipleaner/workspace/mled/final/env/lib/python3.8/site-packages (1.22.3)\n",
      "\u001b[33mWARNING: You are using pip version 21.1.1; however, version 22.0.4 is available.\n",
      "You should consider upgrading via the '/Users/elipleaner/workspace/mled/final/env/bin/python3 -m pip install --upgrade pip' command.\u001b[0m\n",
      "Collecting sklearn\n",
      "  Using cached sklearn-0.0-py2.py3-none-any.whl\n",
      "Requirement already satisfied: scikit-learn in /Users/elipleaner/workspace/mled/final/env/lib/python3.8/site-packages (from sklearn) (1.0.2)\n",
      "Requirement already satisfied: threadpoolctl>=2.0.0 in /Users/elipleaner/workspace/mled/final/env/lib/python3.8/site-packages (from scikit-learn->sklearn) (3.1.0)\n",
      "Requirement already satisfied: joblib>=0.11 in /Users/elipleaner/workspace/mled/final/env/lib/python3.8/site-packages (from scikit-learn->sklearn) (1.1.0)\n",
      "Requirement already satisfied: scipy>=1.1.0 in /Users/elipleaner/workspace/mled/final/env/lib/python3.8/site-packages (from scikit-learn->sklearn) (1.8.0)\n",
      "Requirement already satisfied: numpy>=1.14.6 in /Users/elipleaner/workspace/mled/final/env/lib/python3.8/site-packages (from scikit-learn->sklearn) (1.22.3)\n",
      "Installing collected packages: sklearn\n",
      "Successfully installed sklearn-0.0\n",
      "\u001b[33mWARNING: You are using pip version 21.1.1; however, version 22.0.4 is available.\n",
      "You should consider upgrading via the '/Users/elipleaner/workspace/mled/final/env/bin/python3 -m pip install --upgrade pip' command.\u001b[0m\n"
     ]
    }
   ],
   "source": [
    "!pip install pandas\n",
    "!pip install numpy\n",
    "!pip install sklearn"
   ]
  },
  {
   "cell_type": "code",
   "execution_count": 3,
   "metadata": {},
   "outputs": [],
   "source": [
    "from sklearn.model_selection import train_test_split"
   ]
  },
  {
   "cell_type": "code",
   "execution_count": 1,
   "metadata": {},
   "outputs": [
    {
     "ename": "NameError",
     "evalue": "name 'pd' is not defined",
     "output_type": "error",
     "traceback": [
      "\u001b[0;31m---------------------------------------------------------------------------\u001b[0m",
      "\u001b[0;31mNameError\u001b[0m                                 Traceback (most recent call last)",
      "\u001b[1;32m/Users/elipleaner/workspace/mled/lab4/rnn_edu_v2.ipynb Cell 4'\u001b[0m in \u001b[0;36m<cell line: 1>\u001b[0;34m()\u001b[0m\n\u001b[0;32m----> <a href='vscode-notebook-cell:/Users/elipleaner/workspace/mled/lab4/rnn_edu_v2.ipynb#ch0000004?line=0'>1</a>\u001b[0m response_df \u001b[39m=\u001b[39m pd\u001b[39m.\u001b[39mread_csv(\u001b[39m'\u001b[39m\u001b[39mcorrect.tsv\u001b[39m\u001b[39m'\u001b[39m, sep\u001b[39m=\u001b[39m\u001b[39m'\u001b[39m\u001b[39m\\t\u001b[39;00m\u001b[39m'\u001b[39m)\u001b[39m.\u001b[39mdrop(\u001b[39m'\u001b[39m\u001b[39mUnnamed: 0\u001b[39m\u001b[39m'\u001b[39m, axis\u001b[39m=\u001b[39m\u001b[39m1\u001b[39m)\n\u001b[1;32m      <a href='vscode-notebook-cell:/Users/elipleaner/workspace/mled/lab4/rnn_edu_v2.ipynb#ch0000004?line=1'>2</a>\u001b[0m skill_df \u001b[39m=\u001b[39m pd\u001b[39m.\u001b[39mread_csv(\u001b[39m'\u001b[39m\u001b[39mskill.tsv\u001b[39m\u001b[39m'\u001b[39m, sep\u001b[39m=\u001b[39m\u001b[39m'\u001b[39m\u001b[39m\\t\u001b[39;00m\u001b[39m'\u001b[39m)\u001b[39m.\u001b[39mdrop(\u001b[39m'\u001b[39m\u001b[39mUnnamed: 0\u001b[39m\u001b[39m'\u001b[39m, axis\u001b[39m=\u001b[39m\u001b[39m1\u001b[39m)\n\u001b[1;32m      <a href='vscode-notebook-cell:/Users/elipleaner/workspace/mled/lab4/rnn_edu_v2.ipynb#ch0000004?line=2'>3</a>\u001b[0m assistment_df \u001b[39m=\u001b[39m pd\u001b[39m.\u001b[39mread_csv(\u001b[39m'\u001b[39m\u001b[39massistment_id.tsv\u001b[39m\u001b[39m'\u001b[39m, sep\u001b[39m=\u001b[39m\u001b[39m'\u001b[39m\u001b[39m\\t\u001b[39;00m\u001b[39m'\u001b[39m)\u001b[39m.\u001b[39mdrop(\u001b[39m'\u001b[39m\u001b[39mUnnamed: 0\u001b[39m\u001b[39m'\u001b[39m, axis\u001b[39m=\u001b[39m\u001b[39m1\u001b[39m)\n",
      "\u001b[0;31mNameError\u001b[0m: name 'pd' is not defined"
     ]
    }
   ],
   "source": [
    "response_df = pd.read_csv('correct.tsv', sep='\\t').drop('Unnamed: 0', axis=1)\n",
    "skill_df = pd.read_csv('skill.tsv', sep='\\t').drop('Unnamed: 0', axis=1)\n",
    "assistment_df = pd.read_csv('assistment_id.tsv', sep='\\t').drop('Unnamed: 0', axis=1)\n",
    "skill_dict = {}\n",
    "with open('skill_dict.json', 'r', encoding='utf-8') as f:\n",
    "    loaded = json.load(f)\n",
    "    for k, v in loaded.items():\n",
    "        skill_dict[k] = int(v)\n",
    "\n",
    "skill_num = len(skill_dict) + 1 # including 0\n",
    "\n",
    "def one_hot(skill_matrix, vocab_size):\n",
    "    '''\n",
    "    params:\n",
    "        skill_matrix: 2-D matrix (student, skills)\n",
    "        vocal_size: size of the vocabulary\n",
    "    returns:\n",
    "        a ndarray with a shape like (student, sequence_len, vocab_size)\n",
    "    '''\n",
    "    seq_len = skill_matrix.shape[1]\n",
    "    result = np.zeros((skill_matrix.shape[0], seq_len, vocab_size))\n",
    "    for i in range(skill_matrix.shape[0]):\n",
    "        result[i, np.arange(seq_len), skill_matrix[i]] = 1.\n",
    "    return result\n",
    "\n",
    "def dkt_one_hot(skill_matrix, response_matrix, vocab_size):\n",
    "    seq_len = skill_matrix.shape[1]\n",
    "    skill_response_array = np.zeros((skill_matrix.shape[0], seq_len, 2 * vocab_size))\n",
    "    for i in range(skill_matrix.shape[0]):\n",
    "        skill_response_array[i, np.arange(seq_len), 2 * skill_matrix[i] + response_matrix[i]] = 1.\n",
    "    return skill_response_array\n",
    "\n",
    "def preprocess(skill_df, response_df, skill_num):\n",
    "    skill_matrix = skill_df.iloc[:, 1:].values\n",
    "    response_array = response_df.iloc[:, 1:].values\n",
    "    skill_array = one_hot(skill_matrix, skill_num)\n",
    "    skill_response_array = dkt_one_hot(skill_matrix, response_array, skill_num)\n",
    "    return skill_array, response_array, skill_response_array\n",
    "    \n",
    "\n",
    "skill_array, response_array, skill_response_array = preprocess(skill_df, response_df, skill_num)"
   ]
  },
  {
   "cell_type": "code",
   "execution_count": null,
   "metadata": {},
   "outputs": [],
   "source": [
    "# Q1\n",
    "print(df.skill_name.value_counts().head())\n",
    "print(df.skill_name.value_counts().tail())\n",
    "\n",
    "skill_id = skill_dict[df.skill_name.value_counts().index[0]]\n",
    "\n",
    "response_count = skill_df.stack().value_counts().sum()\n",
    "\n",
    "skill_df.stack().value_counts().loc[skill_id] / response_count * 100"
   ]
  },
  {
   "cell_type": "code",
   "execution_count": 1,
   "metadata": {
    "scrolled": true
   },
   "outputs": [],
   "source": [
    "import keras\n",
    "from keras.layers import Input, Dense, LSTM, TimeDistributed, Lambda, multiply\n",
    "from keras.models import Model\n",
    "from tensorflow.keras.optimizers import RMSprop, Adam\n",
    "from keras.preprocessing.sequence import pad_sequences\n",
    "from keras import backend as K\n",
    "\n",
    "def build_skill2skill_model(input_shape, lstm_dim=32, dropout=0.0):\n",
    "    input = Input(shape=input_shape, name='input skills')\n",
    "    lstm = LSTM(lstm_dim, \n",
    "                return_sequences=True, \n",
    "                dropout=dropout,\n",
    "                name='lstm_layer')(input)\n",
    "    output = TimeDistributed(Dense(input_shape[-1], activation='softmax'), name='probability')(lstm)\n",
    "    model = Model(inputs=[input], outputs=[output])\n",
    "    adam = Adam(learning_rate=0.001, beta_1=0.9, beta_2=0.999, epsilon=1e-07, decay=0.0)\n",
    "    model.compile(optimizer=adam, loss='categorical_crossentropy', metrics=['accuracy'])\n",
    "    model.summary()\n",
    "    return model\n",
    "\n",
    "def reduce_dim(x):\n",
    "    x = K.max(x, axis=-1, keepdims=True)\n",
    "    return x\n",
    "\n",
    "def build_dkt_model(input_shape, lstm_dim=32, dropout=0.0):\n",
    "    input_skills = Input(shape=input_shape, name='input skills')\n",
    "    lstm = LSTM(lstm_dim, \n",
    "                return_sequences=True, \n",
    "                dropout=dropout,\n",
    "                name='lstm_layer')(input_skills)\n",
    "    dense = TimeDistributed(Dense(int(input_shape[-1]/2), activation='sigmoid'), name='probability_for_each')(lstm)\n",
    "    \n",
    "    skill_next = Input(shape=(input_shape[0], int(input_shape[1]/2)), name='next_skill_tested')\n",
    "    merged = multiply([dense, skill_next], name='multiply')\n",
    "    reduced = Lambda(reduce_dim, output_shape=(input_shape[0], 1), name='reduce_dim')(merged)\n",
    "    \n",
    "    model = Model(inputs=[input_skills, skill_next], outputs=[reduced])\n",
    "    adam = Adam(learning_rate=0.001, beta_1=0.9, beta_2=0.999, epsilon=1e-07, decay=0.0)\n",
    "    model.compile(optimizer=adam, loss='binary_crossentropy', metrics=['accuracy'])\n",
    "    model.summary()\n",
    "    return model\n",
    "\n"
   ]
  },
  {
   "cell_type": "code",
   "execution_count": 14,
   "metadata": {},
   "outputs": [
    {
     "name": "stdout",
     "output_type": "stream",
     "text": [
      "skill2skill\n",
      "Model: \"model_2\"\n",
      "_________________________________________________________________\n",
      " Layer (type)                Output Shape              Param #   \n",
      "=================================================================\n",
      " input skills (InputLayer)   [(None, 99, 111)]         0         \n",
      "                                                                 \n",
      " lstm_layer (LSTM)           (None, 99, 64)            45056     \n",
      "                                                                 \n",
      " probability (TimeDistribute  (None, 99, 111)          7215      \n",
      " d)                                                              \n",
      "                                                                 \n",
      "=================================================================\n",
      "Total params: 52,271\n",
      "Trainable params: 52,271\n",
      "Non-trainable params: 0\n",
      "_________________________________________________________________\n",
      "dkt\n",
      "Model: \"model_3\"\n",
      "__________________________________________________________________________________________________\n",
      " Layer (type)                   Output Shape         Param #     Connected to                     \n",
      "==================================================================================================\n",
      " input skills (InputLayer)      [(None, 99, 222)]    0           []                               \n",
      "                                                                                                  \n",
      " lstm_layer (LSTM)              (None, 99, 64)       73472       ['input skills[0][0]']           \n",
      "                                                                                                  \n",
      " probability_for_each (TimeDist  (None, 99, 111)     7215        ['lstm_layer[0][0]']             \n",
      " ributed)                                                                                         \n",
      "                                                                                                  \n",
      " next_skill_tested (InputLayer)  [(None, 99, 111)]   0           []                               \n",
      "                                                                                                  \n",
      " multiply (Multiply)            (None, 99, 111)      0           ['probability_for_each[0][0]',   \n",
      "                                                                  'next_skill_tested[0][0]']      \n",
      "                                                                                                  \n",
      " reduce_dim (Lambda)            (None, 99, 1)        0           ['multiply[0][0]']               \n",
      "                                                                                                  \n",
      "==================================================================================================\n",
      "Total params: 80,687\n",
      "Trainable params: 80,687\n",
      "Non-trainable params: 0\n",
      "__________________________________________________________________________________________________\n",
      "Epoch 1/20\n"
     ]
    },
    {
     "name": "stderr",
     "output_type": "stream",
     "text": [
      "2022-03-15 13:40:17.768923: W tensorflow/core/platform/profile_utils/cpu_utils.cc:128] Failed to get CPU frequency: 0 Hz\n",
      "2022-03-15 13:40:18.442970: I tensorflow/core/grappler/optimizers/custom_graph_optimizer_registry.cc:113] Plugin optimizer for device_type GPU is enabled.\n",
      "2022-03-15 13:40:18.573053: I tensorflow/core/grappler/optimizers/custom_graph_optimizer_registry.cc:113] Plugin optimizer for device_type GPU is enabled.\n",
      "2022-03-15 13:40:21.524521: I tensorflow/core/grappler/optimizers/custom_graph_optimizer_registry.cc:113] Plugin optimizer for device_type GPU is enabled.\n"
     ]
    },
    {
     "name": "stdout",
     "output_type": "stream",
     "text": [
      "15/15 [==============================] - ETA: 0s - loss: 4.6260 - accuracy: 0.1267"
     ]
    },
    {
     "name": "stderr",
     "output_type": "stream",
     "text": [
      "2022-03-15 13:40:23.483354: I tensorflow/core/grappler/optimizers/custom_graph_optimizer_registry.cc:113] Plugin optimizer for device_type GPU is enabled.\n",
      "2022-03-15 13:40:23.531510: I tensorflow/core/grappler/optimizers/custom_graph_optimizer_registry.cc:113] Plugin optimizer for device_type GPU is enabled.\n"
     ]
    },
    {
     "name": "stdout",
     "output_type": "stream",
     "text": [
      "15/15 [==============================] - 6s 102ms/step - loss: 4.6260 - accuracy: 0.1267 - val_loss: 4.5801 - val_accuracy: 0.1459\n",
      "Epoch 2/20\n",
      "15/15 [==============================] - 0s 29ms/step - loss: 4.1496 - accuracy: 0.1556 - val_loss: 4.4288 - val_accuracy: 0.0608\n",
      "Epoch 3/20\n",
      "15/15 [==============================] - 0s 30ms/step - loss: 3.6411 - accuracy: 0.1771 - val_loss: 4.2233 - val_accuracy: 0.1039\n",
      "Epoch 4/20\n",
      "15/15 [==============================] - 0s 30ms/step - loss: 3.2776 - accuracy: 0.2511 - val_loss: 3.9411 - val_accuracy: 0.1122\n",
      "Epoch 5/20\n",
      "15/15 [==============================] - 0s 28ms/step - loss: 2.9477 - accuracy: 0.3180 - val_loss: 3.5963 - val_accuracy: 0.1841\n",
      "Epoch 6/20\n",
      "15/15 [==============================] - 0s 29ms/step - loss: 2.6465 - accuracy: 0.3675 - val_loss: 3.3204 - val_accuracy: 0.2440\n",
      "Epoch 7/20\n",
      "15/15 [==============================] - 0s 29ms/step - loss: 2.3865 - accuracy: 0.4200 - val_loss: 3.0749 - val_accuracy: 0.3061\n",
      "Epoch 8/20\n",
      "15/15 [==============================] - 0s 29ms/step - loss: 2.1529 - accuracy: 0.4790 - val_loss: 2.8739 - val_accuracy: 0.3657\n",
      "Epoch 9/20\n",
      "15/15 [==============================] - 0s 29ms/step - loss: 1.9642 - accuracy: 0.5352 - val_loss: 2.6519 - val_accuracy: 0.4565\n",
      "Epoch 10/20\n",
      "15/15 [==============================] - 0s 29ms/step - loss: 1.7938 - accuracy: 0.5807 - val_loss: 2.4656 - val_accuracy: 0.4831\n",
      "Epoch 11/20\n",
      "15/15 [==============================] - 0s 29ms/step - loss: 1.6406 - accuracy: 0.6240 - val_loss: 2.3061 - val_accuracy: 0.5118\n",
      "Epoch 12/20\n",
      "15/15 [==============================] - 0s 29ms/step - loss: 1.5283 - accuracy: 0.6438 - val_loss: 2.1444 - val_accuracy: 0.5337\n",
      "Epoch 13/20\n",
      "15/15 [==============================] - 0s 29ms/step - loss: 1.4257 - accuracy: 0.6644 - val_loss: 2.0174 - val_accuracy: 0.5535\n",
      "Epoch 14/20\n",
      "15/15 [==============================] - 0s 29ms/step - loss: 1.3335 - accuracy: 0.6897 - val_loss: 1.9111 - val_accuracy: 0.5758\n",
      "Epoch 15/20\n",
      "15/15 [==============================] - 0s 28ms/step - loss: 1.2495 - accuracy: 0.7042 - val_loss: 1.8117 - val_accuracy: 0.5882\n",
      "Epoch 16/20\n",
      "15/15 [==============================] - 0s 29ms/step - loss: 1.1962 - accuracy: 0.7129 - val_loss: 1.7131 - val_accuracy: 0.6181\n",
      "Epoch 17/20\n",
      "15/15 [==============================] - 0s 28ms/step - loss: 1.1333 - accuracy: 0.7297 - val_loss: 1.6620 - val_accuracy: 0.6210\n",
      "Epoch 18/20\n",
      "15/15 [==============================] - 0s 29ms/step - loss: 1.0745 - accuracy: 0.7422 - val_loss: 1.5822 - val_accuracy: 0.6381\n",
      "Epoch 19/20\n",
      "15/15 [==============================] - 0s 30ms/step - loss: 1.0253 - accuracy: 0.7509 - val_loss: 1.5249 - val_accuracy: 0.6543\n",
      "Epoch 20/20\n",
      "15/15 [==============================] - 0s 28ms/step - loss: 0.9793 - accuracy: 0.7629 - val_loss: 1.4701 - val_accuracy: 0.6647\n",
      "Epoch 1/20\n"
     ]
    },
    {
     "name": "stderr",
     "output_type": "stream",
     "text": [
      "2022-03-15 13:40:32.691607: I tensorflow/core/grappler/optimizers/custom_graph_optimizer_registry.cc:113] Plugin optimizer for device_type GPU is enabled.\n",
      "2022-03-15 13:40:32.829020: I tensorflow/core/grappler/optimizers/custom_graph_optimizer_registry.cc:113] Plugin optimizer for device_type GPU is enabled.\n",
      "2022-03-15 13:40:33.380333: I tensorflow/core/grappler/optimizers/custom_graph_optimizer_registry.cc:113] Plugin optimizer for device_type GPU is enabled.\n"
     ]
    },
    {
     "name": "stdout",
     "output_type": "stream",
     "text": [
      "15/15 [==============================] - ETA: 0s - loss: 0.6711 - accuracy: 0.7261"
     ]
    },
    {
     "name": "stderr",
     "output_type": "stream",
     "text": [
      "2022-03-15 13:40:34.512911: I tensorflow/core/grappler/optimizers/custom_graph_optimizer_registry.cc:113] Plugin optimizer for device_type GPU is enabled.\n",
      "2022-03-15 13:40:34.568647: I tensorflow/core/grappler/optimizers/custom_graph_optimizer_registry.cc:113] Plugin optimizer for device_type GPU is enabled.\n"
     ]
    },
    {
     "name": "stdout",
     "output_type": "stream",
     "text": [
      "15/15 [==============================] - 3s 81ms/step - loss: 0.6711 - accuracy: 0.7261 - val_loss: 0.6511 - val_accuracy: 0.8162\n",
      "Epoch 2/20\n",
      "15/15 [==============================] - 0s 29ms/step - loss: 0.5993 - accuracy: 0.8397 - val_loss: 0.5616 - val_accuracy: 0.8022\n",
      "Epoch 3/20\n",
      "15/15 [==============================] - 0s 29ms/step - loss: 0.4838 - accuracy: 0.8354 - val_loss: 0.4755 - val_accuracy: 0.8241\n",
      "Epoch 4/20\n",
      "15/15 [==============================] - 0s 29ms/step - loss: 0.4206 - accuracy: 0.8480 - val_loss: 0.4550 - val_accuracy: 0.8329\n",
      "Epoch 5/20\n",
      "15/15 [==============================] - 0s 29ms/step - loss: 0.3958 - accuracy: 0.8504 - val_loss: 0.4362 - val_accuracy: 0.8337\n",
      "Epoch 6/20\n",
      "15/15 [==============================] - 0s 29ms/step - loss: 0.3839 - accuracy: 0.8544 - val_loss: 0.4435 - val_accuracy: 0.8329\n",
      "Epoch 7/20\n",
      "15/15 [==============================] - 0s 29ms/step - loss: 0.3780 - accuracy: 0.8544 - val_loss: 0.4358 - val_accuracy: 0.8328\n",
      "Epoch 8/20\n",
      "15/15 [==============================] - 0s 29ms/step - loss: 0.3750 - accuracy: 0.8559 - val_loss: 0.4247 - val_accuracy: 0.8342\n",
      "Epoch 9/20\n",
      "15/15 [==============================] - 0s 29ms/step - loss: 0.3723 - accuracy: 0.8548 - val_loss: 0.4418 - val_accuracy: 0.8296\n",
      "Epoch 10/20\n",
      "15/15 [==============================] - 0s 29ms/step - loss: 0.3682 - accuracy: 0.8562 - val_loss: 0.4256 - val_accuracy: 0.8328\n",
      "Epoch 11/20\n",
      "15/15 [==============================] - 0s 28ms/step - loss: 0.3639 - accuracy: 0.8572 - val_loss: 0.4314 - val_accuracy: 0.8325\n",
      "Epoch 12/20\n",
      "15/15 [==============================] - 0s 30ms/step - loss: 0.3612 - accuracy: 0.8577 - val_loss: 0.4242 - val_accuracy: 0.8331\n",
      "Epoch 13/20\n",
      "15/15 [==============================] - 0s 30ms/step - loss: 0.3579 - accuracy: 0.8593 - val_loss: 0.4218 - val_accuracy: 0.8343\n",
      "Epoch 14/20\n",
      "15/15 [==============================] - 0s 29ms/step - loss: 0.3563 - accuracy: 0.8599 - val_loss: 0.4192 - val_accuracy: 0.8345\n",
      "Epoch 15/20\n",
      "15/15 [==============================] - 0s 29ms/step - loss: 0.3530 - accuracy: 0.8607 - val_loss: 0.4205 - val_accuracy: 0.8341\n",
      "Epoch 16/20\n",
      "15/15 [==============================] - 0s 28ms/step - loss: 0.3511 - accuracy: 0.8609 - val_loss: 0.4155 - val_accuracy: 0.8357\n",
      "Epoch 17/20\n",
      "15/15 [==============================] - 0s 28ms/step - loss: 0.3494 - accuracy: 0.8621 - val_loss: 0.4160 - val_accuracy: 0.8380\n",
      "Epoch 18/20\n",
      "15/15 [==============================] - 0s 30ms/step - loss: 0.3480 - accuracy: 0.8618 - val_loss: 0.4233 - val_accuracy: 0.8368\n",
      "Epoch 19/20\n",
      "15/15 [==============================] - 0s 29ms/step - loss: 0.3463 - accuracy: 0.8624 - val_loss: 0.4190 - val_accuracy: 0.8371\n",
      "Epoch 20/20\n",
      "15/15 [==============================] - 0s 29ms/step - loss: 0.3450 - accuracy: 0.8629 - val_loss: 0.4055 - val_accuracy: 0.8399\n"
     ]
    },
    {
     "data": {
      "text/plain": [
       "<keras.callbacks.History at 0x299343fd0>"
      ]
     },
     "execution_count": 14,
     "metadata": {},
     "output_type": "execute_result"
    }
   ],
   "source": [
    "\n",
    "# Sample Usage: skill2skill\n",
    "print('skill2skill')\n",
    "skill2skill_model = build_skill2skill_model((99, skill_num), lstm_dim=64)\n",
    "\n",
    "# Sample Usage: DKT\n",
    "print('dkt')\n",
    "dkt_model = build_dkt_model((99, 2 * skill_num), lstm_dim=64)\n",
    "    \n",
    "\n",
    "# train skill2skill\n",
    "skill2skill_model.fit(skill_array[:, 0:-1], \n",
    "                      skill_array[:, 1:],\n",
    "                      epochs=20, \n",
    "                      batch_size=32, \n",
    "                      shuffle=True,\n",
    "                      validation_split=0.2)\n",
    "\n",
    "# train DKT \n",
    "dkt_model.fit([skill_response_array[:, 0:-1], skill_array[:, 1:]],\n",
    "              response_array[:, 1:, np.newaxis],\n",
    "              epochs=20, \n",
    "              batch_size=32, \n",
    "              shuffle=True,\n",
    "              validation_split=0.2)"
   ]
  },
  {
   "cell_type": "code",
   "execution_count": 82,
   "metadata": {},
   "outputs": [
    {
     "name": "stdout",
     "output_type": "stream",
     "text": [
      "Model: \"model_5\"\n",
      "_________________________________________________________________\n",
      " Layer (type)                Output Shape              Param #   \n",
      "=================================================================\n",
      " input skills (InputLayer)   [(None, 99, 111)]         0         \n",
      "                                                                 \n",
      " lstm_layer (LSTM)           (None, 99, 64)            45056     \n",
      "                                                                 \n",
      " probability (TimeDistribute  (None, 99, 111)          7215      \n",
      " d)                                                              \n",
      "                                                                 \n",
      "=================================================================\n",
      "Total params: 52,271\n",
      "Trainable params: 52,271\n",
      "Non-trainable params: 0\n",
      "_________________________________________________________________\n"
     ]
    }
   ],
   "source": [
    "#Q2\n",
    "skill2skill_model = build_skill2skill_model((99, skill_num), lstm_dim=64)"
   ]
  },
  {
   "cell_type": "code",
   "execution_count": 85,
   "metadata": {},
   "outputs": [],
   "source": [
    "X_train, X_test, y_train, y_test = train_test_split(skill_array[:, 0:-1], skill_array[:, 1:], test_size=0.30)"
   ]
  },
  {
   "cell_type": "code",
   "execution_count": 90,
   "metadata": {},
   "outputs": [
    {
     "name": "stdout",
     "output_type": "stream",
     "text": [
      "Epoch 1/20\n"
     ]
    },
    {
     "name": "stderr",
     "output_type": "stream",
     "text": [
      "2022-03-15 16:07:39.648715: I tensorflow/core/grappler/optimizers/custom_graph_optimizer_registry.cc:113] Plugin optimizer for device_type GPU is enabled.\n",
      "2022-03-15 16:07:39.772879: I tensorflow/core/grappler/optimizers/custom_graph_optimizer_registry.cc:113] Plugin optimizer for device_type GPU is enabled.\n",
      "2022-03-15 16:07:39.930049: I tensorflow/core/grappler/optimizers/custom_graph_optimizer_registry.cc:113] Plugin optimizer for device_type GPU is enabled.\n"
     ]
    },
    {
     "name": "stdout",
     "output_type": "stream",
     "text": [
      "11/11 [==============================] - ETA: 0s - loss: 4.6724 - accuracy: 0.0762"
     ]
    },
    {
     "name": "stderr",
     "output_type": "stream",
     "text": [
      "2022-03-15 16:07:41.297659: I tensorflow/core/grappler/optimizers/custom_graph_optimizer_registry.cc:113] Plugin optimizer for device_type GPU is enabled.\n",
      "2022-03-15 16:07:41.347948: I tensorflow/core/grappler/optimizers/custom_graph_optimizer_registry.cc:113] Plugin optimizer for device_type GPU is enabled.\n"
     ]
    },
    {
     "name": "stdout",
     "output_type": "stream",
     "text": [
      "11/11 [==============================] - 3s 143ms/step - loss: 4.6724 - accuracy: 0.0762 - val_loss: 4.5937 - val_accuracy: 0.2305\n",
      "Epoch 2/20\n",
      "11/11 [==============================] - 0s 31ms/step - loss: 4.5161 - accuracy: 0.3038 - val_loss: 4.3455 - val_accuracy: 0.2533\n",
      "Epoch 3/20\n",
      "11/11 [==============================] - 0s 31ms/step - loss: 4.1546 - accuracy: 0.1553 - val_loss: 3.9098 - val_accuracy: 0.1296\n",
      "Epoch 4/20\n",
      "11/11 [==============================] - 0s 30ms/step - loss: 3.7465 - accuracy: 0.1944 - val_loss: 3.5026 - val_accuracy: 0.2302\n",
      "Epoch 5/20\n",
      "11/11 [==============================] - 0s 30ms/step - loss: 3.3494 - accuracy: 0.2455 - val_loss: 3.1314 - val_accuracy: 0.3234\n",
      "Epoch 6/20\n",
      "11/11 [==============================] - 0s 30ms/step - loss: 2.9759 - accuracy: 0.3461 - val_loss: 2.8104 - val_accuracy: 0.3755\n",
      "Epoch 7/20\n",
      "11/11 [==============================] - 0s 30ms/step - loss: 2.6561 - accuracy: 0.4195 - val_loss: 2.5514 - val_accuracy: 0.4209\n",
      "Epoch 8/20\n",
      "11/11 [==============================] - 0s 30ms/step - loss: 2.4063 - accuracy: 0.4626 - val_loss: 2.3360 - val_accuracy: 0.4558\n",
      "Epoch 9/20\n",
      "11/11 [==============================] - 0s 30ms/step - loss: 2.1856 - accuracy: 0.4988 - val_loss: 2.1423 - val_accuracy: 0.4900\n",
      "Epoch 10/20\n",
      "11/11 [==============================] - 0s 31ms/step - loss: 2.0016 - accuracy: 0.5354 - val_loss: 2.0059 - val_accuracy: 0.5170\n",
      "Epoch 11/20\n",
      "11/11 [==============================] - 0s 30ms/step - loss: 1.8474 - accuracy: 0.5683 - val_loss: 1.8749 - val_accuracy: 0.5456\n",
      "Epoch 12/20\n",
      "11/11 [==============================] - 0s 30ms/step - loss: 1.7307 - accuracy: 0.5945 - val_loss: 1.7690 - val_accuracy: 0.5686\n",
      "Epoch 13/20\n",
      "11/11 [==============================] - 0s 32ms/step - loss: 1.6193 - accuracy: 0.6201 - val_loss: 1.7010 - val_accuracy: 0.5945\n",
      "Epoch 14/20\n",
      "11/11 [==============================] - 0s 29ms/step - loss: 1.5289 - accuracy: 0.6374 - val_loss: 1.5805 - val_accuracy: 0.6123\n",
      "Epoch 15/20\n",
      "11/11 [==============================] - 0s 30ms/step - loss: 1.4379 - accuracy: 0.6588 - val_loss: 1.5160 - val_accuracy: 0.6388\n",
      "Epoch 16/20\n",
      "11/11 [==============================] - 0s 31ms/step - loss: 1.3657 - accuracy: 0.6740 - val_loss: 1.4550 - val_accuracy: 0.6403\n",
      "Epoch 17/20\n",
      "11/11 [==============================] - 0s 30ms/step - loss: 1.3033 - accuracy: 0.6804 - val_loss: 1.3892 - val_accuracy: 0.6605\n",
      "Epoch 18/20\n",
      "11/11 [==============================] - 0s 30ms/step - loss: 1.2449 - accuracy: 0.6969 - val_loss: 1.3293 - val_accuracy: 0.6784\n",
      "Epoch 19/20\n",
      "11/11 [==============================] - 0s 31ms/step - loss: 1.1903 - accuracy: 0.7111 - val_loss: 1.2842 - val_accuracy: 0.6801\n",
      "Epoch 20/20\n",
      "11/11 [==============================] - 0s 30ms/step - loss: 1.1496 - accuracy: 0.7167 - val_loss: 1.2469 - val_accuracy: 0.6860\n"
     ]
    },
    {
     "data": {
      "text/plain": [
       "<keras.callbacks.History at 0x2eb43ea00>"
      ]
     },
     "execution_count": 90,
     "metadata": {},
     "output_type": "execute_result"
    }
   ],
   "source": [
    "skill2skill_model.fit(X_train, \n",
    "                      y_train,\n",
    "                      epochs=20, \n",
    "                      batch_size=32, \n",
    "                      shuffle=True,\n",
    "                      validation_split=0.2)"
   ]
  },
  {
   "cell_type": "code",
   "execution_count": 184,
   "metadata": {},
   "outputs": [],
   "source": [
    "X_pred = skill2skill_model.predict(X_test)"
   ]
  },
  {
   "cell_type": "code",
   "execution_count": 253,
   "metadata": {},
   "outputs": [],
   "source": [
    "X_pred_binary = X_pred[:]\n",
    "\n",
    "for si, student in enumerate(X_pred_binary):\n",
    "    for ri, response in enumerate(student):\n",
    "        label = max(response)\n",
    "        X_pred_binary[si][ri] = [1 if r == label else 0 for r in response]"
   ]
  },
  {
   "cell_type": "code",
   "execution_count": 254,
   "metadata": {},
   "outputs": [
    {
     "data": {
      "text/plain": [
       "0.7086776859504132"
      ]
     },
     "execution_count": 264,
     "metadata": {},
     "output_type": "execute_result"
    }
   ],
   "source": [
    "from sklearn.metrics import accuracy_score\n",
    "\n",
    "accuracy_score([b for a in y_test for b in a], [b for a in X_pred_binary for b in a])"
   ]
  },
  {
   "cell_type": "code",
   "execution_count": 255,
   "metadata": {},
   "outputs": [],
   "source": [
    "skills_correct = []\n",
    "for i in range(len(X_pred_binary)):\n",
    "    skills_correct.append([])\n",
    "for si, student in enumerate(X_pred_binary):\n",
    "    for ri, response in enumerate(student):\n",
    "        skill_index = np.argmax(response)\n",
    "        skills_correct[skill_index].append(1 if response[skill_index] == y_test[si][ri][skill_index] else 0)"
   ]
  },
  {
   "cell_type": "code",
   "execution_count": 299,
   "metadata": {},
   "outputs": [
    {
     "name": "stderr",
     "output_type": "stream",
     "text": [
      "/Users/elipleaner/miniconda3/lib/python3.8/site-packages/numpy/core/fromnumeric.py:3440: RuntimeWarning: Mean of empty slice.\n",
      "  return _methods._mean(a, axis=axis, dtype=dtype,\n",
      "/Users/elipleaner/miniconda3/lib/python3.8/site-packages/numpy/core/_methods.py:189: RuntimeWarning: invalid value encountered in double_scalars\n",
      "  ret = ret.dtype.type(ret / rcount)\n"
     ]
    }
   ],
   "source": [
    "skills_correct_means = [np.mean(i) for i in skills_correct]\n"
   ]
  },
  {
   "cell_type": "code",
   "execution_count": 316,
   "metadata": {},
   "outputs": [],
   "source": [
    "df_skills_correct_means = pd.DataFrame(skills_correct_means, columns=['mean'])\n",
    "df_skills_correct_means.sort_values(by='mean', ascending=False, inplace= True)\n",
    "df_skills_correct_means.dropna(inplace=True)\n",
    "df_skills_correct_means.reset_index(inplace=True)\n",
    "df_skills_correct_means.rename(columns={'index': 'skill_id'}, inplace=True)\n",
    "df_skills_correct_means\n",
    "\n",
    "df_skills_correct_means['skill_name'] = df_skills_correct_means['skill_id'].map(lambda x: list(skill_dict.keys())[list(skill_dict.values()).index(x)])"
   ]
  },
  {
   "cell_type": "code",
   "execution_count": 318,
   "metadata": {},
   "outputs": [
    {
     "name": "stdout",
     "output_type": "stream",
     "text": [
      "   skill_id      mean                                     skill_name\n",
      "0        50  1.000000                                      Unit Rate\n",
      "1         5  0.909396                                   Scatter Plot\n",
      "2        48  0.878378                                     Proportion\n",
      "3        67  0.857143  Multiplication and Division Positive Decimals\n",
      "4         7  0.851397                                          Table\n",
      "    skill_id      mean                            skill_name\n",
      "40        23  0.500000       Unit Conversion Within a System\n",
      "41        39  0.484848                            Estimation\n",
      "42        70  0.450777  Multiplication and Division Integers\n",
      "43        86  0.402439               Order of Operations All\n",
      "44        52  0.000000                    Divisibility Rules\n"
     ]
    }
   ],
   "source": [
    "# Q2 – What were the top 5 hardest and easiest to predict skills?\n",
    "print(df_skills_correct_means.head())\n",
    "print(df_skills_correct_means.tail())"
   ]
  },
  {
   "cell_type": "markdown",
   "metadata": {
    "tags": []
   },
   "source": [
    "## A note on Q2\n",
    "\n",
    "Question 2 of the RNN homework ask you to report on the hardest and easiest to predict skills using the skill2skill model. In order to establish some sortable measure of prediction difficulty, you need to come up with a metric that represents this prediction difficulty. Here are a few suggestions for metrics\n",
    "\n",
    "1) Accuracy: For each skill, what percent of the time (when it was the label) was it predicted correctly? One approach to this is to create a binary array for each skill, whose length is equal to the number of times the skill appears as a label. When that skill was the label and had the highest probability in the softmax output, the array value is 1, otherwise 0. The average value of this array is the accuracy of prediction for that skill. The finaly step is then to sort all skills by this average accuracy. \n",
    "\n",
    "2) Recall @ N: This is the same idea as above, except that you would look to see if the probability associated with the label's skill was among the top N probabilities. Say, for N = 5, if the label's probability was in the top N, the array value would be true, and false otherwise. The average of the array would then be the Recall @ N for that skill. This metric should always return a value equal to or higher  than accuracy.\n",
    "\n",
    "3) Average probability: Instead of recording if the probability was the best, you could record only the probability itself. The skills will the lowest average probability is one way of characterizing them as being hardest (or least likely) to predict. "
   ]
  },
  {
   "cell_type": "code",
   "execution_count": 328,
   "metadata": {},
   "outputs": [],
   "source": [
    "X_train, X_test, y_train, y_test = train_test_split(skill_array[:, 0:-1], skill_array[:, 1:], test_size=0.30)"
   ]
  },
  {
   "cell_type": "code",
   "execution_count": 327,
   "metadata": {},
   "outputs": [
    {
     "name": "stdout",
     "output_type": "stream",
     "text": [
      "Model: \"model_22\"\n",
      "_________________________________________________________________\n",
      " Layer (type)                Output Shape              Param #   \n",
      "=================================================================\n",
      " input skills (InputLayer)   [(None, 99, 111)]         0         \n",
      "                                                                 \n",
      " lstm_layer (LSTM)           (None, 99, 64)            45056     \n",
      "                                                                 \n",
      " probability (TimeDistribute  (None, 99, 111)          7215      \n",
      " d)                                                              \n",
      "                                                                 \n",
      "=================================================================\n",
      "Total params: 52,271\n",
      "Trainable params: 52,271\n",
      "Non-trainable params: 0\n",
      "_________________________________________________________________\n"
     ]
    },
    {
     "name": "stderr",
     "output_type": "stream",
     "text": [
      "2022-03-16 15:09:14.205797: I tensorflow/core/grappler/optimizers/custom_graph_optimizer_registry.cc:113] Plugin optimizer for device_type GPU is enabled.\n",
      "2022-03-16 15:09:14.335932: I tensorflow/core/grappler/optimizers/custom_graph_optimizer_registry.cc:113] Plugin optimizer for device_type GPU is enabled.\n",
      "2022-03-16 15:09:14.574147: I tensorflow/core/grappler/optimizers/custom_graph_optimizer_registry.cc:113] Plugin optimizer for device_type GPU is enabled.\n",
      "2022-03-16 15:09:38.429692: I tensorflow/core/grappler/optimizers/custom_graph_optimizer_registry.cc:113] Plugin optimizer for device_type GPU is enabled.\n",
      "2022-03-16 15:09:38.473876: I tensorflow/core/grappler/optimizers/custom_graph_optimizer_registry.cc:113] Plugin optimizer for device_type GPU is enabled.\n"
     ]
    },
    {
     "name": "stdout",
     "output_type": "stream",
     "text": [
      "lstm_dim: 64, batch_size: 8, validation_split: 0\n",
      "accuracy: 0.8370064279155188\n",
      "Model: \"model_23\"\n",
      "_________________________________________________________________\n",
      " Layer (type)                Output Shape              Param #   \n",
      "=================================================================\n",
      " input skills (InputLayer)   [(None, 99, 111)]         0         \n",
      "                                                                 \n",
      " lstm_layer (LSTM)           (None, 99, 64)            45056     \n",
      "                                                                 \n",
      " probability (TimeDistribute  (None, 99, 111)          7215      \n",
      " d)                                                              \n",
      "                                                                 \n",
      "=================================================================\n",
      "Total params: 52,271\n",
      "Trainable params: 52,271\n",
      "Non-trainable params: 0\n",
      "_________________________________________________________________\n"
     ]
    },
    {
     "name": "stderr",
     "output_type": "stream",
     "text": [
      "2022-03-16 15:09:39.984215: I tensorflow/core/grappler/optimizers/custom_graph_optimizer_registry.cc:113] Plugin optimizer for device_type GPU is enabled.\n",
      "2022-03-16 15:09:40.120546: I tensorflow/core/grappler/optimizers/custom_graph_optimizer_registry.cc:113] Plugin optimizer for device_type GPU is enabled.\n",
      "2022-03-16 15:09:40.337613: I tensorflow/core/grappler/optimizers/custom_graph_optimizer_registry.cc:113] Plugin optimizer for device_type GPU is enabled.\n",
      "2022-03-16 15:09:42.514402: I tensorflow/core/grappler/optimizers/custom_graph_optimizer_registry.cc:113] Plugin optimizer for device_type GPU is enabled.\n",
      "2022-03-16 15:09:42.573268: I tensorflow/core/grappler/optimizers/custom_graph_optimizer_registry.cc:113] Plugin optimizer for device_type GPU is enabled.\n",
      "2022-03-16 15:10:07.533751: I tensorflow/core/grappler/optimizers/custom_graph_optimizer_registry.cc:113] Plugin optimizer for device_type GPU is enabled.\n",
      "2022-03-16 15:10:07.646847: I tensorflow/core/grappler/optimizers/custom_graph_optimizer_registry.cc:113] Plugin optimizer for device_type GPU is enabled.\n"
     ]
    },
    {
     "name": "stdout",
     "output_type": "stream",
     "text": [
      "lstm_dim: 64, batch_size: 8, validation_split: 0.1\n",
      "accuracy: 0.8335629017447199\n",
      "Model: \"model_24\"\n",
      "_________________________________________________________________\n",
      " Layer (type)                Output Shape              Param #   \n",
      "=================================================================\n",
      " input skills (InputLayer)   [(None, 99, 111)]         0         \n",
      "                                                                 \n",
      " lstm_layer (LSTM)           (None, 99, 64)            45056     \n",
      "                                                                 \n",
      " probability (TimeDistribute  (None, 99, 111)          7215      \n",
      " d)                                                              \n",
      "                                                                 \n",
      "=================================================================\n",
      "Total params: 52,271\n",
      "Trainable params: 52,271\n",
      "Non-trainable params: 0\n",
      "_________________________________________________________________\n"
     ]
    },
    {
     "name": "stderr",
     "output_type": "stream",
     "text": [
      "2022-03-16 15:10:09.179811: I tensorflow/core/grappler/optimizers/custom_graph_optimizer_registry.cc:113] Plugin optimizer for device_type GPU is enabled.\n",
      "2022-03-16 15:10:09.333583: I tensorflow/core/grappler/optimizers/custom_graph_optimizer_registry.cc:113] Plugin optimizer for device_type GPU is enabled.\n",
      "2022-03-16 15:10:09.586959: I tensorflow/core/grappler/optimizers/custom_graph_optimizer_registry.cc:113] Plugin optimizer for device_type GPU is enabled.\n",
      "2022-03-16 15:10:11.580228: I tensorflow/core/grappler/optimizers/custom_graph_optimizer_registry.cc:113] Plugin optimizer for device_type GPU is enabled.\n",
      "2022-03-16 15:10:11.642625: I tensorflow/core/grappler/optimizers/custom_graph_optimizer_registry.cc:113] Plugin optimizer for device_type GPU is enabled.\n",
      "2022-03-16 15:10:34.078734: I tensorflow/core/grappler/optimizers/custom_graph_optimizer_registry.cc:113] Plugin optimizer for device_type GPU is enabled.\n",
      "2022-03-16 15:10:34.125153: I tensorflow/core/grappler/optimizers/custom_graph_optimizer_registry.cc:113] Plugin optimizer for device_type GPU is enabled.\n"
     ]
    },
    {
     "name": "stdout",
     "output_type": "stream",
     "text": [
      "lstm_dim: 64, batch_size: 8, validation_split: 0.2\n",
      "accuracy: 0.8277662993572085\n",
      "Model: \"model_25\"\n",
      "_________________________________________________________________\n",
      " Layer (type)                Output Shape              Param #   \n",
      "=================================================================\n",
      " input skills (InputLayer)   [(None, 99, 111)]         0         \n",
      "                                                                 \n",
      " lstm_layer (LSTM)           (None, 99, 64)            45056     \n",
      "                                                                 \n",
      " probability (TimeDistribute  (None, 99, 111)          7215      \n",
      " d)                                                              \n",
      "                                                                 \n",
      "=================================================================\n",
      "Total params: 52,271\n",
      "Trainable params: 52,271\n",
      "Non-trainable params: 0\n",
      "_________________________________________________________________\n"
     ]
    },
    {
     "name": "stderr",
     "output_type": "stream",
     "text": [
      "2022-03-16 15:10:36.069529: I tensorflow/core/grappler/optimizers/custom_graph_optimizer_registry.cc:113] Plugin optimizer for device_type GPU is enabled.\n",
      "2022-03-16 15:10:36.216698: I tensorflow/core/grappler/optimizers/custom_graph_optimizer_registry.cc:113] Plugin optimizer for device_type GPU is enabled.\n",
      "2022-03-16 15:10:36.441334: I tensorflow/core/grappler/optimizers/custom_graph_optimizer_registry.cc:113] Plugin optimizer for device_type GPU is enabled.\n",
      "2022-03-16 15:10:38.544117: I tensorflow/core/grappler/optimizers/custom_graph_optimizer_registry.cc:113] Plugin optimizer for device_type GPU is enabled.\n",
      "2022-03-16 15:10:38.600967: I tensorflow/core/grappler/optimizers/custom_graph_optimizer_registry.cc:113] Plugin optimizer for device_type GPU is enabled.\n",
      "2022-03-16 15:11:00.040356: I tensorflow/core/grappler/optimizers/custom_graph_optimizer_registry.cc:113] Plugin optimizer for device_type GPU is enabled.\n",
      "2022-03-16 15:11:00.077545: I tensorflow/core/grappler/optimizers/custom_graph_optimizer_registry.cc:113] Plugin optimizer for device_type GPU is enabled.\n"
     ]
    },
    {
     "name": "stdout",
     "output_type": "stream",
     "text": [
      "lstm_dim: 64, batch_size: 8, validation_split: 0.3\n",
      "accuracy: 0.8139921946740128\n",
      "Model: \"model_26\"\n",
      "_________________________________________________________________\n",
      " Layer (type)                Output Shape              Param #   \n",
      "=================================================================\n",
      " input skills (InputLayer)   [(None, 99, 111)]         0         \n",
      "                                                                 \n",
      " lstm_layer (LSTM)           (None, 99, 64)            45056     \n",
      "                                                                 \n",
      " probability (TimeDistribute  (None, 99, 111)          7215      \n",
      " d)                                                              \n",
      "                                                                 \n",
      "=================================================================\n",
      "Total params: 52,271\n",
      "Trainable params: 52,271\n",
      "Non-trainable params: 0\n",
      "_________________________________________________________________\n"
     ]
    },
    {
     "name": "stderr",
     "output_type": "stream",
     "text": [
      "2022-03-16 15:11:01.457736: I tensorflow/core/grappler/optimizers/custom_graph_optimizer_registry.cc:113] Plugin optimizer for device_type GPU is enabled.\n",
      "2022-03-16 15:11:01.589091: I tensorflow/core/grappler/optimizers/custom_graph_optimizer_registry.cc:113] Plugin optimizer for device_type GPU is enabled.\n",
      "2022-03-16 15:11:01.822032: I tensorflow/core/grappler/optimizers/custom_graph_optimizer_registry.cc:113] Plugin optimizer for device_type GPU is enabled.\n",
      "2022-03-16 15:11:15.006879: I tensorflow/core/grappler/optimizers/custom_graph_optimizer_registry.cc:113] Plugin optimizer for device_type GPU is enabled.\n",
      "2022-03-16 15:11:15.042314: I tensorflow/core/grappler/optimizers/custom_graph_optimizer_registry.cc:113] Plugin optimizer for device_type GPU is enabled.\n"
     ]
    },
    {
     "name": "stdout",
     "output_type": "stream",
     "text": [
      "lstm_dim: 64, batch_size: 16, validation_split: 0\n",
      "accuracy: 0.8065312213039486\n",
      "Model: \"model_27\"\n",
      "_________________________________________________________________\n",
      " Layer (type)                Output Shape              Param #   \n",
      "=================================================================\n",
      " input skills (InputLayer)   [(None, 99, 111)]         0         \n",
      "                                                                 \n",
      " lstm_layer (LSTM)           (None, 99, 64)            45056     \n",
      "                                                                 \n",
      " probability (TimeDistribute  (None, 99, 111)          7215      \n",
      " d)                                                              \n",
      "                                                                 \n",
      "=================================================================\n",
      "Total params: 52,271\n",
      "Trainable params: 52,271\n",
      "Non-trainable params: 0\n",
      "_________________________________________________________________\n"
     ]
    },
    {
     "name": "stderr",
     "output_type": "stream",
     "text": [
      "2022-03-16 15:11:16.834845: I tensorflow/core/grappler/optimizers/custom_graph_optimizer_registry.cc:113] Plugin optimizer for device_type GPU is enabled.\n",
      "2022-03-16 15:11:16.966003: I tensorflow/core/grappler/optimizers/custom_graph_optimizer_registry.cc:113] Plugin optimizer for device_type GPU is enabled.\n",
      "2022-03-16 15:11:17.192159: I tensorflow/core/grappler/optimizers/custom_graph_optimizer_registry.cc:113] Plugin optimizer for device_type GPU is enabled.\n",
      "2022-03-16 15:11:18.851830: I tensorflow/core/grappler/optimizers/custom_graph_optimizer_registry.cc:113] Plugin optimizer for device_type GPU is enabled.\n",
      "2022-03-16 15:11:18.909791: I tensorflow/core/grappler/optimizers/custom_graph_optimizer_registry.cc:113] Plugin optimizer for device_type GPU is enabled.\n",
      "2022-03-16 15:11:30.884424: I tensorflow/core/grappler/optimizers/custom_graph_optimizer_registry.cc:113] Plugin optimizer for device_type GPU is enabled.\n",
      "2022-03-16 15:11:30.927131: I tensorflow/core/grappler/optimizers/custom_graph_optimizer_registry.cc:113] Plugin optimizer for device_type GPU is enabled.\n"
     ]
    },
    {
     "name": "stdout",
     "output_type": "stream",
     "text": [
      "lstm_dim: 64, batch_size: 16, validation_split: 0.1\n",
      "accuracy: 0.7890840220385675\n",
      "Model: \"model_28\"\n",
      "_________________________________________________________________\n",
      " Layer (type)                Output Shape              Param #   \n",
      "=================================================================\n",
      " input skills (InputLayer)   [(None, 99, 111)]         0         \n",
      "                                                                 \n",
      " lstm_layer (LSTM)           (None, 99, 64)            45056     \n",
      "                                                                 \n",
      " probability (TimeDistribute  (None, 99, 111)          7215      \n",
      " d)                                                              \n",
      "                                                                 \n",
      "=================================================================\n",
      "Total params: 52,271\n",
      "Trainable params: 52,271\n",
      "Non-trainable params: 0\n",
      "_________________________________________________________________\n"
     ]
    },
    {
     "name": "stderr",
     "output_type": "stream",
     "text": [
      "2022-03-16 15:11:32.298244: I tensorflow/core/grappler/optimizers/custom_graph_optimizer_registry.cc:113] Plugin optimizer for device_type GPU is enabled.\n",
      "2022-03-16 15:11:32.436949: I tensorflow/core/grappler/optimizers/custom_graph_optimizer_registry.cc:113] Plugin optimizer for device_type GPU is enabled.\n",
      "2022-03-16 15:11:32.675791: I tensorflow/core/grappler/optimizers/custom_graph_optimizer_registry.cc:113] Plugin optimizer for device_type GPU is enabled.\n",
      "2022-03-16 15:11:34.075681: I tensorflow/core/grappler/optimizers/custom_graph_optimizer_registry.cc:113] Plugin optimizer for device_type GPU is enabled.\n",
      "2022-03-16 15:11:34.140245: I tensorflow/core/grappler/optimizers/custom_graph_optimizer_registry.cc:113] Plugin optimizer for device_type GPU is enabled.\n",
      "2022-03-16 15:11:45.911715: I tensorflow/core/grappler/optimizers/custom_graph_optimizer_registry.cc:113] Plugin optimizer for device_type GPU is enabled.\n",
      "2022-03-16 15:11:45.948268: I tensorflow/core/grappler/optimizers/custom_graph_optimizer_registry.cc:113] Plugin optimizer for device_type GPU is enabled.\n"
     ]
    },
    {
     "name": "stdout",
     "output_type": "stream",
     "text": [
      "lstm_dim: 64, batch_size: 16, validation_split: 0.2\n",
      "accuracy: 0.7703168044077136\n",
      "Model: \"model_29\"\n",
      "_________________________________________________________________\n",
      " Layer (type)                Output Shape              Param #   \n",
      "=================================================================\n",
      " input skills (InputLayer)   [(None, 99, 111)]         0         \n",
      "                                                                 \n",
      " lstm_layer (LSTM)           (None, 99, 64)            45056     \n",
      "                                                                 \n",
      " probability (TimeDistribute  (None, 99, 111)          7215      \n",
      " d)                                                              \n",
      "                                                                 \n",
      "=================================================================\n",
      "Total params: 52,271\n",
      "Trainable params: 52,271\n",
      "Non-trainable params: 0\n",
      "_________________________________________________________________\n"
     ]
    },
    {
     "name": "stderr",
     "output_type": "stream",
     "text": [
      "2022-03-16 15:11:47.833715: I tensorflow/core/grappler/optimizers/custom_graph_optimizer_registry.cc:113] Plugin optimizer for device_type GPU is enabled.\n",
      "2022-03-16 15:11:47.961624: I tensorflow/core/grappler/optimizers/custom_graph_optimizer_registry.cc:113] Plugin optimizer for device_type GPU is enabled.\n",
      "2022-03-16 15:11:48.193835: I tensorflow/core/grappler/optimizers/custom_graph_optimizer_registry.cc:113] Plugin optimizer for device_type GPU is enabled.\n",
      "2022-03-16 15:11:49.801550: I tensorflow/core/grappler/optimizers/custom_graph_optimizer_registry.cc:113] Plugin optimizer for device_type GPU is enabled.\n",
      "2022-03-16 15:11:49.855614: I tensorflow/core/grappler/optimizers/custom_graph_optimizer_registry.cc:113] Plugin optimizer for device_type GPU is enabled.\n",
      "2022-03-16 15:12:01.151055: I tensorflow/core/grappler/optimizers/custom_graph_optimizer_registry.cc:113] Plugin optimizer for device_type GPU is enabled.\n",
      "2022-03-16 15:12:01.187756: I tensorflow/core/grappler/optimizers/custom_graph_optimizer_registry.cc:113] Plugin optimizer for device_type GPU is enabled.\n"
     ]
    },
    {
     "name": "stdout",
     "output_type": "stream",
     "text": [
      "lstm_dim: 64, batch_size: 16, validation_split: 0.3\n",
      "accuracy: 0.7609618916437099\n",
      "Model: \"model_30\"\n",
      "_________________________________________________________________\n",
      " Layer (type)                Output Shape              Param #   \n",
      "=================================================================\n",
      " input skills (InputLayer)   [(None, 99, 111)]         0         \n",
      "                                                                 \n",
      " lstm_layer (LSTM)           (None, 99, 128)           122880    \n",
      "                                                                 \n",
      " probability (TimeDistribute  (None, 99, 111)          14319     \n",
      " d)                                                              \n",
      "                                                                 \n",
      "=================================================================\n",
      "Total params: 137,199\n",
      "Trainable params: 137,199\n",
      "Non-trainable params: 0\n",
      "_________________________________________________________________\n"
     ]
    },
    {
     "name": "stderr",
     "output_type": "stream",
     "text": [
      "2022-03-16 15:12:02.500474: I tensorflow/core/grappler/optimizers/custom_graph_optimizer_registry.cc:113] Plugin optimizer for device_type GPU is enabled.\n",
      "2022-03-16 15:12:02.628824: I tensorflow/core/grappler/optimizers/custom_graph_optimizer_registry.cc:113] Plugin optimizer for device_type GPU is enabled.\n",
      "2022-03-16 15:12:02.852076: I tensorflow/core/grappler/optimizers/custom_graph_optimizer_registry.cc:113] Plugin optimizer for device_type GPU is enabled.\n",
      "2022-03-16 15:12:27.427164: I tensorflow/core/grappler/optimizers/custom_graph_optimizer_registry.cc:113] Plugin optimizer for device_type GPU is enabled.\n",
      "2022-03-16 15:12:27.465194: I tensorflow/core/grappler/optimizers/custom_graph_optimizer_registry.cc:113] Plugin optimizer for device_type GPU is enabled.\n"
     ]
    },
    {
     "name": "stdout",
     "output_type": "stream",
     "text": [
      "lstm_dim: 128, batch_size: 8, validation_split: 0\n",
      "accuracy: 0.8475091827364555\n",
      "Model: \"model_31\"\n",
      "_________________________________________________________________\n",
      " Layer (type)                Output Shape              Param #   \n",
      "=================================================================\n",
      " input skills (InputLayer)   [(None, 99, 111)]         0         \n",
      "                                                                 \n",
      " lstm_layer (LSTM)           (None, 99, 128)           122880    \n",
      "                                                                 \n",
      " probability (TimeDistribute  (None, 99, 111)          14319     \n",
      " d)                                                              \n",
      "                                                                 \n",
      "=================================================================\n",
      "Total params: 137,199\n",
      "Trainable params: 137,199\n",
      "Non-trainable params: 0\n",
      "_________________________________________________________________\n"
     ]
    },
    {
     "name": "stderr",
     "output_type": "stream",
     "text": [
      "2022-03-16 15:12:28.923508: I tensorflow/core/grappler/optimizers/custom_graph_optimizer_registry.cc:113] Plugin optimizer for device_type GPU is enabled.\n",
      "2022-03-16 15:12:29.055293: I tensorflow/core/grappler/optimizers/custom_graph_optimizer_registry.cc:113] Plugin optimizer for device_type GPU is enabled.\n",
      "2022-03-16 15:12:29.301334: I tensorflow/core/grappler/optimizers/custom_graph_optimizer_registry.cc:113] Plugin optimizer for device_type GPU is enabled.\n",
      "2022-03-16 15:12:31.531691: I tensorflow/core/grappler/optimizers/custom_graph_optimizer_registry.cc:113] Plugin optimizer for device_type GPU is enabled.\n",
      "2022-03-16 15:12:31.586981: I tensorflow/core/grappler/optimizers/custom_graph_optimizer_registry.cc:113] Plugin optimizer for device_type GPU is enabled.\n",
      "2022-03-16 15:12:55.519102: I tensorflow/core/grappler/optimizers/custom_graph_optimizer_registry.cc:113] Plugin optimizer for device_type GPU is enabled.\n",
      "2022-03-16 15:12:55.568374: I tensorflow/core/grappler/optimizers/custom_graph_optimizer_registry.cc:113] Plugin optimizer for device_type GPU is enabled.\n"
     ]
    },
    {
     "name": "stdout",
     "output_type": "stream",
     "text": [
      "lstm_dim: 128, batch_size: 8, validation_split: 0.1\n",
      "accuracy: 0.8452134986225895\n",
      "Model: \"model_32\"\n",
      "_________________________________________________________________\n",
      " Layer (type)                Output Shape              Param #   \n",
      "=================================================================\n",
      " input skills (InputLayer)   [(None, 99, 111)]         0         \n",
      "                                                                 \n",
      " lstm_layer (LSTM)           (None, 99, 128)           122880    \n",
      "                                                                 \n",
      " probability (TimeDistribute  (None, 99, 111)          14319     \n",
      " d)                                                              \n",
      "                                                                 \n",
      "=================================================================\n",
      "Total params: 137,199\n",
      "Trainable params: 137,199\n",
      "Non-trainable params: 0\n",
      "_________________________________________________________________\n"
     ]
    },
    {
     "name": "stderr",
     "output_type": "stream",
     "text": [
      "2022-03-16 15:12:56.955824: I tensorflow/core/grappler/optimizers/custom_graph_optimizer_registry.cc:113] Plugin optimizer for device_type GPU is enabled.\n",
      "2022-03-16 15:12:57.087644: I tensorflow/core/grappler/optimizers/custom_graph_optimizer_registry.cc:113] Plugin optimizer for device_type GPU is enabled.\n",
      "2022-03-16 15:12:57.325195: I tensorflow/core/grappler/optimizers/custom_graph_optimizer_registry.cc:113] Plugin optimizer for device_type GPU is enabled.\n",
      "2022-03-16 15:12:59.242771: I tensorflow/core/grappler/optimizers/custom_graph_optimizer_registry.cc:113] Plugin optimizer for device_type GPU is enabled.\n",
      "2022-03-16 15:12:59.297366: I tensorflow/core/grappler/optimizers/custom_graph_optimizer_registry.cc:113] Plugin optimizer for device_type GPU is enabled.\n",
      "2022-03-16 15:13:23.508680: I tensorflow/core/grappler/optimizers/custom_graph_optimizer_registry.cc:113] Plugin optimizer for device_type GPU is enabled.\n",
      "2022-03-16 15:13:23.565071: I tensorflow/core/grappler/optimizers/custom_graph_optimizer_registry.cc:113] Plugin optimizer for device_type GPU is enabled.\n"
     ]
    },
    {
     "name": "stdout",
     "output_type": "stream",
     "text": [
      "lstm_dim: 128, batch_size: 8, validation_split: 0.2\n",
      "accuracy: 0.8366046831955923\n",
      "Model: \"model_33\"\n",
      "_________________________________________________________________\n",
      " Layer (type)                Output Shape              Param #   \n",
      "=================================================================\n",
      " input skills (InputLayer)   [(None, 99, 111)]         0         \n",
      "                                                                 \n",
      " lstm_layer (LSTM)           (None, 99, 128)           122880    \n",
      "                                                                 \n",
      " probability (TimeDistribute  (None, 99, 111)          14319     \n",
      " d)                                                              \n",
      "                                                                 \n",
      "=================================================================\n",
      "Total params: 137,199\n",
      "Trainable params: 137,199\n",
      "Non-trainable params: 0\n",
      "_________________________________________________________________\n"
     ]
    },
    {
     "name": "stderr",
     "output_type": "stream",
     "text": [
      "2022-03-16 15:13:25.154766: I tensorflow/core/grappler/optimizers/custom_graph_optimizer_registry.cc:113] Plugin optimizer for device_type GPU is enabled.\n",
      "2022-03-16 15:13:25.281558: I tensorflow/core/grappler/optimizers/custom_graph_optimizer_registry.cc:113] Plugin optimizer for device_type GPU is enabled.\n",
      "2022-03-16 15:13:25.520138: I tensorflow/core/grappler/optimizers/custom_graph_optimizer_registry.cc:113] Plugin optimizer for device_type GPU is enabled.\n",
      "2022-03-16 15:13:27.813312: I tensorflow/core/grappler/optimizers/custom_graph_optimizer_registry.cc:113] Plugin optimizer for device_type GPU is enabled.\n",
      "2022-03-16 15:13:27.868694: I tensorflow/core/grappler/optimizers/custom_graph_optimizer_registry.cc:113] Plugin optimizer for device_type GPU is enabled.\n",
      "2022-03-16 15:13:51.919028: I tensorflow/core/grappler/optimizers/custom_graph_optimizer_registry.cc:113] Plugin optimizer for device_type GPU is enabled.\n",
      "2022-03-16 15:13:51.957772: I tensorflow/core/grappler/optimizers/custom_graph_optimizer_registry.cc:113] Plugin optimizer for device_type GPU is enabled.\n"
     ]
    },
    {
     "name": "stdout",
     "output_type": "stream",
     "text": [
      "lstm_dim: 128, batch_size: 8, validation_split: 0.3\n",
      "accuracy: 0.829143709825528\n",
      "Model: \"model_34\"\n",
      "_________________________________________________________________\n",
      " Layer (type)                Output Shape              Param #   \n",
      "=================================================================\n",
      " input skills (InputLayer)   [(None, 99, 111)]         0         \n",
      "                                                                 \n",
      " lstm_layer (LSTM)           (None, 99, 128)           122880    \n",
      "                                                                 \n",
      " probability (TimeDistribute  (None, 99, 111)          14319     \n",
      " d)                                                              \n",
      "                                                                 \n",
      "=================================================================\n",
      "Total params: 137,199\n",
      "Trainable params: 137,199\n",
      "Non-trainable params: 0\n",
      "_________________________________________________________________\n"
     ]
    },
    {
     "name": "stderr",
     "output_type": "stream",
     "text": [
      "2022-03-16 15:13:53.891855: I tensorflow/core/grappler/optimizers/custom_graph_optimizer_registry.cc:113] Plugin optimizer for device_type GPU is enabled.\n",
      "2022-03-16 15:13:54.025798: I tensorflow/core/grappler/optimizers/custom_graph_optimizer_registry.cc:113] Plugin optimizer for device_type GPU is enabled.\n",
      "2022-03-16 15:13:54.264808: I tensorflow/core/grappler/optimizers/custom_graph_optimizer_registry.cc:113] Plugin optimizer for device_type GPU is enabled.\n",
      "2022-03-16 15:14:08.145647: I tensorflow/core/grappler/optimizers/custom_graph_optimizer_registry.cc:113] Plugin optimizer for device_type GPU is enabled.\n",
      "2022-03-16 15:14:08.182288: I tensorflow/core/grappler/optimizers/custom_graph_optimizer_registry.cc:113] Plugin optimizer for device_type GPU is enabled.\n"
     ]
    },
    {
     "name": "stdout",
     "output_type": "stream",
     "text": [
      "lstm_dim: 128, batch_size: 16, validation_split: 0\n",
      "accuracy: 0.8313820018365473\n",
      "Model: \"model_35\"\n",
      "_________________________________________________________________\n",
      " Layer (type)                Output Shape              Param #   \n",
      "=================================================================\n",
      " input skills (InputLayer)   [(None, 99, 111)]         0         \n",
      "                                                                 \n",
      " lstm_layer (LSTM)           (None, 99, 128)           122880    \n",
      "                                                                 \n",
      " probability (TimeDistribute  (None, 99, 111)          14319     \n",
      " d)                                                              \n",
      "                                                                 \n",
      "=================================================================\n",
      "Total params: 137,199\n",
      "Trainable params: 137,199\n",
      "Non-trainable params: 0\n",
      "_________________________________________________________________\n"
     ]
    },
    {
     "name": "stderr",
     "output_type": "stream",
     "text": [
      "2022-03-16 15:14:09.565556: I tensorflow/core/grappler/optimizers/custom_graph_optimizer_registry.cc:113] Plugin optimizer for device_type GPU is enabled.\n",
      "2022-03-16 15:14:09.711537: I tensorflow/core/grappler/optimizers/custom_graph_optimizer_registry.cc:113] Plugin optimizer for device_type GPU is enabled.\n",
      "2022-03-16 15:14:09.946465: I tensorflow/core/grappler/optimizers/custom_graph_optimizer_registry.cc:113] Plugin optimizer for device_type GPU is enabled.\n",
      "2022-03-16 15:14:11.603948: I tensorflow/core/grappler/optimizers/custom_graph_optimizer_registry.cc:113] Plugin optimizer for device_type GPU is enabled.\n",
      "2022-03-16 15:14:11.657188: I tensorflow/core/grappler/optimizers/custom_graph_optimizer_registry.cc:113] Plugin optimizer for device_type GPU is enabled.\n",
      "2022-03-16 15:14:24.143558: I tensorflow/core/grappler/optimizers/custom_graph_optimizer_registry.cc:113] Plugin optimizer for device_type GPU is enabled.\n",
      "2022-03-16 15:14:24.187094: I tensorflow/core/grappler/optimizers/custom_graph_optimizer_registry.cc:113] Plugin optimizer for device_type GPU is enabled.\n"
     ]
    },
    {
     "name": "stdout",
     "output_type": "stream",
     "text": [
      "lstm_dim: 128, batch_size: 16, validation_split: 0.1\n",
      "accuracy: 0.8251262626262627\n",
      "Model: \"model_36\"\n",
      "_________________________________________________________________\n",
      " Layer (type)                Output Shape              Param #   \n",
      "=================================================================\n",
      " input skills (InputLayer)   [(None, 99, 111)]         0         \n",
      "                                                                 \n",
      " lstm_layer (LSTM)           (None, 99, 128)           122880    \n",
      "                                                                 \n",
      " probability (TimeDistribute  (None, 99, 111)          14319     \n",
      " d)                                                              \n",
      "                                                                 \n",
      "=================================================================\n",
      "Total params: 137,199\n",
      "Trainable params: 137,199\n",
      "Non-trainable params: 0\n",
      "_________________________________________________________________\n"
     ]
    },
    {
     "name": "stderr",
     "output_type": "stream",
     "text": [
      "2022-03-16 15:14:26.117503: I tensorflow/core/grappler/optimizers/custom_graph_optimizer_registry.cc:113] Plugin optimizer for device_type GPU is enabled.\n",
      "2022-03-16 15:14:26.259244: I tensorflow/core/grappler/optimizers/custom_graph_optimizer_registry.cc:113] Plugin optimizer for device_type GPU is enabled.\n",
      "2022-03-16 15:14:26.496170: I tensorflow/core/grappler/optimizers/custom_graph_optimizer_registry.cc:113] Plugin optimizer for device_type GPU is enabled.\n",
      "2022-03-16 15:14:27.958969: I tensorflow/core/grappler/optimizers/custom_graph_optimizer_registry.cc:113] Plugin optimizer for device_type GPU is enabled.\n",
      "2022-03-16 15:14:28.013131: I tensorflow/core/grappler/optimizers/custom_graph_optimizer_registry.cc:113] Plugin optimizer for device_type GPU is enabled.\n",
      "2022-03-16 15:14:40.201924: I tensorflow/core/grappler/optimizers/custom_graph_optimizer_registry.cc:113] Plugin optimizer for device_type GPU is enabled.\n",
      "2022-03-16 15:14:40.242467: I tensorflow/core/grappler/optimizers/custom_graph_optimizer_registry.cc:113] Plugin optimizer for device_type GPU is enabled.\n"
     ]
    },
    {
     "name": "stdout",
     "output_type": "stream",
     "text": [
      "lstm_dim: 128, batch_size: 16, validation_split: 0.2\n",
      "accuracy: 0.8097451790633609\n",
      "Model: \"model_37\"\n",
      "_________________________________________________________________\n",
      " Layer (type)                Output Shape              Param #   \n",
      "=================================================================\n",
      " input skills (InputLayer)   [(None, 99, 111)]         0         \n",
      "                                                                 \n",
      " lstm_layer (LSTM)           (None, 99, 128)           122880    \n",
      "                                                                 \n",
      " probability (TimeDistribute  (None, 99, 111)          14319     \n",
      " d)                                                              \n",
      "                                                                 \n",
      "=================================================================\n",
      "Total params: 137,199\n",
      "Trainable params: 137,199\n",
      "Non-trainable params: 0\n",
      "_________________________________________________________________\n"
     ]
    },
    {
     "name": "stderr",
     "output_type": "stream",
     "text": [
      "2022-03-16 15:14:41.677219: I tensorflow/core/grappler/optimizers/custom_graph_optimizer_registry.cc:113] Plugin optimizer for device_type GPU is enabled.\n",
      "2022-03-16 15:14:41.836423: I tensorflow/core/grappler/optimizers/custom_graph_optimizer_registry.cc:113] Plugin optimizer for device_type GPU is enabled.\n",
      "2022-03-16 15:14:42.076767: I tensorflow/core/grappler/optimizers/custom_graph_optimizer_registry.cc:113] Plugin optimizer for device_type GPU is enabled.\n",
      "2022-03-16 15:14:43.641526: I tensorflow/core/grappler/optimizers/custom_graph_optimizer_registry.cc:113] Plugin optimizer for device_type GPU is enabled.\n",
      "2022-03-16 15:14:43.694018: I tensorflow/core/grappler/optimizers/custom_graph_optimizer_registry.cc:113] Plugin optimizer for device_type GPU is enabled.\n",
      "2022-03-16 15:14:55.297974: I tensorflow/core/grappler/optimizers/custom_graph_optimizer_registry.cc:113] Plugin optimizer for device_type GPU is enabled.\n",
      "2022-03-16 15:14:55.343752: I tensorflow/core/grappler/optimizers/custom_graph_optimizer_registry.cc:113] Plugin optimizer for device_type GPU is enabled.\n"
     ]
    },
    {
     "name": "stdout",
     "output_type": "stream",
     "text": [
      "lstm_dim: 128, batch_size: 16, validation_split: 0.3\n",
      "accuracy: 0.7976354453627181\n"
     ]
    }
   ],
   "source": [
    "# lstm_dim: 128, batch_size: 8, validation_split: 0\n",
    "# accuracy: 0.8475091827364555\n",
    "for lstm_dim in [64, 128]:\n",
    "    for batch_size in [8, 16]:\n",
    "        for validation_split in [0, 0.1, 0.2, 0.3]:\n",
    "            skill2skill_model = build_skill2skill_model((99, skill_num), lstm_dim=lstm_dim)\n",
    "\n",
    "            skill2skill_model.fit(X_train, \n",
    "                                  y_train,\n",
    "                                  epochs=20, \n",
    "                                  batch_size=batch_size, \n",
    "                                  shuffle=True,\n",
    "                                  validation_split=validation_split, verbose=0)\n",
    "\n",
    "            y_pred = skill2skill_model.predict(X_test)\n",
    "\n",
    "            y_pred_binary = y_pred[:]\n",
    "\n",
    "            for si, student in enumerate(y_pred_binary):\n",
    "                for ri, response in enumerate(student):\n",
    "                    label = max(response)\n",
    "                    y_pred_binary[si][ri] = [1 if r == label else 0 for r in response]\n",
    "\n",
    "            print('lstm_dim: %s, batch_size: %s, validation_split: %s' % (lstm_dim, batch_size, validation_split))\n",
    "            print('accuracy: %s' % accuracy_score([b for a in y_test for b in a], [b for a in y_pred_binary for b in a]))"
   ]
  },
  {
   "cell_type": "code",
   "execution_count": 373,
   "metadata": {},
   "outputs": [],
   "source": [
    "# x: [skill_response_array[:, 0:-1], skill_array[:, 1:]],\n",
    "# y: response_array[:, 1:, np.newaxis]"
   ]
  },
  {
   "cell_type": "code",
   "execution_count": 8,
   "metadata": {},
   "outputs": [],
   "source": [
    "test_size = 0.3\n",
    "\n",
    "idx_split = np.array(range(len(skill_response_array[:, 0:-1])))\n",
    "np.random.shuffle(idx_split)\n",
    "\n",
    "X_train = skill_response_array[:, 0:-1][idx_split[int(test_size * len(idx_split)):]]\n",
    "y_train = response_array[:, 1:, np.newaxis][idx_split[int(test_size * len(idx_split)):]]\n",
    "skills_train = skill_array[:, 1:][idx_split[int(test_size * len(idx_split)):]]\n",
    "\n",
    "X_test = skill_response_array[:, 0:-1][idx_split[:int(test_size * len(idx_split))]]\n",
    "y_test = response_array[:, 1:, np.newaxis][idx_split[:int(test_size * len(idx_split))]]\n",
    "skills_test = skill_array[:, 1:][idx_split[:int(test_size * len(idx_split))]]"
   ]
  },
  {
   "cell_type": "code",
   "execution_count": 11,
   "metadata": {},
   "outputs": [],
   "source": [
    "from sklearn.metrics import accuracy_score, roc_auc_score"
   ]
  },
  {
   "cell_type": "code",
   "execution_count": 12,
   "metadata": {},
   "outputs": [
    {
     "name": "stdout",
     "output_type": "stream",
     "text": [
      "Model: \"model_3\"\n",
      "__________________________________________________________________________________________________\n",
      " Layer (type)                   Output Shape         Param #     Connected to                     \n",
      "==================================================================================================\n",
      " input skills (InputLayer)      [(None, 99, 222)]    0           []                               \n",
      "                                                                                                  \n",
      " lstm_layer (LSTM)              (None, 99, 32)       32640       ['input skills[0][0]']           \n",
      "                                                                                                  \n",
      " probability_for_each (TimeDist  (None, 99, 111)     3663        ['lstm_layer[0][0]']             \n",
      " ributed)                                                                                         \n",
      "                                                                                                  \n",
      " next_skill_tested (InputLayer)  [(None, 99, 111)]   0           []                               \n",
      "                                                                                                  \n",
      " multiply (Multiply)            (None, 99, 111)      0           ['probability_for_each[0][0]',   \n",
      "                                                                  'next_skill_tested[0][0]']      \n",
      "                                                                                                  \n",
      " reduce_dim (Lambda)            (None, 99, 1)        0           ['multiply[0][0]']               \n",
      "                                                                                                  \n",
      "==================================================================================================\n",
      "Total params: 36,303\n",
      "Trainable params: 36,303\n",
      "Non-trainable params: 0\n",
      "__________________________________________________________________________________________________\n",
      "Epoch 1/20\n"
     ]
    },
    {
     "name": "stderr",
     "output_type": "stream",
     "text": [
      "2022-03-28 20:55:00.576764: I tensorflow/core/grappler/optimizers/custom_graph_optimizer_registry.cc:113] Plugin optimizer for device_type GPU is enabled.\n",
      "2022-03-28 20:55:00.710050: I tensorflow/core/grappler/optimizers/custom_graph_optimizer_registry.cc:113] Plugin optimizer for device_type GPU is enabled.\n"
     ]
    },
    {
     "name": "stdout",
     "output_type": "stream",
     "text": [
      " 1/11 [=>............................] - ETA: 11s - loss: 0.6912 - accuracy: 0.5581"
     ]
    },
    {
     "name": "stderr",
     "output_type": "stream",
     "text": [
      "2022-03-28 20:55:00.842023: I tensorflow/core/grappler/optimizers/custom_graph_optimizer_registry.cc:113] Plugin optimizer for device_type GPU is enabled.\n"
     ]
    },
    {
     "name": "stdout",
     "output_type": "stream",
     "text": [
      "11/11 [==============================] - ETA: 0s - loss: 0.6825 - accuracy: 0.6966"
     ]
    },
    {
     "name": "stderr",
     "output_type": "stream",
     "text": [
      "2022-03-28 20:55:01.656953: I tensorflow/core/grappler/optimizers/custom_graph_optimizer_registry.cc:113] Plugin optimizer for device_type GPU is enabled.\n",
      "2022-03-28 20:55:01.712560: I tensorflow/core/grappler/optimizers/custom_graph_optimizer_registry.cc:113] Plugin optimizer for device_type GPU is enabled.\n"
     ]
    },
    {
     "name": "stdout",
     "output_type": "stream",
     "text": [
      "11/11 [==============================] - 2s 90ms/step - loss: 0.6825 - accuracy: 0.6966 - val_loss: 0.6714 - val_accuracy: 0.7959\n",
      "Epoch 2/20\n",
      "11/11 [==============================] - 0s 27ms/step - loss: 0.6608 - accuracy: 0.8190 - val_loss: 0.6480 - val_accuracy: 0.8235\n",
      "Epoch 3/20\n",
      "11/11 [==============================] - 0s 27ms/step - loss: 0.6270 - accuracy: 0.8338 - val_loss: 0.6062 - val_accuracy: 0.8001\n",
      "Epoch 4/20\n",
      "11/11 [==============================] - 0s 26ms/step - loss: 0.5671 - accuracy: 0.8124 - val_loss: 0.5458 - val_accuracy: 0.8142\n",
      "Epoch 5/20\n",
      "11/11 [==============================] - 0s 25ms/step - loss: 0.5027 - accuracy: 0.8415 - val_loss: 0.4995 - val_accuracy: 0.8386\n",
      "Epoch 6/20\n",
      "11/11 [==============================] - 0s 26ms/step - loss: 0.4633 - accuracy: 0.8489 - val_loss: 0.4763 - val_accuracy: 0.8402\n",
      "Epoch 7/20\n",
      "11/11 [==============================] - 0s 25ms/step - loss: 0.4456 - accuracy: 0.8500 - val_loss: 0.4634 - val_accuracy: 0.8402\n",
      "Epoch 8/20\n",
      "11/11 [==============================] - 0s 25ms/step - loss: 0.4378 - accuracy: 0.8506 - val_loss: 0.4568 - val_accuracy: 0.8401\n",
      "Epoch 9/20\n",
      "11/11 [==============================] - 0s 26ms/step - loss: 0.4330 - accuracy: 0.8506 - val_loss: 0.4521 - val_accuracy: 0.8401\n",
      "Epoch 10/20\n",
      "11/11 [==============================] - 0s 25ms/step - loss: 0.4305 - accuracy: 0.8506 - val_loss: 0.4489 - val_accuracy: 0.8404\n",
      "Epoch 11/20\n",
      "11/11 [==============================] - 0s 26ms/step - loss: 0.4291 - accuracy: 0.8506 - val_loss: 0.4494 - val_accuracy: 0.8402\n",
      "Epoch 12/20\n",
      "11/11 [==============================] - 0s 26ms/step - loss: 0.4281 - accuracy: 0.8509 - val_loss: 0.4500 - val_accuracy: 0.8404\n",
      "Epoch 13/20\n",
      "11/11 [==============================] - 0s 26ms/step - loss: 0.4273 - accuracy: 0.8510 - val_loss: 0.4486 - val_accuracy: 0.8405\n",
      "Epoch 14/20\n",
      "11/11 [==============================] - 0s 26ms/step - loss: 0.4266 - accuracy: 0.8510 - val_loss: 0.4494 - val_accuracy: 0.8404\n",
      "Epoch 15/20\n",
      "11/11 [==============================] - 0s 26ms/step - loss: 0.4260 - accuracy: 0.8510 - val_loss: 0.4487 - val_accuracy: 0.8405\n",
      "Epoch 16/20\n",
      "11/11 [==============================] - 0s 26ms/step - loss: 0.4254 - accuracy: 0.8509 - val_loss: 0.4485 - val_accuracy: 0.8405\n",
      "Epoch 17/20\n",
      "11/11 [==============================] - 0s 26ms/step - loss: 0.4249 - accuracy: 0.8510 - val_loss: 0.4493 - val_accuracy: 0.8405\n",
      "Epoch 18/20\n",
      "11/11 [==============================] - 0s 26ms/step - loss: 0.4246 - accuracy: 0.8510 - val_loss: 0.4466 - val_accuracy: 0.8404\n",
      "Epoch 19/20\n",
      "11/11 [==============================] - 0s 25ms/step - loss: 0.4241 - accuracy: 0.8510 - val_loss: 0.4469 - val_accuracy: 0.8404\n",
      "Epoch 20/20\n",
      "11/11 [==============================] - 0s 26ms/step - loss: 0.4241 - accuracy: 0.8510 - val_loss: 0.4465 - val_accuracy: 0.8404\n"
     ]
    },
    {
     "name": "stderr",
     "output_type": "stream",
     "text": [
      "2022-03-28 20:55:07.422326: I tensorflow/core/grappler/optimizers/custom_graph_optimizer_registry.cc:113] Plugin optimizer for device_type GPU is enabled.\n",
      "2022-03-28 20:55:07.458769: I tensorflow/core/grappler/optimizers/custom_graph_optimizer_registry.cc:113] Plugin optimizer for device_type GPU is enabled.\n"
     ]
    },
    {
     "name": "stdout",
     "output_type": "stream",
     "text": [
      "accuracy: 0.8510822510822511\n",
      "auc: 0.5010858551582025\n"
     ]
    }
   ],
   "source": [
    "dkt_model = build_dkt_model((99, 2 * skill_num))\n",
    "\n",
    "# train DKT \n",
    "dkt_model.fit([X_train, skills_train],\n",
    "              response_array[:, 1:, np.newaxis],\n",
    "              epochs=20, \n",
    "              batch_size=32, \n",
    "              shuffle=True,\n",
    "              validation_split=0.2)\n",
    "            \n",
    "y_pred = dkt_model.predict([X_test, skills_test])\n",
    "\n",
    "y_pred_binary = y_pred[:]\n",
    "\n",
    "pred_auc = [b[0] for a in y_pred for b in a]\n",
    "\n",
    "for si, student in enumerate(y_pred_binary):\n",
    "    for ri, response in enumerate(student):\n",
    "        y_pred_binary[si][ri][0] = round(y_pred_binary[si][ri][0])\n",
    "\n",
    "y = [b[0] for a in y_test for b in a]\n",
    "pred = [b[0] for a in y_pred_binary for b in a]\n",
    "\n",
    "print('accuracy: %s' % (accuracy_score(y, pred)))\n",
    "print('auc: %s' % (roc_auc_score(y, pred)))"
   ]
  },
  {
   "cell_type": "code",
   "execution_count": 460,
   "metadata": {},
   "outputs": [
    {
     "name": "stdout",
     "output_type": "stream",
     "text": [
      "Model: \"model_45\"\n",
      "__________________________________________________________________________________________________\n",
      " Layer (type)                   Output Shape         Param #     Connected to                     \n",
      "==================================================================================================\n",
      " input skills (InputLayer)      [(None, 99, 222)]    0           []                               \n",
      "                                                                                                  \n",
      " lstm_layer (LSTM)              (None, 99, 64)       73472       ['input skills[0][0]']           \n",
      "                                                                                                  \n",
      " probability_for_each (TimeDist  (None, 99, 111)     7215        ['lstm_layer[0][0]']             \n",
      " ributed)                                                                                         \n",
      "                                                                                                  \n",
      " next_skill_tested (InputLayer)  [(None, 99, 111)]   0           []                               \n",
      "                                                                                                  \n",
      " multiply (Multiply)            (None, 99, 111)      0           ['probability_for_each[0][0]',   \n",
      "                                                                  'next_skill_tested[0][0]']      \n",
      "                                                                                                  \n",
      " reduce_dim (Lambda)            (None, 99, 1)        0           ['multiply[0][0]']               \n",
      "                                                                                                  \n",
      "==================================================================================================\n",
      "Total params: 80,687\n",
      "Trainable params: 80,687\n",
      "Non-trainable params: 0\n",
      "__________________________________________________________________________________________________\n",
      "Epoch 1/20\n"
     ]
    },
    {
     "name": "stderr",
     "output_type": "stream",
     "text": [
      "2022-03-18 11:46:36.186365: I tensorflow/core/grappler/optimizers/custom_graph_optimizer_registry.cc:113] Plugin optimizer for device_type GPU is enabled.\n",
      "2022-03-18 11:46:36.356237: I tensorflow/core/grappler/optimizers/custom_graph_optimizer_registry.cc:113] Plugin optimizer for device_type GPU is enabled.\n",
      "2022-03-18 11:46:36.615940: I tensorflow/core/grappler/optimizers/custom_graph_optimizer_registry.cc:113] Plugin optimizer for device_type GPU is enabled.\n"
     ]
    },
    {
     "name": "stdout",
     "output_type": "stream",
     "text": [
      "52/52 [==============================] - 3s 36ms/step - loss: 0.5756 - accuracy: 0.7881\n",
      "Epoch 2/20\n",
      "52/52 [==============================] - 1s 27ms/step - loss: 0.4103 - accuracy: 0.8474\n",
      "Epoch 3/20\n",
      "52/52 [==============================] - 1s 28ms/step - loss: 0.3872 - accuracy: 0.8516\n",
      "Epoch 4/20\n",
      "52/52 [==============================] - 1s 28ms/step - loss: 0.3779 - accuracy: 0.8548\n",
      "Epoch 5/20\n",
      "52/52 [==============================] - 1s 28ms/step - loss: 0.3706 - accuracy: 0.8551\n",
      "Epoch 6/20\n",
      "52/52 [==============================] - 1s 28ms/step - loss: 0.3640 - accuracy: 0.8569\n",
      "Epoch 7/20\n",
      "52/52 [==============================] - 1s 29ms/step - loss: 0.4005 - accuracy: 0.8389\n",
      "Epoch 8/20\n",
      "52/52 [==============================] - 1s 26ms/step - loss: 0.3714 - accuracy: 0.8559\n",
      "Epoch 9/20\n",
      "52/52 [==============================] - 1s 26ms/step - loss: 0.3653 - accuracy: 0.8558\n",
      "Epoch 10/20\n",
      "52/52 [==============================] - 1s 26ms/step - loss: 0.3581 - accuracy: 0.8580\n",
      "Epoch 11/20\n",
      "52/52 [==============================] - 1s 25ms/step - loss: 0.3534 - accuracy: 0.8602\n",
      "Epoch 12/20\n",
      "52/52 [==============================] - 1s 24ms/step - loss: 0.3495 - accuracy: 0.8615\n",
      "Epoch 13/20\n",
      "52/52 [==============================] - 1s 25ms/step - loss: 0.3461 - accuracy: 0.8628\n",
      "Epoch 14/20\n",
      "52/52 [==============================] - 1s 25ms/step - loss: 0.3445 - accuracy: 0.8635\n",
      "Epoch 15/20\n",
      "52/52 [==============================] - 1s 25ms/step - loss: 0.3417 - accuracy: 0.8643\n",
      "Epoch 16/20\n",
      "52/52 [==============================] - 1s 25ms/step - loss: 0.3384 - accuracy: 0.8652\n",
      "Epoch 17/20\n",
      "52/52 [==============================] - 1s 24ms/step - loss: 0.3376 - accuracy: 0.8656\n",
      "Epoch 18/20\n",
      "52/52 [==============================] - 1s 25ms/step - loss: 0.3348 - accuracy: 0.8673\n",
      "Epoch 19/20\n",
      "52/52 [==============================] - 1s 25ms/step - loss: 0.3343 - accuracy: 0.8677\n",
      "Epoch 20/20\n",
      "52/52 [==============================] - 1s 28ms/step - loss: 0.3318 - accuracy: 0.8681\n"
     ]
    },
    {
     "name": "stderr",
     "output_type": "stream",
     "text": [
      "2022-03-18 11:47:04.880698: I tensorflow/core/grappler/optimizers/custom_graph_optimizer_registry.cc:113] Plugin optimizer for device_type GPU is enabled.\n",
      "2022-03-18 11:47:04.928637: I tensorflow/core/grappler/optimizers/custom_graph_optimizer_registry.cc:113] Plugin optimizer for device_type GPU is enabled.\n"
     ]
    },
    {
     "name": "stdout",
     "output_type": "stream",
     "text": [
      "lstm_dim: 64 | batch_size: 8 | validation_split: 0\n",
      "accuracy: 0.8555844155844156\n",
      "auc: 0.6020983833942904\n",
      "Model: \"model_46\"\n",
      "__________________________________________________________________________________________________\n",
      " Layer (type)                   Output Shape         Param #     Connected to                     \n",
      "==================================================================================================\n",
      " input skills (InputLayer)      [(None, 99, 222)]    0           []                               \n",
      "                                                                                                  \n",
      " lstm_layer (LSTM)              (None, 99, 64)       73472       ['input skills[0][0]']           \n",
      "                                                                                                  \n",
      " probability_for_each (TimeDist  (None, 99, 111)     7215        ['lstm_layer[0][0]']             \n",
      " ributed)                                                                                         \n",
      "                                                                                                  \n",
      " next_skill_tested (InputLayer)  [(None, 99, 111)]   0           []                               \n",
      "                                                                                                  \n",
      " multiply (Multiply)            (None, 99, 111)      0           ['probability_for_each[0][0]',   \n",
      "                                                                  'next_skill_tested[0][0]']      \n",
      "                                                                                                  \n",
      " reduce_dim (Lambda)            (None, 99, 1)        0           ['multiply[0][0]']               \n",
      "                                                                                                  \n",
      "==================================================================================================\n",
      "Total params: 80,687\n",
      "Trainable params: 80,687\n",
      "Non-trainable params: 0\n",
      "__________________________________________________________________________________________________\n",
      "Epoch 1/20\n"
     ]
    },
    {
     "name": "stderr",
     "output_type": "stream",
     "text": [
      "/Users/elipleaner/miniconda3/lib/python3.8/site-packages/keras/optimizer_v2/adam.py:105: UserWarning: The `lr` argument is deprecated, use `learning_rate` instead.\n",
      "  super(Adam, self).__init__(name, **kwargs)\n",
      "2022-03-18 11:47:06.641585: I tensorflow/core/grappler/optimizers/custom_graph_optimizer_registry.cc:113] Plugin optimizer for device_type GPU is enabled.\n",
      "2022-03-18 11:47:06.769455: I tensorflow/core/grappler/optimizers/custom_graph_optimizer_registry.cc:113] Plugin optimizer for device_type GPU is enabled.\n",
      "2022-03-18 11:47:06.997847: I tensorflow/core/grappler/optimizers/custom_graph_optimizer_registry.cc:113] Plugin optimizer for device_type GPU is enabled.\n"
     ]
    },
    {
     "name": "stdout",
     "output_type": "stream",
     "text": [
      "46/46 [==============================] - ETA: 0s - loss: 0.5828 - accuracy: 0.7915"
     ]
    },
    {
     "name": "stderr",
     "output_type": "stream",
     "text": [
      "2022-03-18 11:47:08.946827: I tensorflow/core/grappler/optimizers/custom_graph_optimizer_registry.cc:113] Plugin optimizer for device_type GPU is enabled.\n",
      "2022-03-18 11:47:09.013906: I tensorflow/core/grappler/optimizers/custom_graph_optimizer_registry.cc:113] Plugin optimizer for device_type GPU is enabled.\n"
     ]
    },
    {
     "name": "stdout",
     "output_type": "stream",
     "text": [
      "46/46 [==============================] - 4s 46ms/step - loss: 0.5828 - accuracy: 0.7915 - val_loss: 0.4341 - val_accuracy: 0.8485\n",
      "Epoch 2/20\n",
      "46/46 [==============================] - 1s 28ms/step - loss: 0.4178 - accuracy: 0.8463 - val_loss: 0.3812 - val_accuracy: 0.8591\n",
      "Epoch 3/20\n",
      "46/46 [==============================] - 1s 27ms/step - loss: 0.3947 - accuracy: 0.8494 - val_loss: 0.3746 - val_accuracy: 0.8593\n",
      "Epoch 4/20\n",
      "46/46 [==============================] - 1s 28ms/step - loss: 0.3887 - accuracy: 0.8497 - val_loss: 0.3688 - val_accuracy: 0.8588\n",
      "Epoch 5/20\n",
      "46/46 [==============================] - 1s 26ms/step - loss: 0.3810 - accuracy: 0.8538 - val_loss: 0.3844 - val_accuracy: 0.8645\n",
      "Epoch 6/20\n",
      "46/46 [==============================] - 1s 26ms/step - loss: 0.3763 - accuracy: 0.8546 - val_loss: 0.3592 - val_accuracy: 0.8596\n",
      "Epoch 7/20\n",
      "46/46 [==============================] - 1s 26ms/step - loss: 0.3698 - accuracy: 0.8545 - val_loss: 0.3648 - val_accuracy: 0.8588\n",
      "Epoch 8/20\n",
      "46/46 [==============================] - 1s 26ms/step - loss: 0.3680 - accuracy: 0.8557 - val_loss: 0.3534 - val_accuracy: 0.8593\n",
      "Epoch 9/20\n",
      "46/46 [==============================] - 1s 25ms/step - loss: 0.3603 - accuracy: 0.8576 - val_loss: 0.3495 - val_accuracy: 0.8591\n",
      "Epoch 10/20\n",
      "46/46 [==============================] - 1s 26ms/step - loss: 0.3559 - accuracy: 0.8584 - val_loss: 0.3473 - val_accuracy: 0.8586\n",
      "Epoch 11/20\n",
      "46/46 [==============================] - 1s 26ms/step - loss: 0.3535 - accuracy: 0.8591 - val_loss: 0.3436 - val_accuracy: 0.8603\n",
      "Epoch 12/20\n",
      "46/46 [==============================] - 1s 27ms/step - loss: 0.3498 - accuracy: 0.8611 - val_loss: 0.3389 - val_accuracy: 0.8635\n",
      "Epoch 13/20\n",
      "46/46 [==============================] - 1s 26ms/step - loss: 0.3447 - accuracy: 0.8627 - val_loss: 0.3372 - val_accuracy: 0.8633\n",
      "Epoch 14/20\n",
      "46/46 [==============================] - 1s 26ms/step - loss: 0.3443 - accuracy: 0.8638 - val_loss: 0.3395 - val_accuracy: 0.8610\n",
      "Epoch 15/20\n",
      "46/46 [==============================] - 1s 26ms/step - loss: 0.3402 - accuracy: 0.8653 - val_loss: 0.3362 - val_accuracy: 0.8670\n",
      "Epoch 16/20\n",
      "46/46 [==============================] - 1s 26ms/step - loss: 0.3381 - accuracy: 0.8654 - val_loss: 0.3348 - val_accuracy: 0.8665\n",
      "Epoch 17/20\n",
      "46/46 [==============================] - 1s 27ms/step - loss: 0.3371 - accuracy: 0.8665 - val_loss: 0.3339 - val_accuracy: 0.8655\n",
      "Epoch 18/20\n",
      "46/46 [==============================] - 1s 26ms/step - loss: 0.3342 - accuracy: 0.8677 - val_loss: 0.3315 - val_accuracy: 0.8677\n",
      "Epoch 19/20\n",
      "46/46 [==============================] - 1s 28ms/step - loss: 0.3321 - accuracy: 0.8679 - val_loss: 0.3397 - val_accuracy: 0.8640\n",
      "Epoch 20/20\n",
      "46/46 [==============================] - 1s 26ms/step - loss: 0.3339 - accuracy: 0.8677 - val_loss: 0.3308 - val_accuracy: 0.8652\n"
     ]
    },
    {
     "name": "stderr",
     "output_type": "stream",
     "text": [
      "2022-03-18 11:47:32.590812: I tensorflow/core/grappler/optimizers/custom_graph_optimizer_registry.cc:113] Plugin optimizer for device_type GPU is enabled.\n",
      "2022-03-18 11:47:32.647736: I tensorflow/core/grappler/optimizers/custom_graph_optimizer_registry.cc:113] Plugin optimizer for device_type GPU is enabled.\n"
     ]
    },
    {
     "name": "stdout",
     "output_type": "stream",
     "text": [
      "lstm_dim: 64 | batch_size: 8 | validation_split: 0.1\n",
      "accuracy: 0.855007215007215\n",
      "auc: 0.5908646420518842\n",
      "Model: \"model_47\"\n",
      "__________________________________________________________________________________________________\n",
      " Layer (type)                   Output Shape         Param #     Connected to                     \n",
      "==================================================================================================\n",
      " input skills (InputLayer)      [(None, 99, 222)]    0           []                               \n",
      "                                                                                                  \n",
      " lstm_layer (LSTM)              (None, 99, 64)       73472       ['input skills[0][0]']           \n",
      "                                                                                                  \n",
      " probability_for_each (TimeDist  (None, 99, 111)     7215        ['lstm_layer[0][0]']             \n",
      " ributed)                                                                                         \n",
      "                                                                                                  \n",
      " next_skill_tested (InputLayer)  [(None, 99, 111)]   0           []                               \n",
      "                                                                                                  \n",
      " multiply (Multiply)            (None, 99, 111)      0           ['probability_for_each[0][0]',   \n",
      "                                                                  'next_skill_tested[0][0]']      \n",
      "                                                                                                  \n",
      " reduce_dim (Lambda)            (None, 99, 1)        0           ['multiply[0][0]']               \n",
      "                                                                                                  \n",
      "==================================================================================================\n",
      "Total params: 80,687\n",
      "Trainable params: 80,687\n",
      "Non-trainable params: 0\n",
      "__________________________________________________________________________________________________\n",
      "Epoch 1/20\n"
     ]
    },
    {
     "name": "stderr",
     "output_type": "stream",
     "text": [
      "/Users/elipleaner/miniconda3/lib/python3.8/site-packages/keras/optimizer_v2/adam.py:105: UserWarning: The `lr` argument is deprecated, use `learning_rate` instead.\n",
      "  super(Adam, self).__init__(name, **kwargs)\n",
      "2022-03-18 11:47:33.777974: I tensorflow/core/grappler/optimizers/custom_graph_optimizer_registry.cc:113] Plugin optimizer for device_type GPU is enabled.\n",
      "2022-03-18 11:47:33.929226: I tensorflow/core/grappler/optimizers/custom_graph_optimizer_registry.cc:113] Plugin optimizer for device_type GPU is enabled.\n",
      "2022-03-18 11:47:34.182919: I tensorflow/core/grappler/optimizers/custom_graph_optimizer_registry.cc:113] Plugin optimizer for device_type GPU is enabled.\n"
     ]
    },
    {
     "name": "stdout",
     "output_type": "stream",
     "text": [
      "41/41 [==============================] - ETA: 0s - loss: 0.6126 - accuracy: 0.7841"
     ]
    },
    {
     "name": "stderr",
     "output_type": "stream",
     "text": [
      "2022-03-18 11:47:36.204391: I tensorflow/core/grappler/optimizers/custom_graph_optimizer_registry.cc:113] Plugin optimizer for device_type GPU is enabled.\n",
      "2022-03-18 11:47:36.271559: I tensorflow/core/grappler/optimizers/custom_graph_optimizer_registry.cc:113] Plugin optimizer for device_type GPU is enabled.\n"
     ]
    },
    {
     "name": "stdout",
     "output_type": "stream",
     "text": [
      "41/41 [==============================] - 4s 59ms/step - loss: 0.6126 - accuracy: 0.7841 - val_loss: 0.4769 - val_accuracy: 0.8422\n",
      "Epoch 2/20\n",
      "41/41 [==============================] - 1s 34ms/step - loss: 0.4314 - accuracy: 0.8445 - val_loss: 0.3859 - val_accuracy: 0.8575\n",
      "Epoch 3/20\n",
      "41/41 [==============================] - 1s 30ms/step - loss: 0.3980 - accuracy: 0.8490 - val_loss: 0.3765 - val_accuracy: 0.8590\n",
      "Epoch 4/20\n",
      "41/41 [==============================] - 1s 30ms/step - loss: 0.3848 - accuracy: 0.8531 - val_loss: 0.3704 - val_accuracy: 0.8590\n",
      "Epoch 5/20\n",
      "41/41 [==============================] - 1s 31ms/step - loss: 0.3778 - accuracy: 0.8553 - val_loss: 0.3663 - val_accuracy: 0.8603\n",
      "Epoch 6/20\n",
      "41/41 [==============================] - 1s 30ms/step - loss: 0.3727 - accuracy: 0.8566 - val_loss: 0.3602 - val_accuracy: 0.8588\n",
      "Epoch 7/20\n",
      "41/41 [==============================] - 1s 30ms/step - loss: 0.3668 - accuracy: 0.8560 - val_loss: 0.3546 - val_accuracy: 0.8606\n",
      "Epoch 8/20\n",
      "41/41 [==============================] - 1s 30ms/step - loss: 0.3636 - accuracy: 0.8575 - val_loss: 0.3545 - val_accuracy: 0.8596\n",
      "Epoch 9/20\n",
      "41/41 [==============================] - 1s 30ms/step - loss: 0.3588 - accuracy: 0.8594 - val_loss: 0.3492 - val_accuracy: 0.8597\n",
      "Epoch 10/20\n",
      "41/41 [==============================] - 1s 31ms/step - loss: 0.3530 - accuracy: 0.8610 - val_loss: 0.3466 - val_accuracy: 0.8598\n",
      "Epoch 11/20\n",
      "41/41 [==============================] - 1s 31ms/step - loss: 0.3498 - accuracy: 0.8622 - val_loss: 0.3484 - val_accuracy: 0.8602\n",
      "Epoch 12/20\n",
      "41/41 [==============================] - 1s 33ms/step - loss: 0.3488 - accuracy: 0.8627 - val_loss: 0.3430 - val_accuracy: 0.8597\n",
      "Epoch 13/20\n",
      "41/41 [==============================] - 1s 34ms/step - loss: 0.3452 - accuracy: 0.8644 - val_loss: 0.3417 - val_accuracy: 0.8612\n",
      "Epoch 14/20\n",
      "41/41 [==============================] - 1s 30ms/step - loss: 0.3462 - accuracy: 0.8630 - val_loss: 0.3442 - val_accuracy: 0.8609\n",
      "Epoch 15/20\n",
      "41/41 [==============================] - 1s 34ms/step - loss: 0.3505 - accuracy: 0.8604 - val_loss: 0.3426 - val_accuracy: 0.8628\n",
      "Epoch 16/20\n",
      "41/41 [==============================] - 1s 29ms/step - loss: 0.3419 - accuracy: 0.8654 - val_loss: 0.3365 - val_accuracy: 0.8638\n",
      "Epoch 17/20\n",
      "41/41 [==============================] - 1s 31ms/step - loss: 0.3404 - accuracy: 0.8645 - val_loss: 0.3358 - val_accuracy: 0.8638\n",
      "Epoch 18/20\n",
      "41/41 [==============================] - 1s 31ms/step - loss: 0.3369 - accuracy: 0.8672 - val_loss: 0.3325 - val_accuracy: 0.8660\n",
      "Epoch 19/20\n",
      "41/41 [==============================] - 1s 31ms/step - loss: 0.3352 - accuracy: 0.8673 - val_loss: 0.3337 - val_accuracy: 0.8650\n",
      "Epoch 20/20\n",
      "41/41 [==============================] - 1s 30ms/step - loss: 0.3348 - accuracy: 0.8680 - val_loss: 0.3334 - val_accuracy: 0.8647\n"
     ]
    },
    {
     "name": "stderr",
     "output_type": "stream",
     "text": [
      "2022-03-18 11:48:01.132288: I tensorflow/core/grappler/optimizers/custom_graph_optimizer_registry.cc:113] Plugin optimizer for device_type GPU is enabled.\n",
      "2022-03-18 11:48:01.189904: I tensorflow/core/grappler/optimizers/custom_graph_optimizer_registry.cc:113] Plugin optimizer for device_type GPU is enabled.\n"
     ]
    },
    {
     "name": "stdout",
     "output_type": "stream",
     "text": [
      "lstm_dim: 64 | batch_size: 8 | validation_split: 0.2\n",
      "accuracy: 0.8531024531024531\n",
      "auc: 0.5912808766112402\n",
      "Model: \"model_48\"\n",
      "__________________________________________________________________________________________________\n",
      " Layer (type)                   Output Shape         Param #     Connected to                     \n",
      "==================================================================================================\n",
      " input skills (InputLayer)      [(None, 99, 222)]    0           []                               \n",
      "                                                                                                  \n",
      " lstm_layer (LSTM)              (None, 99, 64)       73472       ['input skills[0][0]']           \n",
      "                                                                                                  \n",
      " probability_for_each (TimeDist  (None, 99, 111)     7215        ['lstm_layer[0][0]']             \n",
      " ributed)                                                                                         \n",
      "                                                                                                  \n",
      " next_skill_tested (InputLayer)  [(None, 99, 111)]   0           []                               \n",
      "                                                                                                  \n",
      " multiply (Multiply)            (None, 99, 111)      0           ['probability_for_each[0][0]',   \n",
      "                                                                  'next_skill_tested[0][0]']      \n",
      "                                                                                                  \n",
      " reduce_dim (Lambda)            (None, 99, 1)        0           ['multiply[0][0]']               \n",
      "                                                                                                  \n",
      "==================================================================================================\n",
      "Total params: 80,687\n",
      "Trainable params: 80,687\n",
      "Non-trainable params: 0\n",
      "__________________________________________________________________________________________________\n",
      "Epoch 1/20\n"
     ]
    },
    {
     "name": "stderr",
     "output_type": "stream",
     "text": [
      "/Users/elipleaner/miniconda3/lib/python3.8/site-packages/keras/optimizer_v2/adam.py:105: UserWarning: The `lr` argument is deprecated, use `learning_rate` instead.\n",
      "  super(Adam, self).__init__(name, **kwargs)\n",
      "2022-03-18 11:48:02.880873: I tensorflow/core/grappler/optimizers/custom_graph_optimizer_registry.cc:113] Plugin optimizer for device_type GPU is enabled.\n",
      "2022-03-18 11:48:03.060212: I tensorflow/core/grappler/optimizers/custom_graph_optimizer_registry.cc:113] Plugin optimizer for device_type GPU is enabled.\n",
      "2022-03-18 11:48:03.296221: I tensorflow/core/grappler/optimizers/custom_graph_optimizer_registry.cc:113] Plugin optimizer for device_type GPU is enabled.\n"
     ]
    },
    {
     "name": "stdout",
     "output_type": "stream",
     "text": [
      "36/36 [==============================] - ETA: 0s - loss: 0.6182 - accuracy: 0.7600"
     ]
    },
    {
     "name": "stderr",
     "output_type": "stream",
     "text": [
      "2022-03-18 11:48:05.269106: I tensorflow/core/grappler/optimizers/custom_graph_optimizer_registry.cc:113] Plugin optimizer for device_type GPU is enabled.\n",
      "2022-03-18 11:48:05.341438: I tensorflow/core/grappler/optimizers/custom_graph_optimizer_registry.cc:113] Plugin optimizer for device_type GPU is enabled.\n"
     ]
    },
    {
     "name": "stdout",
     "output_type": "stream",
     "text": [
      "36/36 [==============================] - 4s 70ms/step - loss: 0.6182 - accuracy: 0.7600 - val_loss: 0.4972 - val_accuracy: 0.8290\n",
      "Epoch 2/20\n",
      "36/36 [==============================] - 1s 34ms/step - loss: 0.4441 - accuracy: 0.8440 - val_loss: 0.4107 - val_accuracy: 0.8528\n",
      "Epoch 3/20\n",
      "36/36 [==============================] - 1s 32ms/step - loss: 0.4005 - accuracy: 0.8488 - val_loss: 0.3944 - val_accuracy: 0.8522\n",
      "Epoch 4/20\n",
      "36/36 [==============================] - 1s 35ms/step - loss: 0.3932 - accuracy: 0.8504 - val_loss: 0.3888 - val_accuracy: 0.8529\n",
      "Epoch 5/20\n",
      "36/36 [==============================] - 1s 33ms/step - loss: 0.3863 - accuracy: 0.8511 - val_loss: 0.3845 - val_accuracy: 0.8529\n",
      "Epoch 6/20\n",
      "36/36 [==============================] - 1s 33ms/step - loss: 0.3816 - accuracy: 0.8531 - val_loss: 0.3867 - val_accuracy: 0.8533\n",
      "Epoch 7/20\n",
      "36/36 [==============================] - 1s 33ms/step - loss: 0.3812 - accuracy: 0.8532 - val_loss: 0.3767 - val_accuracy: 0.8539\n",
      "Epoch 8/20\n",
      "36/36 [==============================] - 1s 33ms/step - loss: 0.3727 - accuracy: 0.8554 - val_loss: 0.3700 - val_accuracy: 0.8548\n",
      "Epoch 9/20\n",
      "36/36 [==============================] - 1s 34ms/step - loss: 0.3685 - accuracy: 0.8562 - val_loss: 0.3659 - val_accuracy: 0.8556\n",
      "Epoch 10/20\n",
      "36/36 [==============================] - 1s 32ms/step - loss: 0.3636 - accuracy: 0.8570 - val_loss: 0.3637 - val_accuracy: 0.8556\n",
      "Epoch 11/20\n",
      "36/36 [==============================] - 1s 32ms/step - loss: 0.3626 - accuracy: 0.8575 - val_loss: 0.3600 - val_accuracy: 0.8568\n",
      "Epoch 12/20\n",
      "36/36 [==============================] - 1s 32ms/step - loss: 0.3565 - accuracy: 0.8587 - val_loss: 0.3538 - val_accuracy: 0.8581\n",
      "Epoch 13/20\n",
      "36/36 [==============================] - 1s 35ms/step - loss: 0.3514 - accuracy: 0.8597 - val_loss: 0.3535 - val_accuracy: 0.8569\n",
      "Epoch 14/20\n",
      "36/36 [==============================] - 1s 32ms/step - loss: 0.3491 - accuracy: 0.8604 - val_loss: 0.3467 - val_accuracy: 0.8601\n",
      "Epoch 15/20\n",
      "36/36 [==============================] - 1s 32ms/step - loss: 0.3463 - accuracy: 0.8618 - val_loss: 0.3476 - val_accuracy: 0.8591\n",
      "Epoch 16/20\n",
      "36/36 [==============================] - 1s 32ms/step - loss: 0.3444 - accuracy: 0.8626 - val_loss: 0.3447 - val_accuracy: 0.8606\n",
      "Epoch 17/20\n",
      "36/36 [==============================] - 1s 32ms/step - loss: 0.3420 - accuracy: 0.8638 - val_loss: 0.3429 - val_accuracy: 0.8633\n",
      "Epoch 18/20\n",
      "36/36 [==============================] - 1s 32ms/step - loss: 0.3395 - accuracy: 0.8646 - val_loss: 0.3413 - val_accuracy: 0.8637\n",
      "Epoch 19/20\n",
      "36/36 [==============================] - 1s 32ms/step - loss: 0.3399 - accuracy: 0.8654 - val_loss: 0.3422 - val_accuracy: 0.8620\n",
      "Epoch 20/20\n",
      "36/36 [==============================] - 1s 33ms/step - loss: 0.3397 - accuracy: 0.8646 - val_loss: 0.3395 - val_accuracy: 0.8643\n"
     ]
    },
    {
     "name": "stderr",
     "output_type": "stream",
     "text": [
      "2022-03-18 11:48:28.453196: I tensorflow/core/grappler/optimizers/custom_graph_optimizer_registry.cc:113] Plugin optimizer for device_type GPU is enabled.\n",
      "2022-03-18 11:48:28.493461: I tensorflow/core/grappler/optimizers/custom_graph_optimizer_registry.cc:113] Plugin optimizer for device_type GPU is enabled.\n"
     ]
    },
    {
     "name": "stdout",
     "output_type": "stream",
     "text": [
      "lstm_dim: 64 | batch_size: 8 | validation_split: 0.3\n",
      "accuracy: 0.8535642135642135\n",
      "auc: 0.5881632414969955\n",
      "Model: \"model_49\"\n",
      "__________________________________________________________________________________________________\n",
      " Layer (type)                   Output Shape         Param #     Connected to                     \n",
      "==================================================================================================\n",
      " input skills (InputLayer)      [(None, 99, 222)]    0           []                               \n",
      "                                                                                                  \n",
      " lstm_layer (LSTM)              (None, 99, 64)       73472       ['input skills[0][0]']           \n",
      "                                                                                                  \n",
      " probability_for_each (TimeDist  (None, 99, 111)     7215        ['lstm_layer[0][0]']             \n",
      " ributed)                                                                                         \n",
      "                                                                                                  \n",
      " next_skill_tested (InputLayer)  [(None, 99, 111)]   0           []                               \n",
      "                                                                                                  \n",
      " multiply (Multiply)            (None, 99, 111)      0           ['probability_for_each[0][0]',   \n",
      "                                                                  'next_skill_tested[0][0]']      \n",
      "                                                                                                  \n",
      " reduce_dim (Lambda)            (None, 99, 1)        0           ['multiply[0][0]']               \n",
      "                                                                                                  \n",
      "==================================================================================================\n",
      "Total params: 80,687\n",
      "Trainable params: 80,687\n",
      "Non-trainable params: 0\n",
      "__________________________________________________________________________________________________\n",
      "Epoch 1/20\n"
     ]
    },
    {
     "name": "stderr",
     "output_type": "stream",
     "text": [
      "/Users/elipleaner/miniconda3/lib/python3.8/site-packages/keras/optimizer_v2/adam.py:105: UserWarning: The `lr` argument is deprecated, use `learning_rate` instead.\n",
      "  super(Adam, self).__init__(name, **kwargs)\n",
      "2022-03-18 11:48:29.595863: I tensorflow/core/grappler/optimizers/custom_graph_optimizer_registry.cc:113] Plugin optimizer for device_type GPU is enabled.\n",
      "2022-03-18 11:48:29.757797: I tensorflow/core/grappler/optimizers/custom_graph_optimizer_registry.cc:113] Plugin optimizer for device_type GPU is enabled.\n",
      "2022-03-18 11:48:29.995071: I tensorflow/core/grappler/optimizers/custom_graph_optimizer_registry.cc:113] Plugin optimizer for device_type GPU is enabled.\n"
     ]
    },
    {
     "name": "stdout",
     "output_type": "stream",
     "text": [
      "26/26 [==============================] - 3s 63ms/step - loss: 0.6499 - accuracy: 0.7573\n",
      "Epoch 2/20\n",
      "26/26 [==============================] - 1s 28ms/step - loss: 0.4798 - accuracy: 0.8316\n",
      "Epoch 3/20\n",
      "26/26 [==============================] - 1s 28ms/step - loss: 0.4073 - accuracy: 0.8498\n",
      "Epoch 4/20\n",
      "26/26 [==============================] - 1s 25ms/step - loss: 0.3945 - accuracy: 0.8508\n",
      "Epoch 5/20\n",
      "26/26 [==============================] - 1s 25ms/step - loss: 0.3850 - accuracy: 0.8508\n",
      "Epoch 6/20\n",
      "26/26 [==============================] - 1s 25ms/step - loss: 0.3799 - accuracy: 0.8532\n",
      "Epoch 7/20\n",
      "26/26 [==============================] - 1s 25ms/step - loss: 0.3743 - accuracy: 0.8568\n",
      "Epoch 8/20\n",
      "26/26 [==============================] - 1s 27ms/step - loss: 0.3694 - accuracy: 0.8564\n",
      "Epoch 9/20\n",
      "26/26 [==============================] - 1s 29ms/step - loss: 0.3668 - accuracy: 0.8570\n",
      "Epoch 10/20\n",
      "26/26 [==============================] - 1s 26ms/step - loss: 0.3612 - accuracy: 0.8589\n",
      "Epoch 11/20\n",
      "26/26 [==============================] - 1s 26ms/step - loss: 0.3561 - accuracy: 0.8596\n",
      "Epoch 12/20\n",
      "26/26 [==============================] - 1s 28ms/step - loss: 0.3537 - accuracy: 0.8601\n",
      "Epoch 13/20\n",
      "26/26 [==============================] - 1s 26ms/step - loss: 0.3500 - accuracy: 0.8608\n",
      "Epoch 14/20\n",
      "26/26 [==============================] - 1s 27ms/step - loss: 0.3468 - accuracy: 0.8620\n",
      "Epoch 15/20\n",
      "26/26 [==============================] - 1s 26ms/step - loss: 0.3453 - accuracy: 0.8626\n",
      "Epoch 16/20\n",
      "26/26 [==============================] - 1s 26ms/step - loss: 0.3416 - accuracy: 0.8636\n",
      "Epoch 17/20\n",
      "26/26 [==============================] - 1s 25ms/step - loss: 0.3401 - accuracy: 0.8651\n",
      "Epoch 18/20\n",
      "26/26 [==============================] - 1s 25ms/step - loss: 0.3396 - accuracy: 0.8646\n",
      "Epoch 19/20\n",
      "26/26 [==============================] - 1s 27ms/step - loss: 0.3358 - accuracy: 0.8658\n",
      "Epoch 20/20\n",
      "26/26 [==============================] - 1s 25ms/step - loss: 0.3354 - accuracy: 0.8660\n"
     ]
    },
    {
     "name": "stderr",
     "output_type": "stream",
     "text": [
      "2022-03-18 11:48:45.136139: I tensorflow/core/grappler/optimizers/custom_graph_optimizer_registry.cc:113] Plugin optimizer for device_type GPU is enabled.\n",
      "2022-03-18 11:48:45.181431: I tensorflow/core/grappler/optimizers/custom_graph_optimizer_registry.cc:113] Plugin optimizer for device_type GPU is enabled.\n"
     ]
    },
    {
     "name": "stdout",
     "output_type": "stream",
     "text": [
      "lstm_dim: 64 | batch_size: 16 | validation_split: 0\n",
      "accuracy: 0.8531601731601731\n",
      "auc: 0.5866488959877879\n",
      "Model: \"model_50\"\n",
      "__________________________________________________________________________________________________\n",
      " Layer (type)                   Output Shape         Param #     Connected to                     \n",
      "==================================================================================================\n",
      " input skills (InputLayer)      [(None, 99, 222)]    0           []                               \n",
      "                                                                                                  \n",
      " lstm_layer (LSTM)              (None, 99, 64)       73472       ['input skills[0][0]']           \n",
      "                                                                                                  \n",
      " probability_for_each (TimeDist  (None, 99, 111)     7215        ['lstm_layer[0][0]']             \n",
      " ributed)                                                                                         \n",
      "                                                                                                  \n",
      " next_skill_tested (InputLayer)  [(None, 99, 111)]   0           []                               \n",
      "                                                                                                  \n",
      " multiply (Multiply)            (None, 99, 111)      0           ['probability_for_each[0][0]',   \n",
      "                                                                  'next_skill_tested[0][0]']      \n",
      "                                                                                                  \n",
      " reduce_dim (Lambda)            (None, 99, 1)        0           ['multiply[0][0]']               \n",
      "                                                                                                  \n",
      "==================================================================================================\n",
      "Total params: 80,687\n",
      "Trainable params: 80,687\n",
      "Non-trainable params: 0\n",
      "__________________________________________________________________________________________________\n",
      "Epoch 1/20\n"
     ]
    },
    {
     "name": "stderr",
     "output_type": "stream",
     "text": [
      "/Users/elipleaner/miniconda3/lib/python3.8/site-packages/keras/optimizer_v2/adam.py:105: UserWarning: The `lr` argument is deprecated, use `learning_rate` instead.\n",
      "  super(Adam, self).__init__(name, **kwargs)\n",
      "2022-03-18 11:48:46.232331: I tensorflow/core/grappler/optimizers/custom_graph_optimizer_registry.cc:113] Plugin optimizer for device_type GPU is enabled.\n",
      "2022-03-18 11:48:46.374348: I tensorflow/core/grappler/optimizers/custom_graph_optimizer_registry.cc:113] Plugin optimizer for device_type GPU is enabled.\n",
      "2022-03-18 11:48:46.582636: I tensorflow/core/grappler/optimizers/custom_graph_optimizer_registry.cc:113] Plugin optimizer for device_type GPU is enabled.\n"
     ]
    },
    {
     "name": "stdout",
     "output_type": "stream",
     "text": [
      "21/23 [==========================>...] - ETA: 0s - loss: 0.6594 - accuracy: 0.7566"
     ]
    },
    {
     "name": "stderr",
     "output_type": "stream",
     "text": [
      "2022-03-18 11:48:47.743467: I tensorflow/core/grappler/optimizers/custom_graph_optimizer_registry.cc:113] Plugin optimizer for device_type GPU is enabled.\n",
      "2022-03-18 11:48:47.816298: I tensorflow/core/grappler/optimizers/custom_graph_optimizer_registry.cc:113] Plugin optimizer for device_type GPU is enabled.\n"
     ]
    },
    {
     "name": "stdout",
     "output_type": "stream",
     "text": [
      "23/23 [==============================] - 2s 55ms/step - loss: 0.6548 - accuracy: 0.7644 - val_loss: 0.6011 - val_accuracy: 0.8327\n",
      "Epoch 2/20\n",
      "23/23 [==============================] - 1s 30ms/step - loss: 0.5170 - accuracy: 0.8254 - val_loss: 0.4381 - val_accuracy: 0.8455\n",
      "Epoch 3/20\n",
      "23/23 [==============================] - 1s 29ms/step - loss: 0.4193 - accuracy: 0.8465 - val_loss: 0.3845 - val_accuracy: 0.8591\n",
      "Epoch 4/20\n",
      "23/23 [==============================] - 1s 30ms/step - loss: 0.3969 - accuracy: 0.8494 - val_loss: 0.3703 - val_accuracy: 0.8601\n",
      "Epoch 5/20\n",
      "23/23 [==============================] - 1s 30ms/step - loss: 0.3871 - accuracy: 0.8506 - val_loss: 0.3662 - val_accuracy: 0.8613\n",
      "Epoch 6/20\n",
      "23/23 [==============================] - 1s 27ms/step - loss: 0.3784 - accuracy: 0.8543 - val_loss: 0.3621 - val_accuracy: 0.8596\n",
      "Epoch 7/20\n",
      "23/23 [==============================] - 1s 28ms/step - loss: 0.3720 - accuracy: 0.8555 - val_loss: 0.3573 - val_accuracy: 0.8586\n",
      "Epoch 8/20\n",
      "23/23 [==============================] - 1s 28ms/step - loss: 0.3676 - accuracy: 0.8563 - val_loss: 0.3572 - val_accuracy: 0.8583\n",
      "Epoch 9/20\n",
      "23/23 [==============================] - 1s 28ms/step - loss: 0.3627 - accuracy: 0.8579 - val_loss: 0.3538 - val_accuracy: 0.8583\n",
      "Epoch 10/20\n",
      "23/23 [==============================] - 1s 28ms/step - loss: 0.3598 - accuracy: 0.8576 - val_loss: 0.3484 - val_accuracy: 0.8591\n",
      "Epoch 11/20\n",
      "23/23 [==============================] - 1s 28ms/step - loss: 0.3545 - accuracy: 0.8592 - val_loss: 0.3467 - val_accuracy: 0.8615\n",
      "Epoch 12/20\n",
      "23/23 [==============================] - 1s 27ms/step - loss: 0.3517 - accuracy: 0.8602 - val_loss: 0.3460 - val_accuracy: 0.8586\n",
      "Epoch 13/20\n",
      "23/23 [==============================] - 1s 26ms/step - loss: 0.3487 - accuracy: 0.8620 - val_loss: 0.3451 - val_accuracy: 0.8610\n",
      "Epoch 14/20\n",
      "23/23 [==============================] - 1s 26ms/step - loss: 0.3463 - accuracy: 0.8628 - val_loss: 0.3423 - val_accuracy: 0.8615\n",
      "Epoch 15/20\n",
      "23/23 [==============================] - 1s 26ms/step - loss: 0.3429 - accuracy: 0.8638 - val_loss: 0.3398 - val_accuracy: 0.8630\n",
      "Epoch 16/20\n",
      "23/23 [==============================] - 1s 26ms/step - loss: 0.3417 - accuracy: 0.8646 - val_loss: 0.3415 - val_accuracy: 0.8643\n",
      "Epoch 17/20\n",
      "23/23 [==============================] - 1s 26ms/step - loss: 0.3392 - accuracy: 0.8660 - val_loss: 0.3417 - val_accuracy: 0.8630\n",
      "Epoch 18/20\n",
      "23/23 [==============================] - 1s 26ms/step - loss: 0.3367 - accuracy: 0.8666 - val_loss: 0.3399 - val_accuracy: 0.8625\n",
      "Epoch 19/20\n",
      "23/23 [==============================] - 1s 26ms/step - loss: 0.3367 - accuracy: 0.8678 - val_loss: 0.3388 - val_accuracy: 0.8588\n",
      "Epoch 20/20\n",
      "23/23 [==============================] - 1s 26ms/step - loss: 0.3356 - accuracy: 0.8672 - val_loss: 0.3382 - val_accuracy: 0.8655\n"
     ]
    },
    {
     "name": "stderr",
     "output_type": "stream",
     "text": [
      "2022-03-18 11:49:00.301040: I tensorflow/core/grappler/optimizers/custom_graph_optimizer_registry.cc:113] Plugin optimizer for device_type GPU is enabled.\n",
      "2022-03-18 11:49:00.341285: I tensorflow/core/grappler/optimizers/custom_graph_optimizer_registry.cc:113] Plugin optimizer for device_type GPU is enabled.\n"
     ]
    },
    {
     "name": "stdout",
     "output_type": "stream",
     "text": [
      "lstm_dim: 64 | batch_size: 16 | validation_split: 0.1\n",
      "accuracy: 0.8525252525252526\n",
      "auc: 0.5882488693215657\n",
      "Model: \"model_51\"\n",
      "__________________________________________________________________________________________________\n",
      " Layer (type)                   Output Shape         Param #     Connected to                     \n",
      "==================================================================================================\n",
      " input skills (InputLayer)      [(None, 99, 222)]    0           []                               \n",
      "                                                                                                  \n",
      " lstm_layer (LSTM)              (None, 99, 64)       73472       ['input skills[0][0]']           \n",
      "                                                                                                  \n",
      " probability_for_each (TimeDist  (None, 99, 111)     7215        ['lstm_layer[0][0]']             \n",
      " ributed)                                                                                         \n",
      "                                                                                                  \n",
      " next_skill_tested (InputLayer)  [(None, 99, 111)]   0           []                               \n",
      "                                                                                                  \n",
      " multiply (Multiply)            (None, 99, 111)      0           ['probability_for_each[0][0]',   \n",
      "                                                                  'next_skill_tested[0][0]']      \n",
      "                                                                                                  \n",
      " reduce_dim (Lambda)            (None, 99, 1)        0           ['multiply[0][0]']               \n",
      "                                                                                                  \n",
      "==================================================================================================\n",
      "Total params: 80,687\n",
      "Trainable params: 80,687\n",
      "Non-trainable params: 0\n",
      "__________________________________________________________________________________________________\n",
      "Epoch 1/20\n"
     ]
    },
    {
     "name": "stderr",
     "output_type": "stream",
     "text": [
      "/Users/elipleaner/miniconda3/lib/python3.8/site-packages/keras/optimizer_v2/adam.py:105: UserWarning: The `lr` argument is deprecated, use `learning_rate` instead.\n",
      "  super(Adam, self).__init__(name, **kwargs)\n",
      "2022-03-18 11:49:02.152932: I tensorflow/core/grappler/optimizers/custom_graph_optimizer_registry.cc:113] Plugin optimizer for device_type GPU is enabled.\n",
      "2022-03-18 11:49:02.316323: I tensorflow/core/grappler/optimizers/custom_graph_optimizer_registry.cc:113] Plugin optimizer for device_type GPU is enabled.\n",
      "2022-03-18 11:49:02.533202: I tensorflow/core/grappler/optimizers/custom_graph_optimizer_registry.cc:113] Plugin optimizer for device_type GPU is enabled.\n"
     ]
    },
    {
     "name": "stdout",
     "output_type": "stream",
     "text": [
      "21/21 [==============================] - ETA: 0s - loss: 0.6622 - accuracy: 0.7422"
     ]
    },
    {
     "name": "stderr",
     "output_type": "stream",
     "text": [
      "2022-03-18 11:49:04.021870: I tensorflow/core/grappler/optimizers/custom_graph_optimizer_registry.cc:113] Plugin optimizer for device_type GPU is enabled.\n",
      "2022-03-18 11:49:04.087921: I tensorflow/core/grappler/optimizers/custom_graph_optimizer_registry.cc:113] Plugin optimizer for device_type GPU is enabled.\n"
     ]
    },
    {
     "name": "stdout",
     "output_type": "stream",
     "text": [
      "21/21 [==============================] - 4s 84ms/step - loss: 0.6622 - accuracy: 0.7422 - val_loss: 0.6121 - val_accuracy: 0.8343\n",
      "Epoch 2/20\n",
      "21/21 [==============================] - 1s 32ms/step - loss: 0.5272 - accuracy: 0.8224 - val_loss: 0.4479 - val_accuracy: 0.8413\n",
      "Epoch 3/20\n",
      "21/21 [==============================] - 1s 31ms/step - loss: 0.4353 - accuracy: 0.8419 - val_loss: 0.3990 - val_accuracy: 0.8578\n",
      "Epoch 4/20\n",
      "21/21 [==============================] - 1s 30ms/step - loss: 0.4042 - accuracy: 0.8481 - val_loss: 0.3832 - val_accuracy: 0.8574\n",
      "Epoch 5/20\n",
      "21/21 [==============================] - 1s 30ms/step - loss: 0.3922 - accuracy: 0.8481 - val_loss: 0.3754 - val_accuracy: 0.8586\n",
      "Epoch 6/20\n",
      "21/21 [==============================] - 1s 30ms/step - loss: 0.3852 - accuracy: 0.8519 - val_loss: 0.3733 - val_accuracy: 0.8572\n",
      "Epoch 7/20\n",
      "21/21 [==============================] - 1s 30ms/step - loss: 0.3813 - accuracy: 0.8525 - val_loss: 0.3737 - val_accuracy: 0.8570\n",
      "Epoch 8/20\n",
      "21/21 [==============================] - 1s 30ms/step - loss: 0.3757 - accuracy: 0.8546 - val_loss: 0.3664 - val_accuracy: 0.8585\n",
      "Epoch 9/20\n",
      "21/21 [==============================] - 1s 30ms/step - loss: 0.3726 - accuracy: 0.8562 - val_loss: 0.3612 - val_accuracy: 0.8587\n",
      "Epoch 10/20\n",
      "21/21 [==============================] - 1s 30ms/step - loss: 0.3691 - accuracy: 0.8563 - val_loss: 0.3584 - val_accuracy: 0.8592\n",
      "Epoch 11/20\n",
      "21/21 [==============================] - 1s 30ms/step - loss: 0.3671 - accuracy: 0.8569 - val_loss: 0.3578 - val_accuracy: 0.8587\n",
      "Epoch 12/20\n",
      "21/21 [==============================] - 1s 30ms/step - loss: 0.3642 - accuracy: 0.8564 - val_loss: 0.3533 - val_accuracy: 0.8576\n",
      "Epoch 13/20\n",
      "21/21 [==============================] - 1s 32ms/step - loss: 0.3588 - accuracy: 0.8591 - val_loss: 0.3505 - val_accuracy: 0.8590\n",
      "Epoch 14/20\n",
      "21/21 [==============================] - 1s 30ms/step - loss: 0.3548 - accuracy: 0.8596 - val_loss: 0.3474 - val_accuracy: 0.8597\n",
      "Epoch 15/20\n",
      "21/21 [==============================] - 1s 30ms/step - loss: 0.3522 - accuracy: 0.8612 - val_loss: 0.3462 - val_accuracy: 0.8599\n",
      "Epoch 16/20\n",
      "21/21 [==============================] - 1s 30ms/step - loss: 0.3490 - accuracy: 0.8627 - val_loss: 0.3422 - val_accuracy: 0.8617\n",
      "Epoch 17/20\n",
      "21/21 [==============================] - 1s 30ms/step - loss: 0.3475 - accuracy: 0.8624 - val_loss: 0.3409 - val_accuracy: 0.8608\n",
      "Epoch 18/20\n",
      "21/21 [==============================] - 1s 33ms/step - loss: 0.3477 - accuracy: 0.8605 - val_loss: 0.3414 - val_accuracy: 0.8630\n",
      "Epoch 19/20\n",
      "21/21 [==============================] - 1s 31ms/step - loss: 0.3429 - accuracy: 0.8637 - val_loss: 0.3398 - val_accuracy: 0.8644\n",
      "Epoch 20/20\n",
      "21/21 [==============================] - 1s 30ms/step - loss: 0.3423 - accuracy: 0.8643 - val_loss: 0.3366 - val_accuracy: 0.8651\n"
     ]
    },
    {
     "name": "stderr",
     "output_type": "stream",
     "text": [
      "2022-03-18 11:49:16.731462: I tensorflow/core/grappler/optimizers/custom_graph_optimizer_registry.cc:113] Plugin optimizer for device_type GPU is enabled.\n",
      "2022-03-18 11:49:16.780779: I tensorflow/core/grappler/optimizers/custom_graph_optimizer_registry.cc:113] Plugin optimizer for device_type GPU is enabled.\n"
     ]
    },
    {
     "name": "stdout",
     "output_type": "stream",
     "text": [
      "lstm_dim: 64 | batch_size: 16 | validation_split: 0.2\n",
      "accuracy: 0.8526406926406926\n",
      "auc: 0.5778536344122156\n",
      "Model: \"model_52\"\n",
      "__________________________________________________________________________________________________\n",
      " Layer (type)                   Output Shape         Param #     Connected to                     \n",
      "==================================================================================================\n",
      " input skills (InputLayer)      [(None, 99, 222)]    0           []                               \n",
      "                                                                                                  \n",
      " lstm_layer (LSTM)              (None, 99, 64)       73472       ['input skills[0][0]']           \n",
      "                                                                                                  \n",
      " probability_for_each (TimeDist  (None, 99, 111)     7215        ['lstm_layer[0][0]']             \n",
      " ributed)                                                                                         \n",
      "                                                                                                  \n",
      " next_skill_tested (InputLayer)  [(None, 99, 111)]   0           []                               \n",
      "                                                                                                  \n",
      " multiply (Multiply)            (None, 99, 111)      0           ['probability_for_each[0][0]',   \n",
      "                                                                  'next_skill_tested[0][0]']      \n",
      "                                                                                                  \n",
      " reduce_dim (Lambda)            (None, 99, 1)        0           ['multiply[0][0]']               \n",
      "                                                                                                  \n",
      "==================================================================================================\n",
      "Total params: 80,687\n",
      "Trainable params: 80,687\n",
      "Non-trainable params: 0\n",
      "__________________________________________________________________________________________________\n",
      "Epoch 1/20\n"
     ]
    },
    {
     "name": "stderr",
     "output_type": "stream",
     "text": [
      "/Users/elipleaner/miniconda3/lib/python3.8/site-packages/keras/optimizer_v2/adam.py:105: UserWarning: The `lr` argument is deprecated, use `learning_rate` instead.\n",
      "  super(Adam, self).__init__(name, **kwargs)\n",
      "2022-03-18 11:49:17.890806: I tensorflow/core/grappler/optimizers/custom_graph_optimizer_registry.cc:113] Plugin optimizer for device_type GPU is enabled.\n",
      "2022-03-18 11:49:18.070416: I tensorflow/core/grappler/optimizers/custom_graph_optimizer_registry.cc:113] Plugin optimizer for device_type GPU is enabled.\n",
      "2022-03-18 11:49:18.373509: I tensorflow/core/grappler/optimizers/custom_graph_optimizer_registry.cc:113] Plugin optimizer for device_type GPU is enabled.\n"
     ]
    },
    {
     "name": "stdout",
     "output_type": "stream",
     "text": [
      "18/18 [==============================] - ETA: 0s - loss: 0.6622 - accuracy: 0.7356"
     ]
    },
    {
     "name": "stderr",
     "output_type": "stream",
     "text": [
      "2022-03-18 11:49:19.888449: I tensorflow/core/grappler/optimizers/custom_graph_optimizer_registry.cc:113] Plugin optimizer for device_type GPU is enabled.\n",
      "2022-03-18 11:49:19.961284: I tensorflow/core/grappler/optimizers/custom_graph_optimizer_registry.cc:113] Plugin optimizer for device_type GPU is enabled.\n"
     ]
    },
    {
     "name": "stdout",
     "output_type": "stream",
     "text": [
      "18/18 [==============================] - 3s 106ms/step - loss: 0.6622 - accuracy: 0.7356 - val_loss: 0.6156 - val_accuracy: 0.8309\n",
      "Epoch 2/20\n",
      "18/18 [==============================] - 1s 38ms/step - loss: 0.5366 - accuracy: 0.8174 - val_loss: 0.4758 - val_accuracy: 0.8427\n",
      "Epoch 3/20\n",
      "18/18 [==============================] - 1s 34ms/step - loss: 0.4399 - accuracy: 0.8468 - val_loss: 0.4179 - val_accuracy: 0.8528\n",
      "Epoch 4/20\n",
      "18/18 [==============================] - 1s 33ms/step - loss: 0.4066 - accuracy: 0.8488 - val_loss: 0.3986 - val_accuracy: 0.8530\n",
      "Epoch 5/20\n",
      "18/18 [==============================] - 1s 34ms/step - loss: 0.3947 - accuracy: 0.8498 - val_loss: 0.3910 - val_accuracy: 0.8534\n",
      "Epoch 6/20\n",
      "18/18 [==============================] - 1s 33ms/step - loss: 0.3872 - accuracy: 0.8506 - val_loss: 0.3870 - val_accuracy: 0.8537\n",
      "Epoch 7/20\n",
      "18/18 [==============================] - 1s 34ms/step - loss: 0.3839 - accuracy: 0.8505 - val_loss: 0.3826 - val_accuracy: 0.8538\n",
      "Epoch 8/20\n",
      "18/18 [==============================] - 1s 33ms/step - loss: 0.3804 - accuracy: 0.8532 - val_loss: 0.3814 - val_accuracy: 0.8539\n",
      "Epoch 9/20\n",
      "18/18 [==============================] - 1s 33ms/step - loss: 0.3750 - accuracy: 0.8552 - val_loss: 0.3744 - val_accuracy: 0.8549\n",
      "Epoch 10/20\n",
      "18/18 [==============================] - 1s 33ms/step - loss: 0.3697 - accuracy: 0.8560 - val_loss: 0.3722 - val_accuracy: 0.8550\n",
      "Epoch 11/20\n",
      "18/18 [==============================] - 1s 32ms/step - loss: 0.3665 - accuracy: 0.8565 - val_loss: 0.3655 - val_accuracy: 0.8558\n",
      "Epoch 12/20\n",
      "18/18 [==============================] - 1s 32ms/step - loss: 0.3627 - accuracy: 0.8566 - val_loss: 0.3602 - val_accuracy: 0.8570\n",
      "Epoch 13/20\n",
      "18/18 [==============================] - 1s 32ms/step - loss: 0.3598 - accuracy: 0.8569 - val_loss: 0.3633 - val_accuracy: 0.8549\n",
      "Epoch 14/20\n",
      "18/18 [==============================] - 1s 32ms/step - loss: 0.3595 - accuracy: 0.8570 - val_loss: 0.3549 - val_accuracy: 0.8583\n",
      "Epoch 15/20\n",
      "18/18 [==============================] - 1s 32ms/step - loss: 0.3549 - accuracy: 0.8587 - val_loss: 0.3546 - val_accuracy: 0.8590\n",
      "Epoch 16/20\n",
      "18/18 [==============================] - 1s 33ms/step - loss: 0.3528 - accuracy: 0.8594 - val_loss: 0.3508 - val_accuracy: 0.8582\n",
      "Epoch 17/20\n",
      "18/18 [==============================] - 1s 32ms/step - loss: 0.3505 - accuracy: 0.8618 - val_loss: 0.3510 - val_accuracy: 0.8582\n",
      "Epoch 18/20\n",
      "18/18 [==============================] - 1s 32ms/step - loss: 0.3503 - accuracy: 0.8605 - val_loss: 0.3496 - val_accuracy: 0.8576\n",
      "Epoch 19/20\n",
      "18/18 [==============================] - 1s 32ms/step - loss: 0.3468 - accuracy: 0.8610 - val_loss: 0.3457 - val_accuracy: 0.8615\n",
      "Epoch 20/20\n",
      "18/18 [==============================] - 1s 32ms/step - loss: 0.3437 - accuracy: 0.8632 - val_loss: 0.3441 - val_accuracy: 0.8612\n"
     ]
    },
    {
     "name": "stderr",
     "output_type": "stream",
     "text": [
      "2022-03-18 11:49:31.871630: I tensorflow/core/grappler/optimizers/custom_graph_optimizer_registry.cc:113] Plugin optimizer for device_type GPU is enabled.\n",
      "2022-03-18 11:49:31.912523: I tensorflow/core/grappler/optimizers/custom_graph_optimizer_registry.cc:113] Plugin optimizer for device_type GPU is enabled.\n"
     ]
    },
    {
     "name": "stdout",
     "output_type": "stream",
     "text": [
      "lstm_dim: 64 | batch_size: 16 | validation_split: 0.3\n",
      "accuracy: 0.8506204906204906\n",
      "auc: 0.5742413646847383\n",
      "Model: \"model_53\"\n",
      "__________________________________________________________________________________________________\n",
      " Layer (type)                   Output Shape         Param #     Connected to                     \n",
      "==================================================================================================\n",
      " input skills (InputLayer)      [(None, 99, 222)]    0           []                               \n",
      "                                                                                                  \n",
      " lstm_layer (LSTM)              (None, 99, 64)       73472       ['input skills[0][0]']           \n",
      "                                                                                                  \n",
      " probability_for_each (TimeDist  (None, 99, 111)     7215        ['lstm_layer[0][0]']             \n",
      " ributed)                                                                                         \n",
      "                                                                                                  \n",
      " next_skill_tested (InputLayer)  [(None, 99, 111)]   0           []                               \n",
      "                                                                                                  \n",
      " multiply (Multiply)            (None, 99, 111)      0           ['probability_for_each[0][0]',   \n",
      "                                                                  'next_skill_tested[0][0]']      \n",
      "                                                                                                  \n",
      " reduce_dim (Lambda)            (None, 99, 1)        0           ['multiply[0][0]']               \n",
      "                                                                                                  \n",
      "==================================================================================================\n",
      "Total params: 80,687\n",
      "Trainable params: 80,687\n",
      "Non-trainable params: 0\n",
      "__________________________________________________________________________________________________\n",
      "Epoch 1/20\n"
     ]
    },
    {
     "name": "stderr",
     "output_type": "stream",
     "text": [
      "/Users/elipleaner/miniconda3/lib/python3.8/site-packages/keras/optimizer_v2/adam.py:105: UserWarning: The `lr` argument is deprecated, use `learning_rate` instead.\n",
      "  super(Adam, self).__init__(name, **kwargs)\n",
      "2022-03-18 11:49:33.610055: I tensorflow/core/grappler/optimizers/custom_graph_optimizer_registry.cc:113] Plugin optimizer for device_type GPU is enabled.\n",
      "2022-03-18 11:49:33.778298: I tensorflow/core/grappler/optimizers/custom_graph_optimizer_registry.cc:113] Plugin optimizer for device_type GPU is enabled.\n",
      "2022-03-18 11:49:34.081670: I tensorflow/core/grappler/optimizers/custom_graph_optimizer_registry.cc:113] Plugin optimizer for device_type GPU is enabled.\n"
     ]
    },
    {
     "name": "stdout",
     "output_type": "stream",
     "text": [
      "13/13 [==============================] - 3s 72ms/step - loss: 0.6737 - accuracy: 0.7152\n",
      "Epoch 2/20\n",
      "13/13 [==============================] - 0s 28ms/step - loss: 0.6152 - accuracy: 0.8345\n",
      "Epoch 3/20\n",
      "13/13 [==============================] - 0s 28ms/step - loss: 0.5052 - accuracy: 0.8323\n",
      "Epoch 4/20\n",
      "13/13 [==============================] - 0s 26ms/step - loss: 0.4319 - accuracy: 0.8479\n",
      "Epoch 5/20\n",
      "13/13 [==============================] - 0s 26ms/step - loss: 0.4028 - accuracy: 0.8502\n",
      "Epoch 6/20\n",
      "13/13 [==============================] - 0s 26ms/step - loss: 0.3916 - accuracy: 0.8508\n",
      "Epoch 7/20\n",
      "13/13 [==============================] - 0s 27ms/step - loss: 0.3864 - accuracy: 0.8513\n",
      "Epoch 8/20\n",
      "13/13 [==============================] - 0s 26ms/step - loss: 0.3800 - accuracy: 0.8538\n",
      "Epoch 9/20\n",
      "13/13 [==============================] - 0s 26ms/step - loss: 0.3740 - accuracy: 0.8555\n",
      "Epoch 10/20\n",
      "13/13 [==============================] - 0s 26ms/step - loss: 0.3683 - accuracy: 0.8563\n",
      "Epoch 11/20\n",
      "13/13 [==============================] - 0s 26ms/step - loss: 0.3640 - accuracy: 0.8566\n",
      "Epoch 12/20\n",
      "13/13 [==============================] - 0s 26ms/step - loss: 0.3621 - accuracy: 0.8574\n",
      "Epoch 13/20\n",
      "13/13 [==============================] - 0s 26ms/step - loss: 0.3586 - accuracy: 0.8579\n",
      "Epoch 14/20\n",
      "13/13 [==============================] - 0s 26ms/step - loss: 0.3563 - accuracy: 0.8588\n",
      "Epoch 15/20\n",
      "13/13 [==============================] - 0s 26ms/step - loss: 0.3544 - accuracy: 0.8586\n",
      "Epoch 16/20\n",
      "13/13 [==============================] - 0s 30ms/step - loss: 0.3522 - accuracy: 0.8594\n",
      "Epoch 17/20\n",
      "13/13 [==============================] - 0s 27ms/step - loss: 0.3504 - accuracy: 0.8606\n",
      "Epoch 18/20\n",
      "13/13 [==============================] - 0s 27ms/step - loss: 0.3477 - accuracy: 0.8619\n",
      "Epoch 19/20\n",
      "13/13 [==============================] - 0s 28ms/step - loss: 0.3453 - accuracy: 0.8630\n",
      "Epoch 20/20\n",
      "13/13 [==============================] - 0s 27ms/step - loss: 0.3455 - accuracy: 0.8629\n"
     ]
    },
    {
     "name": "stderr",
     "output_type": "stream",
     "text": [
      "2022-03-18 11:49:42.073630: I tensorflow/core/grappler/optimizers/custom_graph_optimizer_registry.cc:113] Plugin optimizer for device_type GPU is enabled.\n",
      "2022-03-18 11:49:42.120882: I tensorflow/core/grappler/optimizers/custom_graph_optimizer_registry.cc:113] Plugin optimizer for device_type GPU is enabled.\n"
     ]
    },
    {
     "name": "stdout",
     "output_type": "stream",
     "text": [
      "lstm_dim: 64 | batch_size: 32 | validation_split: 0\n",
      "accuracy: 0.8488311688311688\n",
      "auc: 0.5576161315678753\n",
      "Model: \"model_54\"\n",
      "__________________________________________________________________________________________________\n",
      " Layer (type)                   Output Shape         Param #     Connected to                     \n",
      "==================================================================================================\n",
      " input skills (InputLayer)      [(None, 99, 222)]    0           []                               \n",
      "                                                                                                  \n",
      " lstm_layer (LSTM)              (None, 99, 64)       73472       ['input skills[0][0]']           \n",
      "                                                                                                  \n",
      " probability_for_each (TimeDist  (None, 99, 111)     7215        ['lstm_layer[0][0]']             \n",
      " ributed)                                                                                         \n",
      "                                                                                                  \n",
      " next_skill_tested (InputLayer)  [(None, 99, 111)]   0           []                               \n",
      "                                                                                                  \n",
      " multiply (Multiply)            (None, 99, 111)      0           ['probability_for_each[0][0]',   \n",
      "                                                                  'next_skill_tested[0][0]']      \n",
      "                                                                                                  \n",
      " reduce_dim (Lambda)            (None, 99, 1)        0           ['multiply[0][0]']               \n",
      "                                                                                                  \n",
      "==================================================================================================\n",
      "Total params: 80,687\n",
      "Trainable params: 80,687\n",
      "Non-trainable params: 0\n",
      "__________________________________________________________________________________________________\n",
      "Epoch 1/20\n"
     ]
    },
    {
     "name": "stderr",
     "output_type": "stream",
     "text": [
      "/Users/elipleaner/miniconda3/lib/python3.8/site-packages/keras/optimizer_v2/adam.py:105: UserWarning: The `lr` argument is deprecated, use `learning_rate` instead.\n",
      "  super(Adam, self).__init__(name, **kwargs)\n",
      "2022-03-18 11:49:43.233297: I tensorflow/core/grappler/optimizers/custom_graph_optimizer_registry.cc:113] Plugin optimizer for device_type GPU is enabled.\n",
      "2022-03-18 11:49:43.398851: I tensorflow/core/grappler/optimizers/custom_graph_optimizer_registry.cc:113] Plugin optimizer for device_type GPU is enabled.\n",
      "2022-03-18 11:49:43.702574: I tensorflow/core/grappler/optimizers/custom_graph_optimizer_registry.cc:113] Plugin optimizer for device_type GPU is enabled.\n"
     ]
    },
    {
     "name": "stdout",
     "output_type": "stream",
     "text": [
      "12/12 [==============================] - ETA: 0s - loss: 0.6778 - accuracy: 0.6783"
     ]
    },
    {
     "name": "stderr",
     "output_type": "stream",
     "text": [
      "2022-03-18 11:49:45.016663: I tensorflow/core/grappler/optimizers/custom_graph_optimizer_registry.cc:113] Plugin optimizer for device_type GPU is enabled.\n",
      "2022-03-18 11:49:45.091720: I tensorflow/core/grappler/optimizers/custom_graph_optimizer_registry.cc:113] Plugin optimizer for device_type GPU is enabled.\n"
     ]
    },
    {
     "name": "stdout",
     "output_type": "stream",
     "text": [
      "12/12 [==============================] - 3s 133ms/step - loss: 0.6778 - accuracy: 0.6783 - val_loss: 0.6509 - val_accuracy: 0.8325\n",
      "Epoch 2/20\n",
      "12/12 [==============================] - 1s 41ms/step - loss: 0.6242 - accuracy: 0.8353 - val_loss: 0.5582 - val_accuracy: 0.8202\n",
      "Epoch 3/20\n",
      "12/12 [==============================] - 1s 46ms/step - loss: 0.5163 - accuracy: 0.8219 - val_loss: 0.4602 - val_accuracy: 0.8379\n",
      "Epoch 4/20\n",
      "12/12 [==============================] - 0s 38ms/step - loss: 0.4463 - accuracy: 0.8452 - val_loss: 0.4094 - val_accuracy: 0.8569\n",
      "Epoch 5/20\n",
      "12/12 [==============================] - 0s 38ms/step - loss: 0.4125 - accuracy: 0.8492 - val_loss: 0.3905 - val_accuracy: 0.8561\n",
      "Epoch 6/20\n",
      "12/12 [==============================] - 0s 37ms/step - loss: 0.3987 - accuracy: 0.8496 - val_loss: 0.3783 - val_accuracy: 0.8581\n",
      "Epoch 7/20\n",
      "12/12 [==============================] - 1s 45ms/step - loss: 0.3889 - accuracy: 0.8541 - val_loss: 0.3742 - val_accuracy: 0.8583\n",
      "Epoch 8/20\n",
      "12/12 [==============================] - 1s 58ms/step - loss: 0.3835 - accuracy: 0.8548 - val_loss: 0.3696 - val_accuracy: 0.8588\n",
      "Epoch 9/20\n",
      "12/12 [==============================] - 0s 35ms/step - loss: 0.3801 - accuracy: 0.8541 - val_loss: 0.3681 - val_accuracy: 0.8588\n",
      "Epoch 10/20\n",
      "12/12 [==============================] - 0s 36ms/step - loss: 0.3770 - accuracy: 0.8541 - val_loss: 0.3654 - val_accuracy: 0.8591\n",
      "Epoch 11/20\n",
      "12/12 [==============================] - 0s 31ms/step - loss: 0.3734 - accuracy: 0.8549 - val_loss: 0.3596 - val_accuracy: 0.8591\n",
      "Epoch 12/20\n",
      "12/12 [==============================] - 0s 30ms/step - loss: 0.3700 - accuracy: 0.8560 - val_loss: 0.3583 - val_accuracy: 0.8598\n",
      "Epoch 13/20\n",
      "12/12 [==============================] - 0s 40ms/step - loss: 0.3658 - accuracy: 0.8569 - val_loss: 0.3565 - val_accuracy: 0.8618\n",
      "Epoch 14/20\n",
      "12/12 [==============================] - 0s 40ms/step - loss: 0.3634 - accuracy: 0.8574 - val_loss: 0.3526 - val_accuracy: 0.8596\n",
      "Epoch 15/20\n",
      "12/12 [==============================] - 0s 33ms/step - loss: 0.3609 - accuracy: 0.8575 - val_loss: 0.3540 - val_accuracy: 0.8601\n",
      "Epoch 16/20\n",
      "12/12 [==============================] - 1s 46ms/step - loss: 0.3577 - accuracy: 0.8582 - val_loss: 0.3497 - val_accuracy: 0.8603\n",
      "Epoch 17/20\n",
      "12/12 [==============================] - 0s 30ms/step - loss: 0.3556 - accuracy: 0.8592 - val_loss: 0.3464 - val_accuracy: 0.8601\n",
      "Epoch 18/20\n",
      "12/12 [==============================] - 0s 29ms/step - loss: 0.3536 - accuracy: 0.8597 - val_loss: 0.3463 - val_accuracy: 0.8603\n",
      "Epoch 19/20\n",
      "12/12 [==============================] - 0s 31ms/step - loss: 0.3510 - accuracy: 0.8605 - val_loss: 0.3456 - val_accuracy: 0.8620\n",
      "Epoch 20/20\n",
      "12/12 [==============================] - 0s 33ms/step - loss: 0.3497 - accuracy: 0.8610 - val_loss: 0.3453 - val_accuracy: 0.8638\n"
     ]
    },
    {
     "name": "stderr",
     "output_type": "stream",
     "text": [
      "2022-03-18 11:49:54.261862: I tensorflow/core/grappler/optimizers/custom_graph_optimizer_registry.cc:113] Plugin optimizer for device_type GPU is enabled.\n",
      "2022-03-18 11:49:54.311891: I tensorflow/core/grappler/optimizers/custom_graph_optimizer_registry.cc:113] Plugin optimizer for device_type GPU is enabled.\n"
     ]
    },
    {
     "name": "stdout",
     "output_type": "stream",
     "text": [
      "lstm_dim: 64 | batch_size: 32 | validation_split: 0.1\n",
      "accuracy: 0.8416161616161616\n",
      "auc: 0.5329378013767798\n",
      "Model: \"model_55\"\n",
      "__________________________________________________________________________________________________\n",
      " Layer (type)                   Output Shape         Param #     Connected to                     \n",
      "==================================================================================================\n",
      " input skills (InputLayer)      [(None, 99, 222)]    0           []                               \n",
      "                                                                                                  \n",
      " lstm_layer (LSTM)              (None, 99, 64)       73472       ['input skills[0][0]']           \n",
      "                                                                                                  \n",
      " probability_for_each (TimeDist  (None, 99, 111)     7215        ['lstm_layer[0][0]']             \n",
      " ributed)                                                                                         \n",
      "                                                                                                  \n",
      " next_skill_tested (InputLayer)  [(None, 99, 111)]   0           []                               \n",
      "                                                                                                  \n",
      " multiply (Multiply)            (None, 99, 111)      0           ['probability_for_each[0][0]',   \n",
      "                                                                  'next_skill_tested[0][0]']      \n",
      "                                                                                                  \n",
      " reduce_dim (Lambda)            (None, 99, 1)        0           ['multiply[0][0]']               \n",
      "                                                                                                  \n",
      "==================================================================================================\n",
      "Total params: 80,687\n",
      "Trainable params: 80,687\n",
      "Non-trainable params: 0\n",
      "__________________________________________________________________________________________________\n",
      "Epoch 1/20\n"
     ]
    },
    {
     "name": "stderr",
     "output_type": "stream",
     "text": [
      "/Users/elipleaner/miniconda3/lib/python3.8/site-packages/keras/optimizer_v2/adam.py:105: UserWarning: The `lr` argument is deprecated, use `learning_rate` instead.\n",
      "  super(Adam, self).__init__(name, **kwargs)\n",
      "2022-03-18 11:49:55.633487: I tensorflow/core/grappler/optimizers/custom_graph_optimizer_registry.cc:113] Plugin optimizer for device_type GPU is enabled.\n",
      "2022-03-18 11:49:55.828227: I tensorflow/core/grappler/optimizers/custom_graph_optimizer_registry.cc:113] Plugin optimizer for device_type GPU is enabled.\n",
      "2022-03-18 11:49:56.196745: I tensorflow/core/grappler/optimizers/custom_graph_optimizer_registry.cc:113] Plugin optimizer for device_type GPU is enabled.\n"
     ]
    },
    {
     "name": "stdout",
     "output_type": "stream",
     "text": [
      "11/11 [==============================] - ETA: 0s - loss: 0.6774 - accuracy: 0.6858"
     ]
    },
    {
     "name": "stderr",
     "output_type": "stream",
     "text": [
      "2022-03-18 11:49:57.727927: I tensorflow/core/grappler/optimizers/custom_graph_optimizer_registry.cc:113] Plugin optimizer for device_type GPU is enabled.\n",
      "2022-03-18 11:49:57.818258: I tensorflow/core/grappler/optimizers/custom_graph_optimizer_registry.cc:113] Plugin optimizer for device_type GPU is enabled.\n"
     ]
    },
    {
     "name": "stdout",
     "output_type": "stream",
     "text": [
      "11/11 [==============================] - 3s 166ms/step - loss: 0.6774 - accuracy: 0.6858 - val_loss: 0.6544 - val_accuracy: 0.8263\n",
      "Epoch 2/20\n",
      "11/11 [==============================] - 0s 46ms/step - loss: 0.6341 - accuracy: 0.8343 - val_loss: 0.5901 - val_accuracy: 0.8339\n",
      "Epoch 3/20\n",
      "11/11 [==============================] - 0s 35ms/step - loss: 0.5413 - accuracy: 0.8223 - val_loss: 0.4833 - val_accuracy: 0.8272\n",
      "Epoch 4/20\n",
      "11/11 [==============================] - 0s 37ms/step - loss: 0.4598 - accuracy: 0.8371 - val_loss: 0.4226 - val_accuracy: 0.8516\n",
      "Epoch 5/20\n",
      "11/11 [==============================] - 0s 36ms/step - loss: 0.4206 - accuracy: 0.8467 - val_loss: 0.3942 - val_accuracy: 0.8594\n",
      "Epoch 6/20\n",
      "11/11 [==============================] - 0s 34ms/step - loss: 0.4053 - accuracy: 0.8490 - val_loss: 0.3842 - val_accuracy: 0.8587\n",
      "Epoch 7/20\n",
      "11/11 [==============================] - 0s 35ms/step - loss: 0.3959 - accuracy: 0.8489 - val_loss: 0.3800 - val_accuracy: 0.8576\n",
      "Epoch 8/20\n",
      "11/11 [==============================] - 0s 33ms/step - loss: 0.3895 - accuracy: 0.8493 - val_loss: 0.3738 - val_accuracy: 0.8578\n",
      "Epoch 9/20\n",
      "11/11 [==============================] - 0s 31ms/step - loss: 0.3847 - accuracy: 0.8523 - val_loss: 0.3704 - val_accuracy: 0.8588\n",
      "Epoch 10/20\n",
      "11/11 [==============================] - 0s 33ms/step - loss: 0.3801 - accuracy: 0.8532 - val_loss: 0.3672 - val_accuracy: 0.8581\n",
      "Epoch 11/20\n",
      "11/11 [==============================] - 0s 32ms/step - loss: 0.3766 - accuracy: 0.8547 - val_loss: 0.3666 - val_accuracy: 0.8571\n",
      "Epoch 12/20\n",
      "11/11 [==============================] - 0s 31ms/step - loss: 0.3750 - accuracy: 0.8560 - val_loss: 0.3627 - val_accuracy: 0.8581\n",
      "Epoch 13/20\n",
      "11/11 [==============================] - 0s 32ms/step - loss: 0.3724 - accuracy: 0.8560 - val_loss: 0.3622 - val_accuracy: 0.8578\n",
      "Epoch 14/20\n",
      "11/11 [==============================] - 0s 32ms/step - loss: 0.3710 - accuracy: 0.8565 - val_loss: 0.3581 - val_accuracy: 0.8581\n",
      "Epoch 15/20\n",
      "11/11 [==============================] - 0s 32ms/step - loss: 0.3657 - accuracy: 0.8569 - val_loss: 0.3585 - val_accuracy: 0.8572\n",
      "Epoch 16/20\n",
      "11/11 [==============================] - 0s 32ms/step - loss: 0.3637 - accuracy: 0.8570 - val_loss: 0.3564 - val_accuracy: 0.8588\n",
      "Epoch 17/20\n",
      "11/11 [==============================] - 0s 32ms/step - loss: 0.3612 - accuracy: 0.8579 - val_loss: 0.3542 - val_accuracy: 0.8575\n",
      "Epoch 18/20\n",
      "11/11 [==============================] - 0s 31ms/step - loss: 0.3602 - accuracy: 0.8571 - val_loss: 0.3531 - val_accuracy: 0.8593\n",
      "Epoch 19/20\n",
      "11/11 [==============================] - 0s 31ms/step - loss: 0.3589 - accuracy: 0.8575 - val_loss: 0.3529 - val_accuracy: 0.8591\n",
      "Epoch 20/20\n",
      "11/11 [==============================] - 0s 31ms/step - loss: 0.3557 - accuracy: 0.8584 - val_loss: 0.3490 - val_accuracy: 0.8591\n"
     ]
    },
    {
     "name": "stderr",
     "output_type": "stream",
     "text": [
      "2022-03-18 11:50:05.304728: I tensorflow/core/grappler/optimizers/custom_graph_optimizer_registry.cc:113] Plugin optimizer for device_type GPU is enabled.\n",
      "2022-03-18 11:50:05.353886: I tensorflow/core/grappler/optimizers/custom_graph_optimizer_registry.cc:113] Plugin optimizer for device_type GPU is enabled.\n"
     ]
    },
    {
     "name": "stdout",
     "output_type": "stream",
     "text": [
      "lstm_dim: 64 | batch_size: 32 | validation_split: 0.2\n",
      "accuracy: 0.8451948051948052\n",
      "auc: 0.5469566153489278\n",
      "Model: \"model_56\"\n",
      "__________________________________________________________________________________________________\n",
      " Layer (type)                   Output Shape         Param #     Connected to                     \n",
      "==================================================================================================\n",
      " input skills (InputLayer)      [(None, 99, 222)]    0           []                               \n",
      "                                                                                                  \n",
      " lstm_layer (LSTM)              (None, 99, 64)       73472       ['input skills[0][0]']           \n",
      "                                                                                                  \n",
      " probability_for_each (TimeDist  (None, 99, 111)     7215        ['lstm_layer[0][0]']             \n",
      " ributed)                                                                                         \n",
      "                                                                                                  \n",
      " next_skill_tested (InputLayer)  [(None, 99, 111)]   0           []                               \n",
      "                                                                                                  \n",
      " multiply (Multiply)            (None, 99, 111)      0           ['probability_for_each[0][0]',   \n",
      "                                                                  'next_skill_tested[0][0]']      \n",
      "                                                                                                  \n",
      " reduce_dim (Lambda)            (None, 99, 1)        0           ['multiply[0][0]']               \n",
      "                                                                                                  \n",
      "==================================================================================================\n",
      "Total params: 80,687\n",
      "Trainable params: 80,687\n",
      "Non-trainable params: 0\n",
      "__________________________________________________________________________________________________\n",
      "Epoch 1/20\n"
     ]
    },
    {
     "name": "stderr",
     "output_type": "stream",
     "text": [
      "/Users/elipleaner/miniconda3/lib/python3.8/site-packages/keras/optimizer_v2/adam.py:105: UserWarning: The `lr` argument is deprecated, use `learning_rate` instead.\n",
      "  super(Adam, self).__init__(name, **kwargs)\n",
      "2022-03-18 11:50:07.338279: I tensorflow/core/grappler/optimizers/custom_graph_optimizer_registry.cc:113] Plugin optimizer for device_type GPU is enabled.\n",
      "2022-03-18 11:50:07.541505: I tensorflow/core/grappler/optimizers/custom_graph_optimizer_registry.cc:113] Plugin optimizer for device_type GPU is enabled.\n",
      "2022-03-18 11:50:07.880352: I tensorflow/core/grappler/optimizers/custom_graph_optimizer_registry.cc:113] Plugin optimizer for device_type GPU is enabled.\n"
     ]
    },
    {
     "name": "stdout",
     "output_type": "stream",
     "text": [
      "9/9 [==============================] - ETA: 0s - loss: 0.6796 - accuracy: 0.6702"
     ]
    },
    {
     "name": "stderr",
     "output_type": "stream",
     "text": [
      "2022-03-18 11:50:09.365378: I tensorflow/core/grappler/optimizers/custom_graph_optimizer_registry.cc:113] Plugin optimizer for device_type GPU is enabled.\n",
      "2022-03-18 11:50:09.441757: I tensorflow/core/grappler/optimizers/custom_graph_optimizer_registry.cc:113] Plugin optimizer for device_type GPU is enabled.\n"
     ]
    },
    {
     "name": "stdout",
     "output_type": "stream",
     "text": [
      "9/9 [==============================] - 3s 203ms/step - loss: 0.6796 - accuracy: 0.6702 - val_loss: 0.6609 - val_accuracy: 0.8122\n",
      "Epoch 2/20\n",
      "9/9 [==============================] - 0s 53ms/step - loss: 0.6446 - accuracy: 0.8315 - val_loss: 0.6197 - val_accuracy: 0.8434\n",
      "Epoch 3/20\n",
      "9/9 [==============================] - 0s 42ms/step - loss: 0.5867 - accuracy: 0.8323 - val_loss: 0.5420 - val_accuracy: 0.8160\n",
      "Epoch 4/20\n",
      "9/9 [==============================] - 0s 39ms/step - loss: 0.5034 - accuracy: 0.8338 - val_loss: 0.4679 - val_accuracy: 0.8403\n",
      "Epoch 5/20\n",
      "9/9 [==============================] - 0s 46ms/step - loss: 0.4486 - accuracy: 0.8458 - val_loss: 0.4297 - val_accuracy: 0.8491\n",
      "Epoch 6/20\n",
      "9/9 [==============================] - 0s 41ms/step - loss: 0.4202 - accuracy: 0.8499 - val_loss: 0.4096 - val_accuracy: 0.8527\n",
      "Epoch 7/20\n",
      "9/9 [==============================] - 0s 40ms/step - loss: 0.4073 - accuracy: 0.8499 - val_loss: 0.4028 - val_accuracy: 0.8524\n",
      "Epoch 8/20\n",
      "9/9 [==============================] - 0s 37ms/step - loss: 0.3993 - accuracy: 0.8501 - val_loss: 0.3943 - val_accuracy: 0.8535\n",
      "Epoch 9/20\n",
      "9/9 [==============================] - 0s 36ms/step - loss: 0.3923 - accuracy: 0.8518 - val_loss: 0.3899 - val_accuracy: 0.8534\n",
      "Epoch 10/20\n",
      "9/9 [==============================] - 0s 42ms/step - loss: 0.3863 - accuracy: 0.8548 - val_loss: 0.3858 - val_accuracy: 0.8542\n",
      "Epoch 11/20\n",
      "9/9 [==============================] - 0s 37ms/step - loss: 0.3826 - accuracy: 0.8561 - val_loss: 0.3829 - val_accuracy: 0.8543\n",
      "Epoch 12/20\n",
      "9/9 [==============================] - 0s 35ms/step - loss: 0.3800 - accuracy: 0.8560 - val_loss: 0.3790 - val_accuracy: 0.8539\n",
      "Epoch 13/20\n",
      "9/9 [==============================] - 0s 38ms/step - loss: 0.3769 - accuracy: 0.8563 - val_loss: 0.3767 - val_accuracy: 0.8548\n",
      "Epoch 14/20\n",
      "9/9 [==============================] - 0s 36ms/step - loss: 0.3742 - accuracy: 0.8564 - val_loss: 0.3737 - val_accuracy: 0.8550\n",
      "Epoch 15/20\n",
      "9/9 [==============================] - 0s 39ms/step - loss: 0.3719 - accuracy: 0.8563 - val_loss: 0.3712 - val_accuracy: 0.8549\n",
      "Epoch 16/20\n",
      "9/9 [==============================] - 0s 36ms/step - loss: 0.3702 - accuracy: 0.8566 - val_loss: 0.3703 - val_accuracy: 0.8553\n",
      "Epoch 17/20\n",
      "9/9 [==============================] - 0s 37ms/step - loss: 0.3716 - accuracy: 0.8570 - val_loss: 0.3871 - val_accuracy: 0.8551\n",
      "Epoch 18/20\n",
      "9/9 [==============================] - 0s 35ms/step - loss: 0.3742 - accuracy: 0.8563 - val_loss: 0.3708 - val_accuracy: 0.8569\n",
      "Epoch 19/20\n",
      "9/9 [==============================] - 0s 38ms/step - loss: 0.3704 - accuracy: 0.8583 - val_loss: 0.3731 - val_accuracy: 0.8553\n",
      "Epoch 20/20\n",
      "9/9 [==============================] - 0s 37ms/step - loss: 0.3675 - accuracy: 0.8594 - val_loss: 0.3677 - val_accuracy: 0.8566\n"
     ]
    },
    {
     "name": "stderr",
     "output_type": "stream",
     "text": [
      "2022-03-18 11:50:16.575510: I tensorflow/core/grappler/optimizers/custom_graph_optimizer_registry.cc:113] Plugin optimizer for device_type GPU is enabled.\n",
      "2022-03-18 11:50:16.619894: I tensorflow/core/grappler/optimizers/custom_graph_optimizer_registry.cc:113] Plugin optimizer for device_type GPU is enabled.\n"
     ]
    },
    {
     "name": "stdout",
     "output_type": "stream",
     "text": [
      "lstm_dim: 64 | batch_size: 32 | validation_split: 0.3\n",
      "accuracy: 0.8480808080808081\n",
      "auc: 0.5592884676411856\n",
      "Model: \"model_57\"\n",
      "__________________________________________________________________________________________________\n",
      " Layer (type)                   Output Shape         Param #     Connected to                     \n",
      "==================================================================================================\n",
      " input skills (InputLayer)      [(None, 99, 222)]    0           []                               \n",
      "                                                                                                  \n",
      " lstm_layer (LSTM)              (None, 99, 128)      179712      ['input skills[0][0]']           \n",
      "                                                                                                  \n",
      " probability_for_each (TimeDist  (None, 99, 111)     14319       ['lstm_layer[0][0]']             \n",
      " ributed)                                                                                         \n",
      "                                                                                                  \n",
      " next_skill_tested (InputLayer)  [(None, 99, 111)]   0           []                               \n",
      "                                                                                                  \n",
      " multiply (Multiply)            (None, 99, 111)      0           ['probability_for_each[0][0]',   \n",
      "                                                                  'next_skill_tested[0][0]']      \n",
      "                                                                                                  \n",
      " reduce_dim (Lambda)            (None, 99, 1)        0           ['multiply[0][0]']               \n",
      "                                                                                                  \n",
      "==================================================================================================\n",
      "Total params: 194,031\n",
      "Trainable params: 194,031\n",
      "Non-trainable params: 0\n",
      "__________________________________________________________________________________________________\n",
      "Epoch 1/20\n"
     ]
    },
    {
     "name": "stderr",
     "output_type": "stream",
     "text": [
      "/Users/elipleaner/miniconda3/lib/python3.8/site-packages/keras/optimizer_v2/adam.py:105: UserWarning: The `lr` argument is deprecated, use `learning_rate` instead.\n",
      "  super(Adam, self).__init__(name, **kwargs)\n",
      "2022-03-18 11:50:17.811810: I tensorflow/core/grappler/optimizers/custom_graph_optimizer_registry.cc:113] Plugin optimizer for device_type GPU is enabled.\n",
      "2022-03-18 11:50:17.988103: I tensorflow/core/grappler/optimizers/custom_graph_optimizer_registry.cc:113] Plugin optimizer for device_type GPU is enabled.\n",
      "2022-03-18 11:50:18.296813: I tensorflow/core/grappler/optimizers/custom_graph_optimizer_registry.cc:113] Plugin optimizer for device_type GPU is enabled.\n"
     ]
    },
    {
     "name": "stdout",
     "output_type": "stream",
     "text": [
      "52/52 [==============================] - 3s 38ms/step - loss: 0.5170 - accuracy: 0.8130\n",
      "Epoch 2/20\n",
      "52/52 [==============================] - 1s 26ms/step - loss: 0.3974 - accuracy: 0.8507\n",
      "Epoch 3/20\n",
      "52/52 [==============================] - 1s 26ms/step - loss: 0.3857 - accuracy: 0.8544\n",
      "Epoch 4/20\n",
      "52/52 [==============================] - 1s 27ms/step - loss: 0.3797 - accuracy: 0.8547\n",
      "Epoch 5/20\n",
      "52/52 [==============================] - 1s 26ms/step - loss: 0.3721 - accuracy: 0.8560\n",
      "Epoch 6/20\n",
      "52/52 [==============================] - 1s 25ms/step - loss: 0.3652 - accuracy: 0.8565\n",
      "Epoch 7/20\n",
      "52/52 [==============================] - 1s 25ms/step - loss: 0.3678 - accuracy: 0.8549\n",
      "Epoch 8/20\n",
      "52/52 [==============================] - 1s 25ms/step - loss: 0.3581 - accuracy: 0.8586\n",
      "Epoch 9/20\n",
      "52/52 [==============================] - 1s 24ms/step - loss: 0.3531 - accuracy: 0.8600\n",
      "Epoch 10/20\n",
      "52/52 [==============================] - 1s 25ms/step - loss: 0.3477 - accuracy: 0.8606\n",
      "Epoch 11/20\n",
      "52/52 [==============================] - 1s 25ms/step - loss: 0.3437 - accuracy: 0.8631\n",
      "Epoch 12/20\n",
      "52/52 [==============================] - 1s 25ms/step - loss: 0.3419 - accuracy: 0.8639\n",
      "Epoch 13/20\n",
      "52/52 [==============================] - 1s 26ms/step - loss: 0.3391 - accuracy: 0.8655\n",
      "Epoch 14/20\n",
      "52/52 [==============================] - 1s 25ms/step - loss: 0.3366 - accuracy: 0.8657\n",
      "Epoch 15/20\n",
      "52/52 [==============================] - 1s 26ms/step - loss: 0.3351 - accuracy: 0.8662\n",
      "Epoch 16/20\n",
      "52/52 [==============================] - 1s 27ms/step - loss: 0.3328 - accuracy: 0.8669\n",
      "Epoch 17/20\n",
      "52/52 [==============================] - 1s 28ms/step - loss: 0.3305 - accuracy: 0.8677\n",
      "Epoch 18/20\n",
      "52/52 [==============================] - 1s 28ms/step - loss: 0.3284 - accuracy: 0.8673\n",
      "Epoch 19/20\n",
      "52/52 [==============================] - 1s 27ms/step - loss: 0.3268 - accuracy: 0.8689\n",
      "Epoch 20/20\n",
      "52/52 [==============================] - 1s 26ms/step - loss: 0.3256 - accuracy: 0.8695\n"
     ]
    },
    {
     "name": "stderr",
     "output_type": "stream",
     "text": [
      "2022-03-18 11:50:46.571502: I tensorflow/core/grappler/optimizers/custom_graph_optimizer_registry.cc:113] Plugin optimizer for device_type GPU is enabled.\n",
      "2022-03-18 11:50:46.623433: I tensorflow/core/grappler/optimizers/custom_graph_optimizer_registry.cc:113] Plugin optimizer for device_type GPU is enabled.\n"
     ]
    },
    {
     "name": "stdout",
     "output_type": "stream",
     "text": [
      "lstm_dim: 128 | batch_size: 8 | validation_split: 0\n",
      "accuracy: 0.8563924963924964\n",
      "auc: 0.6049856652048996\n",
      "Model: \"model_58\"\n",
      "__________________________________________________________________________________________________\n",
      " Layer (type)                   Output Shape         Param #     Connected to                     \n",
      "==================================================================================================\n",
      " input skills (InputLayer)      [(None, 99, 222)]    0           []                               \n",
      "                                                                                                  \n",
      " lstm_layer (LSTM)              (None, 99, 128)      179712      ['input skills[0][0]']           \n",
      "                                                                                                  \n",
      " probability_for_each (TimeDist  (None, 99, 111)     14319       ['lstm_layer[0][0]']             \n",
      " ributed)                                                                                         \n",
      "                                                                                                  \n",
      " next_skill_tested (InputLayer)  [(None, 99, 111)]   0           []                               \n",
      "                                                                                                  \n",
      " multiply (Multiply)            (None, 99, 111)      0           ['probability_for_each[0][0]',   \n",
      "                                                                  'next_skill_tested[0][0]']      \n",
      "                                                                                                  \n",
      " reduce_dim (Lambda)            (None, 99, 1)        0           ['multiply[0][0]']               \n",
      "                                                                                                  \n",
      "==================================================================================================\n",
      "Total params: 194,031\n",
      "Trainable params: 194,031\n",
      "Non-trainable params: 0\n",
      "__________________________________________________________________________________________________\n",
      "Epoch 1/20\n"
     ]
    },
    {
     "name": "stderr",
     "output_type": "stream",
     "text": [
      "/Users/elipleaner/miniconda3/lib/python3.8/site-packages/keras/optimizer_v2/adam.py:105: UserWarning: The `lr` argument is deprecated, use `learning_rate` instead.\n",
      "  super(Adam, self).__init__(name, **kwargs)\n",
      "2022-03-18 11:50:47.807629: I tensorflow/core/grappler/optimizers/custom_graph_optimizer_registry.cc:113] Plugin optimizer for device_type GPU is enabled.\n",
      "2022-03-18 11:50:47.960029: I tensorflow/core/grappler/optimizers/custom_graph_optimizer_registry.cc:113] Plugin optimizer for device_type GPU is enabled.\n",
      "2022-03-18 11:50:48.268482: I tensorflow/core/grappler/optimizers/custom_graph_optimizer_registry.cc:113] Plugin optimizer for device_type GPU is enabled.\n"
     ]
    },
    {
     "name": "stdout",
     "output_type": "stream",
     "text": [
      "45/46 [============================>.] - ETA: 0s - loss: 0.5358 - accuracy: 0.7990"
     ]
    },
    {
     "name": "stderr",
     "output_type": "stream",
     "text": [
      "2022-03-18 11:50:50.931658: I tensorflow/core/grappler/optimizers/custom_graph_optimizer_registry.cc:113] Plugin optimizer for device_type GPU is enabled.\n",
      "2022-03-18 11:50:51.028279: I tensorflow/core/grappler/optimizers/custom_graph_optimizer_registry.cc:113] Plugin optimizer for device_type GPU is enabled.\n"
     ]
    },
    {
     "name": "stdout",
     "output_type": "stream",
     "text": [
      "46/46 [==============================] - 4s 65ms/step - loss: 0.5326 - accuracy: 0.8007 - val_loss: 0.3917 - val_accuracy: 0.8576\n",
      "Epoch 2/20\n",
      "46/46 [==============================] - 1s 31ms/step - loss: 0.4008 - accuracy: 0.8509 - val_loss: 0.3732 - val_accuracy: 0.8591\n",
      "Epoch 3/20\n",
      "46/46 [==============================] - 1s 28ms/step - loss: 0.3875 - accuracy: 0.8527 - val_loss: 0.3647 - val_accuracy: 0.8591\n",
      "Epoch 4/20\n",
      "46/46 [==============================] - 1s 28ms/step - loss: 0.3814 - accuracy: 0.8532 - val_loss: 0.3623 - val_accuracy: 0.8576\n",
      "Epoch 5/20\n",
      "46/46 [==============================] - 1s 27ms/step - loss: 0.3769 - accuracy: 0.8537 - val_loss: 0.3574 - val_accuracy: 0.8613\n",
      "Epoch 6/20\n",
      "46/46 [==============================] - 1s 26ms/step - loss: 0.3669 - accuracy: 0.8560 - val_loss: 0.3599 - val_accuracy: 0.8615\n",
      "Epoch 7/20\n",
      "46/46 [==============================] - 1s 28ms/step - loss: 0.3634 - accuracy: 0.8578 - val_loss: 0.3460 - val_accuracy: 0.8586\n",
      "Epoch 8/20\n",
      "46/46 [==============================] - 1s 25ms/step - loss: 0.3565 - accuracy: 0.8588 - val_loss: 0.3464 - val_accuracy: 0.8625\n",
      "Epoch 9/20\n",
      "46/46 [==============================] - 1s 26ms/step - loss: 0.3495 - accuracy: 0.8615 - val_loss: 0.3375 - val_accuracy: 0.8638\n",
      "Epoch 10/20\n",
      "46/46 [==============================] - 1s 27ms/step - loss: 0.3447 - accuracy: 0.8633 - val_loss: 0.3364 - val_accuracy: 0.8667\n",
      "Epoch 11/20\n",
      "46/46 [==============================] - 1s 28ms/step - loss: 0.3418 - accuracy: 0.8649 - val_loss: 0.3359 - val_accuracy: 0.8638\n",
      "Epoch 12/20\n",
      "46/46 [==============================] - 1s 26ms/step - loss: 0.3388 - accuracy: 0.8662 - val_loss: 0.3332 - val_accuracy: 0.8643\n",
      "Epoch 13/20\n",
      "46/46 [==============================] - 1s 27ms/step - loss: 0.3360 - accuracy: 0.8673 - val_loss: 0.3332 - val_accuracy: 0.8638\n",
      "Epoch 14/20\n",
      "46/46 [==============================] - 1s 26ms/step - loss: 0.3331 - accuracy: 0.8680 - val_loss: 0.3331 - val_accuracy: 0.8635\n",
      "Epoch 15/20\n",
      "46/46 [==============================] - 1s 26ms/step - loss: 0.3314 - accuracy: 0.8687 - val_loss: 0.3331 - val_accuracy: 0.8655\n",
      "Epoch 16/20\n",
      "46/46 [==============================] - 1s 26ms/step - loss: 0.3304 - accuracy: 0.8681 - val_loss: 0.3332 - val_accuracy: 0.8652\n",
      "Epoch 17/20\n",
      "46/46 [==============================] - 1s 26ms/step - loss: 0.3282 - accuracy: 0.8686 - val_loss: 0.3308 - val_accuracy: 0.8655\n",
      "Epoch 18/20\n",
      "46/46 [==============================] - 1s 26ms/step - loss: 0.3275 - accuracy: 0.8698 - val_loss: 0.3280 - val_accuracy: 0.8682\n",
      "Epoch 19/20\n",
      "46/46 [==============================] - 1s 26ms/step - loss: 0.3253 - accuracy: 0.8701 - val_loss: 0.3320 - val_accuracy: 0.8677\n",
      "Epoch 20/20\n",
      "46/46 [==============================] - 1s 27ms/step - loss: 0.3224 - accuracy: 0.8714 - val_loss: 0.3299 - val_accuracy: 0.8662\n"
     ]
    },
    {
     "name": "stderr",
     "output_type": "stream",
     "text": [
      "2022-03-18 11:51:15.325944: I tensorflow/core/grappler/optimizers/custom_graph_optimizer_registry.cc:113] Plugin optimizer for device_type GPU is enabled.\n",
      "2022-03-18 11:51:15.384359: I tensorflow/core/grappler/optimizers/custom_graph_optimizer_registry.cc:113] Plugin optimizer for device_type GPU is enabled.\n"
     ]
    },
    {
     "name": "stdout",
     "output_type": "stream",
     "text": [
      "lstm_dim: 128 | batch_size: 8 | validation_split: 0.1\n",
      "accuracy: 0.8565656565656565\n",
      "auc: 0.6070689638165894\n",
      "Model: \"model_59\"\n",
      "__________________________________________________________________________________________________\n",
      " Layer (type)                   Output Shape         Param #     Connected to                     \n",
      "==================================================================================================\n",
      " input skills (InputLayer)      [(None, 99, 222)]    0           []                               \n",
      "                                                                                                  \n",
      " lstm_layer (LSTM)              (None, 99, 128)      179712      ['input skills[0][0]']           \n",
      "                                                                                                  \n",
      " probability_for_each (TimeDist  (None, 99, 111)     14319       ['lstm_layer[0][0]']             \n",
      " ributed)                                                                                         \n",
      "                                                                                                  \n",
      " next_skill_tested (InputLayer)  [(None, 99, 111)]   0           []                               \n",
      "                                                                                                  \n",
      " multiply (Multiply)            (None, 99, 111)      0           ['probability_for_each[0][0]',   \n",
      "                                                                  'next_skill_tested[0][0]']      \n",
      "                                                                                                  \n",
      " reduce_dim (Lambda)            (None, 99, 1)        0           ['multiply[0][0]']               \n",
      "                                                                                                  \n",
      "==================================================================================================\n",
      "Total params: 194,031\n",
      "Trainable params: 194,031\n",
      "Non-trainable params: 0\n",
      "__________________________________________________________________________________________________\n",
      "Epoch 1/20\n"
     ]
    },
    {
     "name": "stderr",
     "output_type": "stream",
     "text": [
      "/Users/elipleaner/miniconda3/lib/python3.8/site-packages/keras/optimizer_v2/adam.py:105: UserWarning: The `lr` argument is deprecated, use `learning_rate` instead.\n",
      "  super(Adam, self).__init__(name, **kwargs)\n",
      "2022-03-18 11:51:16.650519: I tensorflow/core/grappler/optimizers/custom_graph_optimizer_registry.cc:113] Plugin optimizer for device_type GPU is enabled.\n",
      "2022-03-18 11:51:16.831320: I tensorflow/core/grappler/optimizers/custom_graph_optimizer_registry.cc:113] Plugin optimizer for device_type GPU is enabled.\n",
      "2022-03-18 11:51:17.176510: I tensorflow/core/grappler/optimizers/custom_graph_optimizer_registry.cc:113] Plugin optimizer for device_type GPU is enabled.\n"
     ]
    },
    {
     "name": "stdout",
     "output_type": "stream",
     "text": [
      "41/41 [==============================] - ETA: 0s - loss: 0.5597 - accuracy: 0.8040"
     ]
    },
    {
     "name": "stderr",
     "output_type": "stream",
     "text": [
      "2022-03-18 11:51:19.561459: I tensorflow/core/grappler/optimizers/custom_graph_optimizer_registry.cc:113] Plugin optimizer for device_type GPU is enabled.\n",
      "2022-03-18 11:51:19.645593: I tensorflow/core/grappler/optimizers/custom_graph_optimizer_registry.cc:113] Plugin optimizer for device_type GPU is enabled.\n"
     ]
    },
    {
     "name": "stdout",
     "output_type": "stream",
     "text": [
      "41/41 [==============================] - 4s 67ms/step - loss: 0.5597 - accuracy: 0.8040 - val_loss: 0.4095 - val_accuracy: 0.8577\n",
      "Epoch 2/20\n",
      "41/41 [==============================] - 1s 33ms/step - loss: 0.4031 - accuracy: 0.8508 - val_loss: 0.3763 - val_accuracy: 0.8586\n",
      "Epoch 3/20\n",
      "41/41 [==============================] - 1s 30ms/step - loss: 0.3890 - accuracy: 0.8524 - val_loss: 0.3726 - val_accuracy: 0.8577\n",
      "Epoch 4/20\n",
      "41/41 [==============================] - 1s 29ms/step - loss: 0.3836 - accuracy: 0.8531 - val_loss: 0.3833 - val_accuracy: 0.8603\n",
      "Epoch 5/20\n",
      "41/41 [==============================] - 1s 31ms/step - loss: 0.3779 - accuracy: 0.8549 - val_loss: 0.3644 - val_accuracy: 0.8597\n",
      "Epoch 6/20\n",
      "41/41 [==============================] - 1s 30ms/step - loss: 0.3712 - accuracy: 0.8560 - val_loss: 0.3566 - val_accuracy: 0.8615\n",
      "Epoch 7/20\n",
      "41/41 [==============================] - 1s 30ms/step - loss: 0.3643 - accuracy: 0.8587 - val_loss: 0.3519 - val_accuracy: 0.8583\n",
      "Epoch 8/20\n",
      "41/41 [==============================] - 1s 30ms/step - loss: 0.3628 - accuracy: 0.8563 - val_loss: 0.3472 - val_accuracy: 0.8612\n",
      "Epoch 9/20\n",
      "41/41 [==============================] - 1s 31ms/step - loss: 0.3578 - accuracy: 0.8598 - val_loss: 0.3438 - val_accuracy: 0.8614\n",
      "Epoch 10/20\n",
      "41/41 [==============================] - 1s 29ms/step - loss: 0.3509 - accuracy: 0.8614 - val_loss: 0.3478 - val_accuracy: 0.8620\n",
      "Epoch 11/20\n",
      "41/41 [==============================] - 1s 29ms/step - loss: 0.3454 - accuracy: 0.8643 - val_loss: 0.3373 - val_accuracy: 0.8638\n",
      "Epoch 12/20\n",
      "41/41 [==============================] - 1s 29ms/step - loss: 0.3426 - accuracy: 0.8647 - val_loss: 0.3361 - val_accuracy: 0.8650\n",
      "Epoch 13/20\n",
      "41/41 [==============================] - 1s 29ms/step - loss: 0.3407 - accuracy: 0.8653 - val_loss: 0.3351 - val_accuracy: 0.8647\n",
      "Epoch 14/20\n",
      "41/41 [==============================] - 1s 30ms/step - loss: 0.3371 - accuracy: 0.8671 - val_loss: 0.3351 - val_accuracy: 0.8652\n",
      "Epoch 15/20\n",
      "41/41 [==============================] - 1s 29ms/step - loss: 0.3358 - accuracy: 0.8672 - val_loss: 0.3334 - val_accuracy: 0.8667\n",
      "Epoch 16/20\n",
      "41/41 [==============================] - 1s 29ms/step - loss: 0.3337 - accuracy: 0.8682 - val_loss: 0.3321 - val_accuracy: 0.8650\n",
      "Epoch 17/20\n",
      "41/41 [==============================] - 1s 29ms/step - loss: 0.3316 - accuracy: 0.8678 - val_loss: 0.3334 - val_accuracy: 0.8663\n",
      "Epoch 18/20\n",
      "41/41 [==============================] - 1s 29ms/step - loss: 0.3285 - accuracy: 0.8698 - val_loss: 0.3314 - val_accuracy: 0.8647\n",
      "Epoch 19/20\n",
      "41/41 [==============================] - 1s 29ms/step - loss: 0.3287 - accuracy: 0.8704 - val_loss: 0.3311 - val_accuracy: 0.8657\n",
      "Epoch 20/20\n",
      "41/41 [==============================] - 1s 29ms/step - loss: 0.3248 - accuracy: 0.8709 - val_loss: 0.3324 - val_accuracy: 0.8661\n"
     ]
    },
    {
     "name": "stderr",
     "output_type": "stream",
     "text": [
      "2022-03-18 11:51:43.509163: I tensorflow/core/grappler/optimizers/custom_graph_optimizer_registry.cc:113] Plugin optimizer for device_type GPU is enabled.\n",
      "2022-03-18 11:51:43.560779: I tensorflow/core/grappler/optimizers/custom_graph_optimizer_registry.cc:113] Plugin optimizer for device_type GPU is enabled.\n"
     ]
    },
    {
     "name": "stdout",
     "output_type": "stream",
     "text": [
      "lstm_dim: 128 | batch_size: 8 | validation_split: 0.2\n",
      "accuracy: 0.8555844155844156\n",
      "auc: 0.615390848928028\n",
      "Model: \"model_60\"\n",
      "__________________________________________________________________________________________________\n",
      " Layer (type)                   Output Shape         Param #     Connected to                     \n",
      "==================================================================================================\n",
      " input skills (InputLayer)      [(None, 99, 222)]    0           []                               \n",
      "                                                                                                  \n",
      " lstm_layer (LSTM)              (None, 99, 128)      179712      ['input skills[0][0]']           \n",
      "                                                                                                  \n",
      " probability_for_each (TimeDist  (None, 99, 111)     14319       ['lstm_layer[0][0]']             \n",
      " ributed)                                                                                         \n",
      "                                                                                                  \n",
      " next_skill_tested (InputLayer)  [(None, 99, 111)]   0           []                               \n",
      "                                                                                                  \n",
      " multiply (Multiply)            (None, 99, 111)      0           ['probability_for_each[0][0]',   \n",
      "                                                                  'next_skill_tested[0][0]']      \n",
      "                                                                                                  \n",
      " reduce_dim (Lambda)            (None, 99, 1)        0           ['multiply[0][0]']               \n",
      "                                                                                                  \n",
      "==================================================================================================\n",
      "Total params: 194,031\n",
      "Trainable params: 194,031\n",
      "Non-trainable params: 0\n",
      "__________________________________________________________________________________________________\n",
      "Epoch 1/20\n"
     ]
    },
    {
     "name": "stderr",
     "output_type": "stream",
     "text": [
      "/Users/elipleaner/miniconda3/lib/python3.8/site-packages/keras/optimizer_v2/adam.py:105: UserWarning: The `lr` argument is deprecated, use `learning_rate` instead.\n",
      "  super(Adam, self).__init__(name, **kwargs)\n",
      "2022-03-18 11:51:44.770694: I tensorflow/core/grappler/optimizers/custom_graph_optimizer_registry.cc:113] Plugin optimizer for device_type GPU is enabled.\n",
      "2022-03-18 11:51:44.944772: I tensorflow/core/grappler/optimizers/custom_graph_optimizer_registry.cc:113] Plugin optimizer for device_type GPU is enabled.\n",
      "2022-03-18 11:51:45.261490: I tensorflow/core/grappler/optimizers/custom_graph_optimizer_registry.cc:113] Plugin optimizer for device_type GPU is enabled.\n"
     ]
    },
    {
     "name": "stdout",
     "output_type": "stream",
     "text": [
      "36/36 [==============================] - ETA: 0s - loss: 0.5539 - accuracy: 0.8002"
     ]
    },
    {
     "name": "stderr",
     "output_type": "stream",
     "text": [
      "2022-03-18 11:51:47.472241: I tensorflow/core/grappler/optimizers/custom_graph_optimizer_registry.cc:113] Plugin optimizer for device_type GPU is enabled.\n",
      "2022-03-18 11:51:47.554188: I tensorflow/core/grappler/optimizers/custom_graph_optimizer_registry.cc:113] Plugin optimizer for device_type GPU is enabled.\n"
     ]
    },
    {
     "name": "stdout",
     "output_type": "stream",
     "text": [
      "36/36 [==============================] - 4s 74ms/step - loss: 0.5539 - accuracy: 0.8002 - val_loss: 0.4212 - val_accuracy: 0.8460\n",
      "Epoch 2/20\n",
      "36/36 [==============================] - 1s 37ms/step - loss: 0.4030 - accuracy: 0.8509 - val_loss: 0.3953 - val_accuracy: 0.8539\n",
      "Epoch 3/20\n",
      "36/36 [==============================] - 1s 33ms/step - loss: 0.3896 - accuracy: 0.8532 - val_loss: 0.3879 - val_accuracy: 0.8534\n",
      "Epoch 4/20\n",
      "36/36 [==============================] - 1s 32ms/step - loss: 0.3833 - accuracy: 0.8537 - val_loss: 0.3811 - val_accuracy: 0.8543\n",
      "Epoch 5/20\n",
      "36/36 [==============================] - 1s 33ms/step - loss: 0.3766 - accuracy: 0.8542 - val_loss: 0.3780 - val_accuracy: 0.8551\n",
      "Epoch 6/20\n",
      "36/36 [==============================] - 1s 33ms/step - loss: 0.3737 - accuracy: 0.8560 - val_loss: 0.3708 - val_accuracy: 0.8539\n",
      "Epoch 7/20\n",
      "36/36 [==============================] - 1s 32ms/step - loss: 0.3672 - accuracy: 0.8573 - val_loss: 0.3717 - val_accuracy: 0.8582\n",
      "Epoch 8/20\n",
      "36/36 [==============================] - 1s 33ms/step - loss: 0.3635 - accuracy: 0.8582 - val_loss: 0.3601 - val_accuracy: 0.8565\n",
      "Epoch 9/20\n",
      "36/36 [==============================] - 1s 32ms/step - loss: 0.3587 - accuracy: 0.8603 - val_loss: 0.3547 - val_accuracy: 0.8582\n",
      "Epoch 10/20\n",
      "36/36 [==============================] - 1s 32ms/step - loss: 0.3551 - accuracy: 0.8610 - val_loss: 0.3558 - val_accuracy: 0.8578\n",
      "Epoch 11/20\n",
      "36/36 [==============================] - 1s 32ms/step - loss: 0.3503 - accuracy: 0.8617 - val_loss: 0.3496 - val_accuracy: 0.8592\n",
      "Epoch 12/20\n",
      "36/36 [==============================] - 1s 32ms/step - loss: 0.3477 - accuracy: 0.8613 - val_loss: 0.3470 - val_accuracy: 0.8601\n",
      "Epoch 13/20\n",
      "36/36 [==============================] - 1s 32ms/step - loss: 0.3436 - accuracy: 0.8633 - val_loss: 0.3432 - val_accuracy: 0.8607\n",
      "Epoch 14/20\n",
      "36/36 [==============================] - 1s 32ms/step - loss: 0.3426 - accuracy: 0.8610 - val_loss: 0.3430 - val_accuracy: 0.8622\n",
      "Epoch 15/20\n",
      "36/36 [==============================] - 1s 32ms/step - loss: 0.3380 - accuracy: 0.8641 - val_loss: 0.3371 - val_accuracy: 0.8646\n",
      "Epoch 16/20\n",
      "36/36 [==============================] - 1s 31ms/step - loss: 0.3363 - accuracy: 0.8647 - val_loss: 0.3431 - val_accuracy: 0.8629\n",
      "Epoch 17/20\n",
      "36/36 [==============================] - 1s 32ms/step - loss: 0.3389 - accuracy: 0.8658 - val_loss: 0.3404 - val_accuracy: 0.8660\n",
      "Epoch 18/20\n",
      "36/36 [==============================] - 1s 32ms/step - loss: 0.3347 - accuracy: 0.8667 - val_loss: 0.3378 - val_accuracy: 0.8648\n",
      "Epoch 19/20\n",
      "36/36 [==============================] - 1s 32ms/step - loss: 0.3314 - accuracy: 0.8685 - val_loss: 0.3350 - val_accuracy: 0.8658\n",
      "Epoch 20/20\n",
      "36/36 [==============================] - 1s 31ms/step - loss: 0.3304 - accuracy: 0.8681 - val_loss: 0.3378 - val_accuracy: 0.8662\n"
     ]
    },
    {
     "name": "stderr",
     "output_type": "stream",
     "text": [
      "2022-03-18 11:52:10.390323: I tensorflow/core/grappler/optimizers/custom_graph_optimizer_registry.cc:113] Plugin optimizer for device_type GPU is enabled.\n",
      "2022-03-18 11:52:10.438580: I tensorflow/core/grappler/optimizers/custom_graph_optimizer_registry.cc:113] Plugin optimizer for device_type GPU is enabled.\n"
     ]
    },
    {
     "name": "stdout",
     "output_type": "stream",
     "text": [
      "lstm_dim: 128 | batch_size: 8 | validation_split: 0.3\n",
      "accuracy: 0.8536219336219336\n",
      "auc: 0.6187421536171677\n",
      "Model: \"model_61\"\n",
      "__________________________________________________________________________________________________\n",
      " Layer (type)                   Output Shape         Param #     Connected to                     \n",
      "==================================================================================================\n",
      " input skills (InputLayer)      [(None, 99, 222)]    0           []                               \n",
      "                                                                                                  \n",
      " lstm_layer (LSTM)              (None, 99, 128)      179712      ['input skills[0][0]']           \n",
      "                                                                                                  \n",
      " probability_for_each (TimeDist  (None, 99, 111)     14319       ['lstm_layer[0][0]']             \n",
      " ributed)                                                                                         \n",
      "                                                                                                  \n",
      " next_skill_tested (InputLayer)  [(None, 99, 111)]   0           []                               \n",
      "                                                                                                  \n",
      " multiply (Multiply)            (None, 99, 111)      0           ['probability_for_each[0][0]',   \n",
      "                                                                  'next_skill_tested[0][0]']      \n",
      "                                                                                                  \n",
      " reduce_dim (Lambda)            (None, 99, 1)        0           ['multiply[0][0]']               \n",
      "                                                                                                  \n",
      "==================================================================================================\n",
      "Total params: 194,031\n",
      "Trainable params: 194,031\n",
      "Non-trainable params: 0\n",
      "__________________________________________________________________________________________________\n",
      "Epoch 1/20\n"
     ]
    },
    {
     "name": "stderr",
     "output_type": "stream",
     "text": [
      "/Users/elipleaner/miniconda3/lib/python3.8/site-packages/keras/optimizer_v2/adam.py:105: UserWarning: The `lr` argument is deprecated, use `learning_rate` instead.\n",
      "  super(Adam, self).__init__(name, **kwargs)\n",
      "2022-03-18 11:52:12.453102: I tensorflow/core/grappler/optimizers/custom_graph_optimizer_registry.cc:113] Plugin optimizer for device_type GPU is enabled.\n",
      "2022-03-18 11:52:12.630660: I tensorflow/core/grappler/optimizers/custom_graph_optimizer_registry.cc:113] Plugin optimizer for device_type GPU is enabled.\n",
      "2022-03-18 11:52:12.964126: I tensorflow/core/grappler/optimizers/custom_graph_optimizer_registry.cc:113] Plugin optimizer for device_type GPU is enabled.\n"
     ]
    },
    {
     "name": "stdout",
     "output_type": "stream",
     "text": [
      "26/26 [==============================] - 4s 57ms/step - loss: 0.5797 - accuracy: 0.8007\n",
      "Epoch 2/20\n",
      "26/26 [==============================] - 1s 26ms/step - loss: 0.4115 - accuracy: 0.8492\n",
      "Epoch 3/20\n",
      "26/26 [==============================] - 1s 26ms/step - loss: 0.3923 - accuracy: 0.8523\n",
      "Epoch 4/20\n",
      "26/26 [==============================] - 1s 27ms/step - loss: 0.3870 - accuracy: 0.8518\n",
      "Epoch 5/20\n",
      "26/26 [==============================] - 1s 27ms/step - loss: 0.3807 - accuracy: 0.8552\n",
      "Epoch 6/20\n",
      "26/26 [==============================] - 1s 27ms/step - loss: 0.3797 - accuracy: 0.8537\n",
      "Epoch 7/20\n",
      "26/26 [==============================] - 1s 27ms/step - loss: 0.3727 - accuracy: 0.8544\n",
      "Epoch 8/20\n",
      "26/26 [==============================] - 1s 26ms/step - loss: 0.3688 - accuracy: 0.8561\n",
      "Epoch 9/20\n",
      "26/26 [==============================] - 1s 26ms/step - loss: 0.3626 - accuracy: 0.8572\n",
      "Epoch 10/20\n",
      "26/26 [==============================] - 1s 26ms/step - loss: 0.3591 - accuracy: 0.8586\n",
      "Epoch 11/20\n",
      "26/26 [==============================] - 1s 26ms/step - loss: 0.3532 - accuracy: 0.8599\n",
      "Epoch 12/20\n",
      "26/26 [==============================] - 1s 33ms/step - loss: 0.3497 - accuracy: 0.8608\n",
      "Epoch 13/20\n",
      "26/26 [==============================] - 1s 31ms/step - loss: 0.3460 - accuracy: 0.8634\n",
      "Epoch 14/20\n",
      "26/26 [==============================] - 1s 26ms/step - loss: 0.3424 - accuracy: 0.8647\n",
      "Epoch 15/20\n",
      "26/26 [==============================] - 1s 28ms/step - loss: 0.3392 - accuracy: 0.8659\n",
      "Epoch 16/20\n",
      "26/26 [==============================] - 1s 26ms/step - loss: 0.3377 - accuracy: 0.8661\n",
      "Epoch 17/20\n",
      "26/26 [==============================] - 1s 28ms/step - loss: 0.3345 - accuracy: 0.8668\n",
      "Epoch 18/20\n",
      "26/26 [==============================] - 1s 30ms/step - loss: 0.3334 - accuracy: 0.8679\n",
      "Epoch 19/20\n",
      "26/26 [==============================] - 1s 27ms/step - loss: 0.3321 - accuracy: 0.8686\n",
      "Epoch 20/20\n",
      "26/26 [==============================] - 1s 27ms/step - loss: 0.3287 - accuracy: 0.8690\n"
     ]
    },
    {
     "name": "stderr",
     "output_type": "stream",
     "text": [
      "2022-03-18 11:52:28.536520: I tensorflow/core/grappler/optimizers/custom_graph_optimizer_registry.cc:113] Plugin optimizer for device_type GPU is enabled.\n",
      "2022-03-18 11:52:28.582620: I tensorflow/core/grappler/optimizers/custom_graph_optimizer_registry.cc:113] Plugin optimizer for device_type GPU is enabled.\n"
     ]
    },
    {
     "name": "stdout",
     "output_type": "stream",
     "text": [
      "lstm_dim: 128 | batch_size: 16 | validation_split: 0\n",
      "accuracy: 0.8573160173160174\n",
      "auc: 0.6012957607169133\n",
      "Model: \"model_62\"\n",
      "__________________________________________________________________________________________________\n",
      " Layer (type)                   Output Shape         Param #     Connected to                     \n",
      "==================================================================================================\n",
      " input skills (InputLayer)      [(None, 99, 222)]    0           []                               \n",
      "                                                                                                  \n",
      " lstm_layer (LSTM)              (None, 99, 128)      179712      ['input skills[0][0]']           \n",
      "                                                                                                  \n",
      " probability_for_each (TimeDist  (None, 99, 111)     14319       ['lstm_layer[0][0]']             \n",
      " ributed)                                                                                         \n",
      "                                                                                                  \n",
      " next_skill_tested (InputLayer)  [(None, 99, 111)]   0           []                               \n",
      "                                                                                                  \n",
      " multiply (Multiply)            (None, 99, 111)      0           ['probability_for_each[0][0]',   \n",
      "                                                                  'next_skill_tested[0][0]']      \n",
      "                                                                                                  \n",
      " reduce_dim (Lambda)            (None, 99, 1)        0           ['multiply[0][0]']               \n",
      "                                                                                                  \n",
      "==================================================================================================\n",
      "Total params: 194,031\n",
      "Trainable params: 194,031\n",
      "Non-trainable params: 0\n",
      "__________________________________________________________________________________________________\n",
      "Epoch 1/20\n"
     ]
    },
    {
     "name": "stderr",
     "output_type": "stream",
     "text": [
      "/Users/elipleaner/miniconda3/lib/python3.8/site-packages/keras/optimizer_v2/adam.py:105: UserWarning: The `lr` argument is deprecated, use `learning_rate` instead.\n",
      "  super(Adam, self).__init__(name, **kwargs)\n",
      "2022-03-18 11:52:29.755945: I tensorflow/core/grappler/optimizers/custom_graph_optimizer_registry.cc:113] Plugin optimizer for device_type GPU is enabled.\n",
      "2022-03-18 11:52:29.951268: I tensorflow/core/grappler/optimizers/custom_graph_optimizer_registry.cc:113] Plugin optimizer for device_type GPU is enabled.\n",
      "2022-03-18 11:52:30.298294: I tensorflow/core/grappler/optimizers/custom_graph_optimizer_registry.cc:113] Plugin optimizer for device_type GPU is enabled.\n"
     ]
    },
    {
     "name": "stdout",
     "output_type": "stream",
     "text": [
      "23/23 [==============================] - ETA: 0s - loss: 0.6040 - accuracy: 0.7825"
     ]
    },
    {
     "name": "stderr",
     "output_type": "stream",
     "text": [
      "2022-03-18 11:52:31.610111: I tensorflow/core/grappler/optimizers/custom_graph_optimizer_registry.cc:113] Plugin optimizer for device_type GPU is enabled.\n",
      "2022-03-18 11:52:31.685643: I tensorflow/core/grappler/optimizers/custom_graph_optimizer_registry.cc:113] Plugin optimizer for device_type GPU is enabled.\n"
     ]
    },
    {
     "name": "stdout",
     "output_type": "stream",
     "text": [
      "23/23 [==============================] - 3s 65ms/step - loss: 0.6040 - accuracy: 0.7825 - val_loss: 0.4643 - val_accuracy: 0.8273\n",
      "Epoch 2/20\n",
      "23/23 [==============================] - 1s 35ms/step - loss: 0.4286 - accuracy: 0.8435 - val_loss: 0.3803 - val_accuracy: 0.8588\n",
      "Epoch 3/20\n",
      "23/23 [==============================] - 1s 28ms/step - loss: 0.3976 - accuracy: 0.8518 - val_loss: 0.3709 - val_accuracy: 0.8586\n",
      "Epoch 4/20\n",
      "23/23 [==============================] - 1s 28ms/step - loss: 0.3885 - accuracy: 0.8535 - val_loss: 0.3675 - val_accuracy: 0.8591\n",
      "Epoch 5/20\n",
      "23/23 [==============================] - 1s 27ms/step - loss: 0.3833 - accuracy: 0.8543 - val_loss: 0.3628 - val_accuracy: 0.8598\n",
      "Epoch 6/20\n",
      "23/23 [==============================] - 1s 27ms/step - loss: 0.3761 - accuracy: 0.8539 - val_loss: 0.3629 - val_accuracy: 0.8615\n",
      "Epoch 7/20\n",
      "23/23 [==============================] - 1s 27ms/step - loss: 0.3723 - accuracy: 0.8557 - val_loss: 0.3575 - val_accuracy: 0.8613\n",
      "Epoch 8/20\n",
      "23/23 [==============================] - 1s 28ms/step - loss: 0.3673 - accuracy: 0.8573 - val_loss: 0.3491 - val_accuracy: 0.8625\n",
      "Epoch 9/20\n",
      "23/23 [==============================] - 1s 27ms/step - loss: 0.3648 - accuracy: 0.8580 - val_loss: 0.3487 - val_accuracy: 0.8586\n",
      "Epoch 10/20\n",
      "23/23 [==============================] - 1s 34ms/step - loss: 0.3596 - accuracy: 0.8585 - val_loss: 0.3497 - val_accuracy: 0.8618\n",
      "Epoch 11/20\n",
      "23/23 [==============================] - 1s 30ms/step - loss: 0.3531 - accuracy: 0.8603 - val_loss: 0.3365 - val_accuracy: 0.8618\n",
      "Epoch 12/20\n",
      "23/23 [==============================] - 1s 30ms/step - loss: 0.3487 - accuracy: 0.8634 - val_loss: 0.3382 - val_accuracy: 0.8608\n",
      "Epoch 13/20\n",
      "23/23 [==============================] - 1s 31ms/step - loss: 0.3447 - accuracy: 0.8635 - val_loss: 0.3350 - val_accuracy: 0.8625\n",
      "Epoch 14/20\n",
      "23/23 [==============================] - 1s 27ms/step - loss: 0.3419 - accuracy: 0.8650 - val_loss: 0.3371 - val_accuracy: 0.8620\n",
      "Epoch 15/20\n",
      "23/23 [==============================] - 1s 28ms/step - loss: 0.3403 - accuracy: 0.8661 - val_loss: 0.3330 - val_accuracy: 0.8613\n",
      "Epoch 16/20\n",
      "23/23 [==============================] - 1s 29ms/step - loss: 0.3383 - accuracy: 0.8659 - val_loss: 0.3321 - val_accuracy: 0.8643\n",
      "Epoch 17/20\n",
      "23/23 [==============================] - 1s 30ms/step - loss: 0.3351 - accuracy: 0.8677 - val_loss: 0.3318 - val_accuracy: 0.8655\n",
      "Epoch 18/20\n",
      "23/23 [==============================] - 1s 27ms/step - loss: 0.3333 - accuracy: 0.8684 - val_loss: 0.3284 - val_accuracy: 0.8662\n",
      "Epoch 19/20\n",
      "23/23 [==============================] - 1s 27ms/step - loss: 0.3329 - accuracy: 0.8690 - val_loss: 0.3307 - val_accuracy: 0.8635\n",
      "Epoch 20/20\n",
      "23/23 [==============================] - 1s 27ms/step - loss: 0.3298 - accuracy: 0.8696 - val_loss: 0.3306 - val_accuracy: 0.8655\n"
     ]
    },
    {
     "name": "stderr",
     "output_type": "stream",
     "text": [
      "2022-03-18 11:52:44.831511: I tensorflow/core/grappler/optimizers/custom_graph_optimizer_registry.cc:113] Plugin optimizer for device_type GPU is enabled.\n",
      "2022-03-18 11:52:44.873768: I tensorflow/core/grappler/optimizers/custom_graph_optimizer_registry.cc:113] Plugin optimizer for device_type GPU is enabled.\n"
     ]
    },
    {
     "name": "stdout",
     "output_type": "stream",
     "text": [
      "lstm_dim: 128 | batch_size: 16 | validation_split: 0.1\n",
      "accuracy: 0.8550649350649351\n",
      "auc: 0.6034845847807299\n",
      "Model: \"model_63\"\n",
      "__________________________________________________________________________________________________\n",
      " Layer (type)                   Output Shape         Param #     Connected to                     \n",
      "==================================================================================================\n",
      " input skills (InputLayer)      [(None, 99, 222)]    0           []                               \n",
      "                                                                                                  \n",
      " lstm_layer (LSTM)              (None, 99, 128)      179712      ['input skills[0][0]']           \n",
      "                                                                                                  \n",
      " probability_for_each (TimeDist  (None, 99, 111)     14319       ['lstm_layer[0][0]']             \n",
      " ributed)                                                                                         \n",
      "                                                                                                  \n",
      " next_skill_tested (InputLayer)  [(None, 99, 111)]   0           []                               \n",
      "                                                                                                  \n",
      " multiply (Multiply)            (None, 99, 111)      0           ['probability_for_each[0][0]',   \n",
      "                                                                  'next_skill_tested[0][0]']      \n",
      "                                                                                                  \n",
      " reduce_dim (Lambda)            (None, 99, 1)        0           ['multiply[0][0]']               \n",
      "                                                                                                  \n",
      "==================================================================================================\n",
      "Total params: 194,031\n",
      "Trainable params: 194,031\n",
      "Non-trainable params: 0\n",
      "__________________________________________________________________________________________________\n",
      "Epoch 1/20\n"
     ]
    },
    {
     "name": "stderr",
     "output_type": "stream",
     "text": [
      "/Users/elipleaner/miniconda3/lib/python3.8/site-packages/keras/optimizer_v2/adam.py:105: UserWarning: The `lr` argument is deprecated, use `learning_rate` instead.\n",
      "  super(Adam, self).__init__(name, **kwargs)\n",
      "2022-03-18 11:52:46.902414: I tensorflow/core/grappler/optimizers/custom_graph_optimizer_registry.cc:113] Plugin optimizer for device_type GPU is enabled.\n",
      "2022-03-18 11:52:47.121605: I tensorflow/core/grappler/optimizers/custom_graph_optimizer_registry.cc:113] Plugin optimizer for device_type GPU is enabled.\n",
      "2022-03-18 11:52:47.476933: I tensorflow/core/grappler/optimizers/custom_graph_optimizer_registry.cc:113] Plugin optimizer for device_type GPU is enabled.\n"
     ]
    },
    {
     "name": "stdout",
     "output_type": "stream",
     "text": [
      "21/21 [==============================] - ETA: 0s - loss: 0.6186 - accuracy: 0.7860"
     ]
    },
    {
     "name": "stderr",
     "output_type": "stream",
     "text": [
      "2022-03-18 11:52:49.351110: I tensorflow/core/grappler/optimizers/custom_graph_optimizer_registry.cc:113] Plugin optimizer for device_type GPU is enabled.\n",
      "2022-03-18 11:52:49.422747: I tensorflow/core/grappler/optimizers/custom_graph_optimizer_registry.cc:113] Plugin optimizer for device_type GPU is enabled.\n"
     ]
    },
    {
     "name": "stdout",
     "output_type": "stream",
     "text": [
      "21/21 [==============================] - 4s 103ms/step - loss: 0.6186 - accuracy: 0.7860 - val_loss: 0.4810 - val_accuracy: 0.8396\n",
      "Epoch 2/20\n",
      "21/21 [==============================] - 1s 36ms/step - loss: 0.4321 - accuracy: 0.8433 - val_loss: 0.3871 - val_accuracy: 0.8581\n",
      "Epoch 3/20\n",
      "21/21 [==============================] - 1s 33ms/step - loss: 0.4000 - accuracy: 0.8518 - val_loss: 0.3798 - val_accuracy: 0.8571\n",
      "Epoch 4/20\n",
      "21/21 [==============================] - 1s 40ms/step - loss: 0.3906 - accuracy: 0.8537 - val_loss: 0.3808 - val_accuracy: 0.8583\n",
      "Epoch 5/20\n",
      "21/21 [==============================] - 1s 36ms/step - loss: 0.3859 - accuracy: 0.8547 - val_loss: 0.3784 - val_accuracy: 0.8599\n",
      "Epoch 6/20\n",
      "21/21 [==============================] - 1s 37ms/step - loss: 0.3866 - accuracy: 0.8527 - val_loss: 0.3722 - val_accuracy: 0.8574\n",
      "Epoch 7/20\n",
      "21/21 [==============================] - 1s 35ms/step - loss: 0.3806 - accuracy: 0.8553 - val_loss: 0.3735 - val_accuracy: 0.8583\n",
      "Epoch 8/20\n",
      "21/21 [==============================] - 1s 30ms/step - loss: 0.3819 - accuracy: 0.8531 - val_loss: 0.3635 - val_accuracy: 0.8592\n",
      "Epoch 9/20\n",
      "21/21 [==============================] - 1s 31ms/step - loss: 0.3722 - accuracy: 0.8560 - val_loss: 0.3639 - val_accuracy: 0.8588\n",
      "Epoch 10/20\n",
      "21/21 [==============================] - 1s 33ms/step - loss: 0.3697 - accuracy: 0.8563 - val_loss: 0.3598 - val_accuracy: 0.8591\n",
      "Epoch 11/20\n",
      "21/21 [==============================] - 1s 31ms/step - loss: 0.3688 - accuracy: 0.8563 - val_loss: 0.3589 - val_accuracy: 0.8596\n",
      "Epoch 12/20\n",
      "21/21 [==============================] - 1s 32ms/step - loss: 0.3659 - accuracy: 0.8565 - val_loss: 0.3552 - val_accuracy: 0.8620\n",
      "Epoch 13/20\n",
      "21/21 [==============================] - 1s 31ms/step - loss: 0.3624 - accuracy: 0.8594 - val_loss: 0.3481 - val_accuracy: 0.8614\n",
      "Epoch 14/20\n",
      "21/21 [==============================] - 1s 32ms/step - loss: 0.3748 - accuracy: 0.8561 - val_loss: 0.3740 - val_accuracy: 0.8560\n",
      "Epoch 15/20\n",
      "21/21 [==============================] - 1s 32ms/step - loss: 0.3718 - accuracy: 0.8580 - val_loss: 0.3579 - val_accuracy: 0.8587\n",
      "Epoch 16/20\n",
      "21/21 [==============================] - 1s 32ms/step - loss: 0.3633 - accuracy: 0.8567 - val_loss: 0.3542 - val_accuracy: 0.8583\n",
      "Epoch 17/20\n",
      "21/21 [==============================] - 1s 31ms/step - loss: 0.3583 - accuracy: 0.8582 - val_loss: 0.3526 - val_accuracy: 0.8588\n",
      "Epoch 18/20\n",
      "21/21 [==============================] - 1s 32ms/step - loss: 0.3558 - accuracy: 0.8586 - val_loss: 0.3485 - val_accuracy: 0.8627\n",
      "Epoch 19/20\n",
      "21/21 [==============================] - 1s 34ms/step - loss: 0.3569 - accuracy: 0.8603 - val_loss: 0.3493 - val_accuracy: 0.8602\n",
      "Epoch 20/20\n",
      "21/21 [==============================] - 1s 34ms/step - loss: 0.3528 - accuracy: 0.8614 - val_loss: 0.3469 - val_accuracy: 0.8614\n"
     ]
    },
    {
     "name": "stderr",
     "output_type": "stream",
     "text": [
      "2022-03-18 11:53:03.316323: I tensorflow/core/grappler/optimizers/custom_graph_optimizer_registry.cc:113] Plugin optimizer for device_type GPU is enabled.\n",
      "2022-03-18 11:53:03.369709: I tensorflow/core/grappler/optimizers/custom_graph_optimizer_registry.cc:113] Plugin optimizer for device_type GPU is enabled.\n"
     ]
    },
    {
     "name": "stdout",
     "output_type": "stream",
     "text": [
      "lstm_dim: 128 | batch_size: 16 | validation_split: 0.2\n",
      "accuracy: 0.8496969696969697\n",
      "auc: 0.5715678548214672\n",
      "Model: \"model_64\"\n",
      "__________________________________________________________________________________________________\n",
      " Layer (type)                   Output Shape         Param #     Connected to                     \n",
      "==================================================================================================\n",
      " input skills (InputLayer)      [(None, 99, 222)]    0           []                               \n",
      "                                                                                                  \n",
      " lstm_layer (LSTM)              (None, 99, 128)      179712      ['input skills[0][0]']           \n",
      "                                                                                                  \n",
      " probability_for_each (TimeDist  (None, 99, 111)     14319       ['lstm_layer[0][0]']             \n",
      " ributed)                                                                                         \n",
      "                                                                                                  \n",
      " next_skill_tested (InputLayer)  [(None, 99, 111)]   0           []                               \n",
      "                                                                                                  \n",
      " multiply (Multiply)            (None, 99, 111)      0           ['probability_for_each[0][0]',   \n",
      "                                                                  'next_skill_tested[0][0]']      \n",
      "                                                                                                  \n",
      " reduce_dim (Lambda)            (None, 99, 1)        0           ['multiply[0][0]']               \n",
      "                                                                                                  \n",
      "==================================================================================================\n",
      "Total params: 194,031\n",
      "Trainable params: 194,031\n",
      "Non-trainable params: 0\n",
      "__________________________________________________________________________________________________\n",
      "Epoch 1/20\n"
     ]
    },
    {
     "name": "stderr",
     "output_type": "stream",
     "text": [
      "/Users/elipleaner/miniconda3/lib/python3.8/site-packages/keras/optimizer_v2/adam.py:105: UserWarning: The `lr` argument is deprecated, use `learning_rate` instead.\n",
      "  super(Adam, self).__init__(name, **kwargs)\n",
      "2022-03-18 11:53:04.606997: I tensorflow/core/grappler/optimizers/custom_graph_optimizer_registry.cc:113] Plugin optimizer for device_type GPU is enabled.\n",
      "2022-03-18 11:53:04.782691: I tensorflow/core/grappler/optimizers/custom_graph_optimizer_registry.cc:113] Plugin optimizer for device_type GPU is enabled.\n",
      "2022-03-18 11:53:05.100674: I tensorflow/core/grappler/optimizers/custom_graph_optimizer_registry.cc:113] Plugin optimizer for device_type GPU is enabled.\n"
     ]
    },
    {
     "name": "stdout",
     "output_type": "stream",
     "text": [
      "18/18 [==============================] - ETA: 0s - loss: 0.6330 - accuracy: 0.7805"
     ]
    },
    {
     "name": "stderr",
     "output_type": "stream",
     "text": [
      "2022-03-18 11:53:06.832060: I tensorflow/core/grappler/optimizers/custom_graph_optimizer_registry.cc:113] Plugin optimizer for device_type GPU is enabled.\n",
      "2022-03-18 11:53:06.910255: I tensorflow/core/grappler/optimizers/custom_graph_optimizer_registry.cc:113] Plugin optimizer for device_type GPU is enabled.\n"
     ]
    },
    {
     "name": "stdout",
     "output_type": "stream",
     "text": [
      "18/18 [==============================] - 3s 116ms/step - loss: 0.6330 - accuracy: 0.7805 - val_loss: 0.5307 - val_accuracy: 0.8111\n",
      "Epoch 2/20\n",
      "18/18 [==============================] - 1s 39ms/step - loss: 0.4475 - accuracy: 0.8405 - val_loss: 0.4055 - val_accuracy: 0.8528\n",
      "Epoch 3/20\n",
      "18/18 [==============================] - 1s 35ms/step - loss: 0.3983 - accuracy: 0.8528 - val_loss: 0.3974 - val_accuracy: 0.8530\n",
      "Epoch 4/20\n",
      "18/18 [==============================] - 1s 35ms/step - loss: 0.3915 - accuracy: 0.8533 - val_loss: 0.3889 - val_accuracy: 0.8534\n",
      "Epoch 5/20\n",
      "18/18 [==============================] - 1s 34ms/step - loss: 0.3863 - accuracy: 0.8537 - val_loss: 0.3899 - val_accuracy: 0.8540\n",
      "Epoch 6/20\n",
      "18/18 [==============================] - 1s 33ms/step - loss: 0.3833 - accuracy: 0.8541 - val_loss: 0.3821 - val_accuracy: 0.8549\n",
      "Epoch 7/20\n",
      "18/18 [==============================] - 1s 37ms/step - loss: 0.3812 - accuracy: 0.8543 - val_loss: 0.3803 - val_accuracy: 0.8541\n",
      "Epoch 8/20\n",
      "18/18 [==============================] - 1s 37ms/step - loss: 0.3768 - accuracy: 0.8548 - val_loss: 0.3766 - val_accuracy: 0.8542\n",
      "Epoch 9/20\n",
      "18/18 [==============================] - 1s 38ms/step - loss: 0.3737 - accuracy: 0.8563 - val_loss: 0.3733 - val_accuracy: 0.8549\n",
      "Epoch 10/20\n",
      "18/18 [==============================] - 1s 41ms/step - loss: 0.3702 - accuracy: 0.8562 - val_loss: 0.3708 - val_accuracy: 0.8543\n",
      "Epoch 11/20\n",
      "18/18 [==============================] - 1s 42ms/step - loss: 0.3682 - accuracy: 0.8570 - val_loss: 0.3660 - val_accuracy: 0.8539\n",
      "Epoch 12/20\n",
      "18/18 [==============================] - 1s 34ms/step - loss: 0.3644 - accuracy: 0.8573 - val_loss: 0.3678 - val_accuracy: 0.8571\n",
      "Epoch 13/20\n",
      "18/18 [==============================] - 1s 33ms/step - loss: 0.3605 - accuracy: 0.8592 - val_loss: 0.3607 - val_accuracy: 0.8568\n",
      "Epoch 14/20\n",
      "18/18 [==============================] - 1s 33ms/step - loss: 0.3565 - accuracy: 0.8599 - val_loss: 0.3553 - val_accuracy: 0.8565\n",
      "Epoch 15/20\n",
      "18/18 [==============================] - 1s 33ms/step - loss: 0.3514 - accuracy: 0.8613 - val_loss: 0.3513 - val_accuracy: 0.8595\n",
      "Epoch 16/20\n",
      "18/18 [==============================] - 1s 34ms/step - loss: 0.3476 - accuracy: 0.8624 - val_loss: 0.3607 - val_accuracy: 0.8576\n",
      "Epoch 17/20\n",
      "18/18 [==============================] - 1s 34ms/step - loss: 0.3566 - accuracy: 0.8593 - val_loss: 0.3543 - val_accuracy: 0.8567\n",
      "Epoch 18/20\n",
      "18/18 [==============================] - 1s 33ms/step - loss: 0.3486 - accuracy: 0.8614 - val_loss: 0.3479 - val_accuracy: 0.8584\n",
      "Epoch 19/20\n",
      "18/18 [==============================] - 1s 38ms/step - loss: 0.3441 - accuracy: 0.8637 - val_loss: 0.3450 - val_accuracy: 0.8615\n",
      "Epoch 20/20\n",
      "18/18 [==============================] - 1s 41ms/step - loss: 0.3428 - accuracy: 0.8639 - val_loss: 0.3443 - val_accuracy: 0.8612\n"
     ]
    },
    {
     "name": "stderr",
     "output_type": "stream",
     "text": [
      "2022-03-18 11:53:19.811814: I tensorflow/core/grappler/optimizers/custom_graph_optimizer_registry.cc:113] Plugin optimizer for device_type GPU is enabled.\n",
      "2022-03-18 11:53:19.862348: I tensorflow/core/grappler/optimizers/custom_graph_optimizer_registry.cc:113] Plugin optimizer for device_type GPU is enabled.\n"
     ]
    },
    {
     "name": "stdout",
     "output_type": "stream",
     "text": [
      "lstm_dim: 128 | batch_size: 16 | validation_split: 0.3\n",
      "accuracy: 0.8544300144300144\n",
      "auc: 0.5960343688149415\n",
      "Model: \"model_65\"\n",
      "__________________________________________________________________________________________________\n",
      " Layer (type)                   Output Shape         Param #     Connected to                     \n",
      "==================================================================================================\n",
      " input skills (InputLayer)      [(None, 99, 222)]    0           []                               \n",
      "                                                                                                  \n",
      " lstm_layer (LSTM)              (None, 99, 128)      179712      ['input skills[0][0]']           \n",
      "                                                                                                  \n",
      " probability_for_each (TimeDist  (None, 99, 111)     14319       ['lstm_layer[0][0]']             \n",
      " ributed)                                                                                         \n",
      "                                                                                                  \n",
      " next_skill_tested (InputLayer)  [(None, 99, 111)]   0           []                               \n",
      "                                                                                                  \n",
      " multiply (Multiply)            (None, 99, 111)      0           ['probability_for_each[0][0]',   \n",
      "                                                                  'next_skill_tested[0][0]']      \n",
      "                                                                                                  \n",
      " reduce_dim (Lambda)            (None, 99, 1)        0           ['multiply[0][0]']               \n",
      "                                                                                                  \n",
      "==================================================================================================\n",
      "Total params: 194,031\n",
      "Trainable params: 194,031\n",
      "Non-trainable params: 0\n",
      "__________________________________________________________________________________________________\n",
      "Epoch 1/20\n"
     ]
    },
    {
     "name": "stderr",
     "output_type": "stream",
     "text": [
      "/Users/elipleaner/miniconda3/lib/python3.8/site-packages/keras/optimizer_v2/adam.py:105: UserWarning: The `lr` argument is deprecated, use `learning_rate` instead.\n",
      "  super(Adam, self).__init__(name, **kwargs)\n",
      "2022-03-18 11:53:21.181230: I tensorflow/core/grappler/optimizers/custom_graph_optimizer_registry.cc:113] Plugin optimizer for device_type GPU is enabled.\n",
      "2022-03-18 11:53:21.372373: I tensorflow/core/grappler/optimizers/custom_graph_optimizer_registry.cc:113] Plugin optimizer for device_type GPU is enabled.\n",
      "2022-03-18 11:53:21.876480: I tensorflow/core/grappler/optimizers/custom_graph_optimizer_registry.cc:113] Plugin optimizer for device_type GPU is enabled.\n"
     ]
    },
    {
     "name": "stdout",
     "output_type": "stream",
     "text": [
      "13/13 [==============================] - 3s 92ms/step - loss: 0.6475 - accuracy: 0.7604\n",
      "Epoch 2/20\n",
      "13/13 [==============================] - 0s 35ms/step - loss: 0.4940 - accuracy: 0.8171\n",
      "Epoch 3/20\n",
      "13/13 [==============================] - 0s 34ms/step - loss: 0.4139 - accuracy: 0.8489\n",
      "Epoch 4/20\n",
      "13/13 [==============================] - 0s 32ms/step - loss: 0.3951 - accuracy: 0.8527\n",
      "Epoch 5/20\n",
      "13/13 [==============================] - 0s 28ms/step - loss: 0.3886 - accuracy: 0.8542\n",
      "Epoch 6/20\n",
      "13/13 [==============================] - 0s 29ms/step - loss: 0.3851 - accuracy: 0.8541\n",
      "Epoch 7/20\n",
      "13/13 [==============================] - 0s 28ms/step - loss: 0.3820 - accuracy: 0.8546\n",
      "Epoch 8/20\n",
      "13/13 [==============================] - 0s 27ms/step - loss: 0.3781 - accuracy: 0.8550\n",
      "Epoch 9/20\n",
      "13/13 [==============================] - 0s 31ms/step - loss: 0.3749 - accuracy: 0.8552\n",
      "Epoch 10/20\n",
      "13/13 [==============================] - 0s 29ms/step - loss: 0.3701 - accuracy: 0.8561\n",
      "Epoch 11/20\n",
      "13/13 [==============================] - 0s 30ms/step - loss: 0.3657 - accuracy: 0.8566\n",
      "Epoch 12/20\n",
      "13/13 [==============================] - 0s 39ms/step - loss: 0.3629 - accuracy: 0.8576\n",
      "Epoch 13/20\n",
      "13/13 [==============================] - 0s 29ms/step - loss: 0.3576 - accuracy: 0.8600\n",
      "Epoch 14/20\n",
      "13/13 [==============================] - 0s 33ms/step - loss: 0.3548 - accuracy: 0.8605\n",
      "Epoch 15/20\n",
      "13/13 [==============================] - 0s 28ms/step - loss: 0.3521 - accuracy: 0.8620\n",
      "Epoch 16/20\n",
      "13/13 [==============================] - 0s 27ms/step - loss: 0.3489 - accuracy: 0.8634\n",
      "Epoch 17/20\n",
      "13/13 [==============================] - 0s 29ms/step - loss: 0.3461 - accuracy: 0.8632\n",
      "Epoch 18/20\n",
      "13/13 [==============================] - 0s 30ms/step - loss: 0.3436 - accuracy: 0.8653\n",
      "Epoch 19/20\n",
      "13/13 [==============================] - 0s 30ms/step - loss: 0.3466 - accuracy: 0.8614\n",
      "Epoch 20/20\n",
      "13/13 [==============================] - 0s 27ms/step - loss: 0.3438 - accuracy: 0.8609\n"
     ]
    },
    {
     "name": "stderr",
     "output_type": "stream",
     "text": [
      "2022-03-18 11:53:31.107176: I tensorflow/core/grappler/optimizers/custom_graph_optimizer_registry.cc:113] Plugin optimizer for device_type GPU is enabled.\n",
      "2022-03-18 11:53:31.148520: I tensorflow/core/grappler/optimizers/custom_graph_optimizer_registry.cc:113] Plugin optimizer for device_type GPU is enabled.\n"
     ]
    },
    {
     "name": "stdout",
     "output_type": "stream",
     "text": [
      "lstm_dim: 128 | batch_size: 32 | validation_split: 0\n",
      "accuracy: 0.8535064935064935\n",
      "auc: 0.5871388538082188\n",
      "Model: \"model_66\"\n",
      "__________________________________________________________________________________________________\n",
      " Layer (type)                   Output Shape         Param #     Connected to                     \n",
      "==================================================================================================\n",
      " input skills (InputLayer)      [(None, 99, 222)]    0           []                               \n",
      "                                                                                                  \n",
      " lstm_layer (LSTM)              (None, 99, 128)      179712      ['input skills[0][0]']           \n",
      "                                                                                                  \n",
      " probability_for_each (TimeDist  (None, 99, 111)     14319       ['lstm_layer[0][0]']             \n",
      " ributed)                                                                                         \n",
      "                                                                                                  \n",
      " next_skill_tested (InputLayer)  [(None, 99, 111)]   0           []                               \n",
      "                                                                                                  \n",
      " multiply (Multiply)            (None, 99, 111)      0           ['probability_for_each[0][0]',   \n",
      "                                                                  'next_skill_tested[0][0]']      \n",
      "                                                                                                  \n",
      " reduce_dim (Lambda)            (None, 99, 1)        0           ['multiply[0][0]']               \n",
      "                                                                                                  \n",
      "==================================================================================================\n",
      "Total params: 194,031\n",
      "Trainable params: 194,031\n",
      "Non-trainable params: 0\n",
      "__________________________________________________________________________________________________\n",
      "Epoch 1/20\n"
     ]
    },
    {
     "name": "stderr",
     "output_type": "stream",
     "text": [
      "/Users/elipleaner/miniconda3/lib/python3.8/site-packages/keras/optimizer_v2/adam.py:105: UserWarning: The `lr` argument is deprecated, use `learning_rate` instead.\n",
      "  super(Adam, self).__init__(name, **kwargs)\n",
      "2022-03-18 11:53:33.393459: I tensorflow/core/grappler/optimizers/custom_graph_optimizer_registry.cc:113] Plugin optimizer for device_type GPU is enabled.\n",
      "2022-03-18 11:53:33.586019: I tensorflow/core/grappler/optimizers/custom_graph_optimizer_registry.cc:113] Plugin optimizer for device_type GPU is enabled.\n",
      "2022-03-18 11:53:33.989275: I tensorflow/core/grappler/optimizers/custom_graph_optimizer_registry.cc:113] Plugin optimizer for device_type GPU is enabled.\n"
     ]
    },
    {
     "name": "stdout",
     "output_type": "stream",
     "text": [
      "12/12 [==============================] - ETA: 0s - loss: 0.6569 - accuracy: 0.7589"
     ]
    },
    {
     "name": "stderr",
     "output_type": "stream",
     "text": [
      "2022-03-18 11:53:35.618932: I tensorflow/core/grappler/optimizers/custom_graph_optimizer_registry.cc:113] Plugin optimizer for device_type GPU is enabled.\n",
      "2022-03-18 11:53:35.696017: I tensorflow/core/grappler/optimizers/custom_graph_optimizer_registry.cc:113] Plugin optimizer for device_type GPU is enabled.\n"
     ]
    },
    {
     "name": "stdout",
     "output_type": "stream",
     "text": [
      "12/12 [==============================] - 4s 155ms/step - loss: 0.6569 - accuracy: 0.7589 - val_loss: 0.6080 - val_accuracy: 0.8482\n",
      "Epoch 2/20\n",
      "12/12 [==============================] - 0s 41ms/step - loss: 0.5407 - accuracy: 0.8250 - val_loss: 0.4488 - val_accuracy: 0.8372\n",
      "Epoch 3/20\n",
      "12/12 [==============================] - 0s 36ms/step - loss: 0.4289 - accuracy: 0.8451 - val_loss: 0.3949 - val_accuracy: 0.8581\n",
      "Epoch 4/20\n",
      "12/12 [==============================] - 0s 38ms/step - loss: 0.4018 - accuracy: 0.8519 - val_loss: 0.3750 - val_accuracy: 0.8583\n",
      "Epoch 5/20\n",
      "12/12 [==============================] - 0s 37ms/step - loss: 0.3897 - accuracy: 0.8534 - val_loss: 0.3704 - val_accuracy: 0.8618\n",
      "Epoch 6/20\n",
      "12/12 [==============================] - 0s 39ms/step - loss: 0.3834 - accuracy: 0.8543 - val_loss: 0.3673 - val_accuracy: 0.8593\n",
      "Epoch 7/20\n",
      "12/12 [==============================] - 0s 35ms/step - loss: 0.3797 - accuracy: 0.8546 - val_loss: 0.3621 - val_accuracy: 0.8623\n",
      "Epoch 8/20\n",
      "12/12 [==============================] - 0s 33ms/step - loss: 0.3777 - accuracy: 0.8548 - val_loss: 0.3662 - val_accuracy: 0.8615\n",
      "Epoch 9/20\n",
      "12/12 [==============================] - 0s 37ms/step - loss: 0.3738 - accuracy: 0.8549 - val_loss: 0.3655 - val_accuracy: 0.8615\n",
      "Epoch 10/20\n",
      "12/12 [==============================] - 0s 34ms/step - loss: 0.3711 - accuracy: 0.8558 - val_loss: 0.3539 - val_accuracy: 0.8618\n",
      "Epoch 11/20\n",
      "12/12 [==============================] - 0s 36ms/step - loss: 0.3642 - accuracy: 0.8580 - val_loss: 0.3526 - val_accuracy: 0.8586\n",
      "Epoch 12/20\n",
      "12/12 [==============================] - 0s 34ms/step - loss: 0.3608 - accuracy: 0.8577 - val_loss: 0.3487 - val_accuracy: 0.8618\n",
      "Epoch 13/20\n",
      "12/12 [==============================] - 0s 34ms/step - loss: 0.3580 - accuracy: 0.8598 - val_loss: 0.3510 - val_accuracy: 0.8615\n",
      "Epoch 14/20\n",
      "12/12 [==============================] - 0s 31ms/step - loss: 0.3590 - accuracy: 0.8597 - val_loss: 0.3510 - val_accuracy: 0.8625\n",
      "Epoch 15/20\n",
      "12/12 [==============================] - 0s 31ms/step - loss: 0.3538 - accuracy: 0.8603 - val_loss: 0.3392 - val_accuracy: 0.8633\n",
      "Epoch 16/20\n",
      "12/12 [==============================] - 0s 32ms/step - loss: 0.3496 - accuracy: 0.8607 - val_loss: 0.3413 - val_accuracy: 0.8635\n",
      "Epoch 17/20\n",
      "12/12 [==============================] - 0s 31ms/step - loss: 0.3461 - accuracy: 0.8630 - val_loss: 0.3389 - val_accuracy: 0.8665\n",
      "Epoch 18/20\n",
      "12/12 [==============================] - 0s 31ms/step - loss: 0.3444 - accuracy: 0.8648 - val_loss: 0.3362 - val_accuracy: 0.8655\n",
      "Epoch 19/20\n",
      "12/12 [==============================] - 0s 33ms/step - loss: 0.3407 - accuracy: 0.8653 - val_loss: 0.3355 - val_accuracy: 0.8665\n",
      "Epoch 20/20\n",
      "12/12 [==============================] - 0s 31ms/step - loss: 0.3393 - accuracy: 0.8651 - val_loss: 0.3352 - val_accuracy: 0.8645\n"
     ]
    },
    {
     "name": "stderr",
     "output_type": "stream",
     "text": [
      "2022-03-18 11:53:44.038993: I tensorflow/core/grappler/optimizers/custom_graph_optimizer_registry.cc:113] Plugin optimizer for device_type GPU is enabled.\n",
      "2022-03-18 11:53:44.091139: I tensorflow/core/grappler/optimizers/custom_graph_optimizer_registry.cc:113] Plugin optimizer for device_type GPU is enabled.\n"
     ]
    },
    {
     "name": "stdout",
     "output_type": "stream",
     "text": [
      "lstm_dim: 128 | batch_size: 32 | validation_split: 0.1\n",
      "accuracy: 0.8521212121212122\n",
      "auc: 0.576270242434735\n",
      "Model: \"model_67\"\n",
      "__________________________________________________________________________________________________\n",
      " Layer (type)                   Output Shape         Param #     Connected to                     \n",
      "==================================================================================================\n",
      " input skills (InputLayer)      [(None, 99, 222)]    0           []                               \n",
      "                                                                                                  \n",
      " lstm_layer (LSTM)              (None, 99, 128)      179712      ['input skills[0][0]']           \n",
      "                                                                                                  \n",
      " probability_for_each (TimeDist  (None, 99, 111)     14319       ['lstm_layer[0][0]']             \n",
      " ributed)                                                                                         \n",
      "                                                                                                  \n",
      " next_skill_tested (InputLayer)  [(None, 99, 111)]   0           []                               \n",
      "                                                                                                  \n",
      " multiply (Multiply)            (None, 99, 111)      0           ['probability_for_each[0][0]',   \n",
      "                                                                  'next_skill_tested[0][0]']      \n",
      "                                                                                                  \n",
      " reduce_dim (Lambda)            (None, 99, 1)        0           ['multiply[0][0]']               \n",
      "                                                                                                  \n",
      "==================================================================================================\n",
      "Total params: 194,031\n",
      "Trainable params: 194,031\n",
      "Non-trainable params: 0\n",
      "__________________________________________________________________________________________________\n",
      "Epoch 1/20\n"
     ]
    },
    {
     "name": "stderr",
     "output_type": "stream",
     "text": [
      "/Users/elipleaner/miniconda3/lib/python3.8/site-packages/keras/optimizer_v2/adam.py:105: UserWarning: The `lr` argument is deprecated, use `learning_rate` instead.\n",
      "  super(Adam, self).__init__(name, **kwargs)\n",
      "2022-03-18 11:53:45.333732: I tensorflow/core/grappler/optimizers/custom_graph_optimizer_registry.cc:113] Plugin optimizer for device_type GPU is enabled.\n",
      "2022-03-18 11:53:45.506875: I tensorflow/core/grappler/optimizers/custom_graph_optimizer_registry.cc:113] Plugin optimizer for device_type GPU is enabled.\n",
      "2022-03-18 11:53:45.837888: I tensorflow/core/grappler/optimizers/custom_graph_optimizer_registry.cc:113] Plugin optimizer for device_type GPU is enabled.\n"
     ]
    },
    {
     "name": "stdout",
     "output_type": "stream",
     "text": [
      "11/11 [==============================] - ETA: 0s - loss: 0.6615 - accuracy: 0.7585"
     ]
    },
    {
     "name": "stderr",
     "output_type": "stream",
     "text": [
      "2022-03-18 11:53:47.330072: I tensorflow/core/grappler/optimizers/custom_graph_optimizer_registry.cc:113] Plugin optimizer for device_type GPU is enabled.\n",
      "2022-03-18 11:53:47.399213: I tensorflow/core/grappler/optimizers/custom_graph_optimizer_registry.cc:113] Plugin optimizer for device_type GPU is enabled.\n"
     ]
    },
    {
     "name": "stdout",
     "output_type": "stream",
     "text": [
      "11/11 [==============================] - 3s 162ms/step - loss: 0.6615 - accuracy: 0.7585 - val_loss: 0.6184 - val_accuracy: 0.8502\n",
      "Epoch 2/20\n",
      "11/11 [==============================] - 0s 41ms/step - loss: 0.5619 - accuracy: 0.8388 - val_loss: 0.4796 - val_accuracy: 0.8384\n",
      "Epoch 3/20\n",
      "11/11 [==============================] - 0s 37ms/step - loss: 0.4364 - accuracy: 0.8459 - val_loss: 0.3966 - val_accuracy: 0.8575\n",
      "Epoch 4/20\n",
      "11/11 [==============================] - 0s 35ms/step - loss: 0.4034 - accuracy: 0.8514 - val_loss: 0.3808 - val_accuracy: 0.8567\n",
      "Epoch 5/20\n",
      "11/11 [==============================] - 0s 34ms/step - loss: 0.3938 - accuracy: 0.8525 - val_loss: 0.3754 - val_accuracy: 0.8582\n",
      "Epoch 6/20\n",
      "11/11 [==============================] - 0s 32ms/step - loss: 0.3874 - accuracy: 0.8531 - val_loss: 0.3737 - val_accuracy: 0.8582\n",
      "Epoch 7/20\n",
      "11/11 [==============================] - 0s 33ms/step - loss: 0.3880 - accuracy: 0.8543 - val_loss: 0.3699 - val_accuracy: 0.8587\n",
      "Epoch 8/20\n",
      "11/11 [==============================] - 0s 32ms/step - loss: 0.3812 - accuracy: 0.8545 - val_loss: 0.3650 - val_accuracy: 0.8586\n",
      "Epoch 9/20\n",
      "11/11 [==============================] - 0s 33ms/step - loss: 0.3805 - accuracy: 0.8557 - val_loss: 0.3735 - val_accuracy: 0.8582\n",
      "Epoch 10/20\n",
      "11/11 [==============================] - 0s 32ms/step - loss: 0.3798 - accuracy: 0.8550 - val_loss: 0.3655 - val_accuracy: 0.8581\n",
      "Epoch 11/20\n",
      "11/11 [==============================] - 0s 31ms/step - loss: 0.3753 - accuracy: 0.8557 - val_loss: 0.3637 - val_accuracy: 0.8591\n",
      "Epoch 12/20\n",
      "11/11 [==============================] - 0s 32ms/step - loss: 0.3739 - accuracy: 0.8561 - val_loss: 0.3569 - val_accuracy: 0.8592\n",
      "Epoch 13/20\n",
      "11/11 [==============================] - 0s 33ms/step - loss: 0.3667 - accuracy: 0.8570 - val_loss: 0.3535 - val_accuracy: 0.8620\n",
      "Epoch 14/20\n",
      "11/11 [==============================] - 0s 32ms/step - loss: 0.3630 - accuracy: 0.8587 - val_loss: 0.3497 - val_accuracy: 0.8603\n",
      "Epoch 15/20\n",
      "11/11 [==============================] - 0s 32ms/step - loss: 0.3632 - accuracy: 0.8573 - val_loss: 0.3572 - val_accuracy: 0.8593\n",
      "Epoch 16/20\n",
      "11/11 [==============================] - 0s 31ms/step - loss: 0.3662 - accuracy: 0.8567 - val_loss: 0.3518 - val_accuracy: 0.8610\n",
      "Epoch 17/20\n",
      "11/11 [==============================] - 0s 31ms/step - loss: 0.3608 - accuracy: 0.8590 - val_loss: 0.3508 - val_accuracy: 0.8603\n",
      "Epoch 18/20\n",
      "11/11 [==============================] - 0s 31ms/step - loss: 0.3589 - accuracy: 0.8585 - val_loss: 0.3465 - val_accuracy: 0.8610\n",
      "Epoch 19/20\n",
      "11/11 [==============================] - 0s 32ms/step - loss: 0.3539 - accuracy: 0.8599 - val_loss: 0.3429 - val_accuracy: 0.8628\n",
      "Epoch 20/20\n",
      "11/11 [==============================] - 0s 32ms/step - loss: 0.3516 - accuracy: 0.8612 - val_loss: 0.3421 - val_accuracy: 0.8628\n"
     ]
    },
    {
     "name": "stderr",
     "output_type": "stream",
     "text": [
      "2022-03-18 11:53:54.786347: I tensorflow/core/grappler/optimizers/custom_graph_optimizer_registry.cc:113] Plugin optimizer for device_type GPU is enabled.\n",
      "2022-03-18 11:53:54.828291: I tensorflow/core/grappler/optimizers/custom_graph_optimizer_registry.cc:113] Plugin optimizer for device_type GPU is enabled.\n"
     ]
    },
    {
     "name": "stdout",
     "output_type": "stream",
     "text": [
      "lstm_dim: 128 | batch_size: 32 | validation_split: 0.2\n",
      "accuracy: 0.8486580086580087\n",
      "auc: 0.5590680631513284\n",
      "Model: \"model_68\"\n",
      "__________________________________________________________________________________________________\n",
      " Layer (type)                   Output Shape         Param #     Connected to                     \n",
      "==================================================================================================\n",
      " input skills (InputLayer)      [(None, 99, 222)]    0           []                               \n",
      "                                                                                                  \n",
      " lstm_layer (LSTM)              (None, 99, 128)      179712      ['input skills[0][0]']           \n",
      "                                                                                                  \n",
      " probability_for_each (TimeDist  (None, 99, 111)     14319       ['lstm_layer[0][0]']             \n",
      " ributed)                                                                                         \n",
      "                                                                                                  \n",
      " next_skill_tested (InputLayer)  [(None, 99, 111)]   0           []                               \n",
      "                                                                                                  \n",
      " multiply (Multiply)            (None, 99, 111)      0           ['probability_for_each[0][0]',   \n",
      "                                                                  'next_skill_tested[0][0]']      \n",
      "                                                                                                  \n",
      " reduce_dim (Lambda)            (None, 99, 1)        0           ['multiply[0][0]']               \n",
      "                                                                                                  \n",
      "==================================================================================================\n",
      "Total params: 194,031\n",
      "Trainable params: 194,031\n",
      "Non-trainable params: 0\n",
      "__________________________________________________________________________________________________\n",
      "Epoch 1/20\n"
     ]
    },
    {
     "name": "stderr",
     "output_type": "stream",
     "text": [
      "/Users/elipleaner/miniconda3/lib/python3.8/site-packages/keras/optimizer_v2/adam.py:105: UserWarning: The `lr` argument is deprecated, use `learning_rate` instead.\n",
      "  super(Adam, self).__init__(name, **kwargs)\n",
      "2022-03-18 11:53:56.782488: I tensorflow/core/grappler/optimizers/custom_graph_optimizer_registry.cc:113] Plugin optimizer for device_type GPU is enabled.\n",
      "2022-03-18 11:53:57.025650: I tensorflow/core/grappler/optimizers/custom_graph_optimizer_registry.cc:113] Plugin optimizer for device_type GPU is enabled.\n",
      "2022-03-18 11:53:57.448256: I tensorflow/core/grappler/optimizers/custom_graph_optimizer_registry.cc:113] Plugin optimizer for device_type GPU is enabled.\n"
     ]
    },
    {
     "name": "stdout",
     "output_type": "stream",
     "text": [
      "9/9 [==============================] - ETA: 0s - loss: 0.6660 - accuracy: 0.7432"
     ]
    },
    {
     "name": "stderr",
     "output_type": "stream",
     "text": [
      "2022-03-18 11:53:59.017417: I tensorflow/core/grappler/optimizers/custom_graph_optimizer_registry.cc:113] Plugin optimizer for device_type GPU is enabled.\n",
      "2022-03-18 11:53:59.094373: I tensorflow/core/grappler/optimizers/custom_graph_optimizer_registry.cc:113] Plugin optimizer for device_type GPU is enabled.\n"
     ]
    },
    {
     "name": "stdout",
     "output_type": "stream",
     "text": [
      "9/9 [==============================] - 4s 222ms/step - loss: 0.6660 - accuracy: 0.7432 - val_loss: 0.6328 - val_accuracy: 0.8362\n",
      "Epoch 2/20\n",
      "9/9 [==============================] - 0s 52ms/step - loss: 0.5889 - accuracy: 0.8312 - val_loss: 0.5235 - val_accuracy: 0.8261\n",
      "Epoch 3/20\n",
      "9/9 [==============================] - 0s 44ms/step - loss: 0.4712 - accuracy: 0.8368 - val_loss: 0.4327 - val_accuracy: 0.8480\n",
      "Epoch 4/20\n",
      "9/9 [==============================] - 0s 39ms/step - loss: 0.4157 - accuracy: 0.8489 - val_loss: 0.4031 - val_accuracy: 0.8532\n",
      "Epoch 5/20\n",
      "9/9 [==============================] - 0s 42ms/step - loss: 0.3985 - accuracy: 0.8534 - val_loss: 0.3944 - val_accuracy: 0.8540\n",
      "Epoch 6/20\n",
      "9/9 [==============================] - 0s 36ms/step - loss: 0.3909 - accuracy: 0.8537 - val_loss: 0.3910 - val_accuracy: 0.8540\n",
      "Epoch 7/20\n",
      "9/9 [==============================] - 0s 36ms/step - loss: 0.3846 - accuracy: 0.8549 - val_loss: 0.3856 - val_accuracy: 0.8554\n",
      "Epoch 8/20\n",
      "9/9 [==============================] - 0s 39ms/step - loss: 0.3806 - accuracy: 0.8560 - val_loss: 0.3827 - val_accuracy: 0.8557\n",
      "Epoch 9/20\n",
      "9/9 [==============================] - 0s 36ms/step - loss: 0.3780 - accuracy: 0.8567 - val_loss: 0.3793 - val_accuracy: 0.8555\n",
      "Epoch 10/20\n",
      "9/9 [==============================] - 0s 36ms/step - loss: 0.3756 - accuracy: 0.8567 - val_loss: 0.3777 - val_accuracy: 0.8555\n",
      "Epoch 11/20\n",
      "9/9 [==============================] - 0s 39ms/step - loss: 0.3719 - accuracy: 0.8569 - val_loss: 0.3786 - val_accuracy: 0.8549\n",
      "Epoch 12/20\n",
      "9/9 [==============================] - 0s 36ms/step - loss: 0.3704 - accuracy: 0.8563 - val_loss: 0.3777 - val_accuracy: 0.8552\n",
      "Epoch 13/20\n",
      "9/9 [==============================] - 0s 35ms/step - loss: 0.3665 - accuracy: 0.8574 - val_loss: 0.3728 - val_accuracy: 0.8564\n",
      "Epoch 14/20\n",
      "9/9 [==============================] - 0s 35ms/step - loss: 0.3670 - accuracy: 0.8567 - val_loss: 0.3703 - val_accuracy: 0.8560\n",
      "Epoch 15/20\n",
      "9/9 [==============================] - 0s 37ms/step - loss: 0.3654 - accuracy: 0.8569 - val_loss: 0.3674 - val_accuracy: 0.8555\n",
      "Epoch 16/20\n",
      "9/9 [==============================] - 0s 35ms/step - loss: 0.3655 - accuracy: 0.8583 - val_loss: 0.3694 - val_accuracy: 0.8568\n",
      "Epoch 17/20\n",
      "9/9 [==============================] - 0s 37ms/step - loss: 0.3623 - accuracy: 0.8581 - val_loss: 0.3642 - val_accuracy: 0.8583\n",
      "Epoch 18/20\n",
      "9/9 [==============================] - 0s 37ms/step - loss: 0.3581 - accuracy: 0.8584 - val_loss: 0.3623 - val_accuracy: 0.8585\n",
      "Epoch 19/20\n",
      "9/9 [==============================] - 0s 47ms/step - loss: 0.3563 - accuracy: 0.8581 - val_loss: 0.3658 - val_accuracy: 0.8583\n",
      "Epoch 20/20\n",
      "9/9 [==============================] - 0s 40ms/step - loss: 0.3586 - accuracy: 0.8584 - val_loss: 0.3602 - val_accuracy: 0.8573\n"
     ]
    },
    {
     "name": "stderr",
     "output_type": "stream",
     "text": [
      "2022-03-18 11:54:06.303115: I tensorflow/core/grappler/optimizers/custom_graph_optimizer_registry.cc:113] Plugin optimizer for device_type GPU is enabled.\n",
      "2022-03-18 11:54:06.345301: I tensorflow/core/grappler/optimizers/custom_graph_optimizer_registry.cc:113] Plugin optimizer for device_type GPU is enabled.\n"
     ]
    },
    {
     "name": "stdout",
     "output_type": "stream",
     "text": [
      "lstm_dim: 128 | batch_size: 32 | validation_split: 0.3\n",
      "accuracy: 0.845945165945166\n",
      "auc: 0.5524961488737092\n"
     ]
    }
   ],
   "source": [
    "models = []\n",
    "\n",
    "for lstm_dim in [64, 128]:\n",
    "    for batch_size in [8, 16, 32]:\n",
    "        for validation_split in [0, 0.1, 0.2, 0.3]:\n",
    "            dkt_model = build_dkt_model((99, 2 * skill_num), lstm_dim=lstm_dim)\n",
    "\n",
    "            dkt_model.fit([X_train, skills_train],\n",
    "              y_train,\n",
    "              epochs=20, \n",
    "              batch_size=batch_size, \n",
    "              shuffle=True,\n",
    "              validation_split=validation_split)\n",
    "            \n",
    "            y_pred = dkt_model.predict([X_test, skills_test])\n",
    "            \n",
    "            y_pred_binary = y_pred[:]\n",
    "\n",
    "            pred_auc = [b[0] for a in y_pred for b in a]\n",
    "\n",
    "            for si, student in enumerate(y_pred_binary):\n",
    "                for ri, response in enumerate(student):\n",
    "                    y_pred_binary[si][ri][0] = round(y_pred_binary[si][ri][0])\n",
    "\n",
    "            y = [b[0] for a in y_test for b in a]\n",
    "            pred = [b[0] for a in y_pred_binary for b in a]\n",
    "            \n",
    "            models.append({'lstm_dim': lstm_dim, 'batch_size': batch_size, 'validation_split': validation_split, 'accuracy': accuracy_score(y, pred), 'auc': roc_auc_score(y, pred)}) \n",
    "            \n",
    "            print('lstm_dim: %s | batch_size: %s | validation_split: %s' % (lstm_dim, batch_size, validation_split))\n",
    "            print('accuracy: %s' % (accuracy_score(y, pred)))\n",
    "            print('auc: %s' % (roc_auc_score(y, pred)))\n",
    "            "
   ]
  },
  {
   "cell_type": "code",
   "execution_count": 461,
   "metadata": {},
   "outputs": [
    {
     "data": {
      "text/plain": [
       "[{'lstm_dim': 64,\n",
       "  'batch_size': 8,\n",
       "  'validation_split': 0,\n",
       "  'accuracy': 0.8555844155844156,\n",
       "  'auc': 0.6020983833942904},\n",
       " {'lstm_dim': 64,\n",
       "  'batch_size': 8,\n",
       "  'validation_split': 0.1,\n",
       "  'accuracy': 0.855007215007215,\n",
       "  'auc': 0.5908646420518842},\n",
       " {'lstm_dim': 64,\n",
       "  'batch_size': 8,\n",
       "  'validation_split': 0.2,\n",
       "  'accuracy': 0.8531024531024531,\n",
       "  'auc': 0.5912808766112402},\n",
       " {'lstm_dim': 64,\n",
       "  'batch_size': 8,\n",
       "  'validation_split': 0.3,\n",
       "  'accuracy': 0.8535642135642135,\n",
       "  'auc': 0.5881632414969955},\n",
       " {'lstm_dim': 64,\n",
       "  'batch_size': 16,\n",
       "  'validation_split': 0,\n",
       "  'accuracy': 0.8531601731601731,\n",
       "  'auc': 0.5866488959877879},\n",
       " {'lstm_dim': 64,\n",
       "  'batch_size': 16,\n",
       "  'validation_split': 0.1,\n",
       "  'accuracy': 0.8525252525252526,\n",
       "  'auc': 0.5882488693215657},\n",
       " {'lstm_dim': 64,\n",
       "  'batch_size': 16,\n",
       "  'validation_split': 0.2,\n",
       "  'accuracy': 0.8526406926406926,\n",
       "  'auc': 0.5778536344122156},\n",
       " {'lstm_dim': 64,\n",
       "  'batch_size': 16,\n",
       "  'validation_split': 0.3,\n",
       "  'accuracy': 0.8506204906204906,\n",
       "  'auc': 0.5742413646847383},\n",
       " {'lstm_dim': 64,\n",
       "  'batch_size': 32,\n",
       "  'validation_split': 0,\n",
       "  'accuracy': 0.8488311688311688,\n",
       "  'auc': 0.5576161315678753},\n",
       " {'lstm_dim': 64,\n",
       "  'batch_size': 32,\n",
       "  'validation_split': 0.1,\n",
       "  'accuracy': 0.8416161616161616,\n",
       "  'auc': 0.5329378013767798},\n",
       " {'lstm_dim': 64,\n",
       "  'batch_size': 32,\n",
       "  'validation_split': 0.2,\n",
       "  'accuracy': 0.8451948051948052,\n",
       "  'auc': 0.5469566153489278},\n",
       " {'lstm_dim': 64,\n",
       "  'batch_size': 32,\n",
       "  'validation_split': 0.3,\n",
       "  'accuracy': 0.8480808080808081,\n",
       "  'auc': 0.5592884676411856},\n",
       " {'lstm_dim': 128,\n",
       "  'batch_size': 8,\n",
       "  'validation_split': 0,\n",
       "  'accuracy': 0.8563924963924964,\n",
       "  'auc': 0.6049856652048996},\n",
       " {'lstm_dim': 128,\n",
       "  'batch_size': 8,\n",
       "  'validation_split': 0.1,\n",
       "  'accuracy': 0.8565656565656565,\n",
       "  'auc': 0.6070689638165894},\n",
       " {'lstm_dim': 128,\n",
       "  'batch_size': 8,\n",
       "  'validation_split': 0.2,\n",
       "  'accuracy': 0.8555844155844156,\n",
       "  'auc': 0.615390848928028},\n",
       " {'lstm_dim': 128,\n",
       "  'batch_size': 8,\n",
       "  'validation_split': 0.3,\n",
       "  'accuracy': 0.8536219336219336,\n",
       "  'auc': 0.6187421536171677},\n",
       " {'lstm_dim': 128,\n",
       "  'batch_size': 16,\n",
       "  'validation_split': 0,\n",
       "  'accuracy': 0.8573160173160174,\n",
       "  'auc': 0.6012957607169133},\n",
       " {'lstm_dim': 128,\n",
       "  'batch_size': 16,\n",
       "  'validation_split': 0.1,\n",
       "  'accuracy': 0.8550649350649351,\n",
       "  'auc': 0.6034845847807299},\n",
       " {'lstm_dim': 128,\n",
       "  'batch_size': 16,\n",
       "  'validation_split': 0.2,\n",
       "  'accuracy': 0.8496969696969697,\n",
       "  'auc': 0.5715678548214672},\n",
       " {'lstm_dim': 128,\n",
       "  'batch_size': 16,\n",
       "  'validation_split': 0.3,\n",
       "  'accuracy': 0.8544300144300144,\n",
       "  'auc': 0.5960343688149415},\n",
       " {'lstm_dim': 128,\n",
       "  'batch_size': 32,\n",
       "  'validation_split': 0,\n",
       "  'accuracy': 0.8535064935064935,\n",
       "  'auc': 0.5871388538082188},\n",
       " {'lstm_dim': 128,\n",
       "  'batch_size': 32,\n",
       "  'validation_split': 0.1,\n",
       "  'accuracy': 0.8521212121212122,\n",
       "  'auc': 0.576270242434735},\n",
       " {'lstm_dim': 128,\n",
       "  'batch_size': 32,\n",
       "  'validation_split': 0.2,\n",
       "  'accuracy': 0.8486580086580087,\n",
       "  'auc': 0.5590680631513284},\n",
       " {'lstm_dim': 128,\n",
       "  'batch_size': 32,\n",
       "  'validation_split': 0.3,\n",
       "  'accuracy': 0.845945165945166,\n",
       "  'auc': 0.5524961488737092}]"
      ]
     },
     "execution_count": 461,
     "metadata": {},
     "output_type": "execute_result"
    }
   ],
   "source": [
    "models\n",
    "\n",
    " # {'lstm_dim': 128,\n",
    " #  'batch_size': 8,\n",
    " #  'validation_split': 0.3,\n",
    " #  'accuracy': 0.8536219336219336,\n",
    " #  'auc': 0.6187421536171677}"
   ]
  },
  {
   "cell_type": "code",
   "execution_count": 455,
   "metadata": {},
   "outputs": [
    {
     "name": "stdout",
     "output_type": "stream",
     "text": [
      "accuracy: 0.8462914862914863\n",
      "auc: 0.5469055107584941\n"
     ]
    }
   ],
   "source": []
  },
  {
   "cell_type": "code",
   "execution_count": null,
   "metadata": {},
   "outputs": [],
   "source": []
  }
 ],
 "metadata": {
  "kernelspec": {
   "display_name": "Python 3 (ipykernel)",
   "language": "python",
   "name": "python3"
  },
  "language_info": {
   "codemirror_mode": {
    "name": "ipython",
    "version": 3
   },
   "file_extension": ".py",
   "mimetype": "text/x-python",
   "name": "python",
   "nbconvert_exporter": "python",
   "pygments_lexer": "ipython3",
   "version": "3.8.11"
  }
 },
 "nbformat": 4,
 "nbformat_minor": 4
}
