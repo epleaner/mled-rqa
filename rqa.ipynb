{
 "cells": [
  {
   "cell_type": "code",
   "execution_count": 4,
   "metadata": {},
   "outputs": [
    {
     "name": "stdout",
     "output_type": "stream",
     "text": [
      "[Platform 'Apple']\n",
      "Vendor: Apple\n",
      "Version: OpenCL 1.2 (Feb 12 2022 01:56:48)\n",
      "Profile: FULL_PROFILE\n",
      "Extensions: cl_APPLE_SetMemObjectDestructor cl_APPLE_ContextLoggingFunctions cl_APPLE_clut cl_APPLE_query_kernel_names cl_APPLE_gl_sharing cl_khr_gl_event\n",
      "\n",
      "\n",
      "[Device 'Apple M1']\n",
      "Vendor: Apple\n",
      "Type: 4\n",
      "Version: OpenCL 1.2 \n",
      "Profile: FULL_PROFILE\n",
      "Max Clock Frequency: 1000\n",
      "Global Mem Size: 11453251584\n",
      "Address Bits: 64\n",
      "Max Compute Units: 8\n",
      "Max Work Group Size: 256\n",
      "Max Work Item Dimensions: 3\n",
      "Max Work Item Sizes: [256, 256, 256]\n",
      "Local Mem Size: 32768\n",
      "Max Mem Alloc Size: 2147483648\n",
      "Extensions: cl_APPLE_SetMemObjectDestructor cl_APPLE_ContextLoggingFunctions cl_APPLE_clut cl_APPLE_query_kernel_names cl_APPLE_gl_sharing cl_khr_gl_event cl_khr_byte_addressable_store cl_khr_global_int32_base_atomics cl_khr_global_int32_extended_atomics cl_khr_local_int32_base_atomics cl_khr_local_int32_extended_atomics cl_khr_3d_image_writes cl_khr_image2d_from_buffer cl_khr_depth_images \n",
      "\n",
      "\n",
      "RQA Result:\n",
      "===========\n",
      "\n",
      "Minimum diagonal line length (L_min): 2\n",
      "Minimum vertical line length (V_min): 2\n",
      "Minimum white vertical line length (W_min): 2\n",
      "\n",
      "Recurrence rate (RR): 0.371901\n",
      "Determinism (DET): 0.411765\n",
      "Average diagonal line length (L): 2.333333\n",
      "Longest diagonal line length (L_max): 3\n",
      "Divergence (DIV): 0.333333\n",
      "Entropy diagonal lines (L_entr): 0.636514\n",
      "Laminarity (LAM): 0.400000\n",
      "Trapping time (TT): 2.571429\n",
      "Longest vertical line length (V_max): 4\n",
      "Entropy vertical lines (V_entr): 0.955700\n",
      "Average white vertical line length (W): 2.538462\n",
      "Longest white vertical line length (W_max): 6\n",
      "Longest white vertical line length inverse (W_div): 0.166667\n",
      "Entropy white vertical lines (W_entr): 0.839796\n",
      "\n",
      "Ratio determinism / recurrence rate (DET/RR): 1.107190\n",
      "Ratio laminarity / determinism (LAM/DET): 0.971429\n",
      "\n"
     ]
    }
   ],
   "source": [
    "from pyrqa.time_series import TimeSeries\n",
    "from pyrqa.settings import Settings\n",
    "from pyrqa.analysis_type import Classic\n",
    "from pyrqa.neighbourhood import FixedRadius\n",
    "from pyrqa.metric import EuclideanMetric\n",
    "from pyrqa.computation import RQAComputation\n",
    "data_points = [0.1, 0.5, 1.3, 0.7, 0.8, 1.4, 1.6, 1.2, 0.4, 1.1, 0.8, 0.2, 1.3]\n",
    "time_series = TimeSeries(data_points,\n",
    "                         embedding_dimension=2,\n",
    "                         time_delay=2)\n",
    "settings = Settings(time_series,\n",
    "                    analysis_type=Classic,\n",
    "                    neighbourhood=FixedRadius(0.65),\n",
    "                    similarity_measure=EuclideanMetric,\n",
    "                    theiler_corrector=1)\n",
    "computation = RQAComputation.create(settings,\n",
    "                                    verbose=True)\n",
    "result = computation.run()\n",
    "result.min_diagonal_line_length = 2\n",
    "result.min_vertical_line_length = 2\n",
    "result.min_white_vertical_line_length = 2\n",
    "print(result)"
   ]
  },
  {
   "cell_type": "code",
   "execution_count": 26,
   "metadata": {},
   "outputs": [],
   "source": [
    "import pandas as pd\n",
    "import glob\n",
    "import re"
   ]
  },
  {
   "cell_type": "code",
   "execution_count": 19,
   "metadata": {},
   "outputs": [],
   "source": [
    "path = 'data/hand_eye_combined_logs'"
   ]
  },
  {
   "cell_type": "code",
   "execution_count": 44,
   "metadata": {},
   "outputs": [],
   "source": [
    "dfs = []\n",
    "\n",
    "for f in glob.glob(path + \"/*_Normalized.txt\"):\n",
    "  d = pd.read_csv(f, sep=\"\\s+\")\n",
    "  id = re.findall(\".*Subject_(\\d+)_.*\", f)[0]\n",
    "  d[\"id\"] = id\n",
    "  dfs.append(d)\n",
    "\n",
    "df = pd.concat(dfs, ignore_index=True)"
   ]
  },
  {
   "cell_type": "code",
   "execution_count": null,
   "metadata": {},
   "outputs": [],
   "source": []
  }
 ],
 "metadata": {
  "interpreter": {
   "hash": "1486a25d6f3693af53d4f23616805a19b035a435dfc2cb76bf8b05ec1a83cd8d"
  },
  "kernelspec": {
   "display_name": "Python 3.8.11 ('env': venv)",
   "language": "python",
   "name": "python3"
  },
  "language_info": {
   "codemirror_mode": {
    "name": "ipython",
    "version": 3
   },
   "file_extension": ".py",
   "mimetype": "text/x-python",
   "name": "python",
   "nbconvert_exporter": "python",
   "pygments_lexer": "ipython3",
   "version": "3.8.11"
  },
  "orig_nbformat": 4
 },
 "nbformat": 4,
 "nbformat_minor": 2
}
