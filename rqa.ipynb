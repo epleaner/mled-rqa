{
 "cells": [
  {
   "cell_type": "code",
   "execution_count": 13,
   "metadata": {},
   "outputs": [],
   "source": [
    "from pyrqa.time_series import TimeSeries\n",
    "from pyrqa.settings import Settings\n",
    "from pyrqa.analysis_type import Classic, Cross\n",
    "from pyrqa.neighbourhood import FixedRadius\n",
    "from pyrqa.metric import EuclideanMetric\n",
    "from pyrqa.computation import RQAComputation\n",
    "from pyrqa.image_generator import ImageGenerator\n",
    "\n",
    "import pandas as pd\n",
    "import glob\n",
    "import re"
   ]
  },
  {
   "cell_type": "code",
   "execution_count": 4,
   "metadata": {},
   "outputs": [
    {
     "name": "stdout",
     "output_type": "stream",
     "text": [
      "[Platform 'Apple']\n",
      "Vendor: Apple\n",
      "Version: OpenCL 1.2 (Feb 12 2022 01:56:48)\n",
      "Profile: FULL_PROFILE\n",
      "Extensions: cl_APPLE_SetMemObjectDestructor cl_APPLE_ContextLoggingFunctions cl_APPLE_clut cl_APPLE_query_kernel_names cl_APPLE_gl_sharing cl_khr_gl_event\n",
      "\n",
      "\n",
      "[Device 'Apple M1']\n",
      "Vendor: Apple\n",
      "Type: 4\n",
      "Version: OpenCL 1.2 \n",
      "Profile: FULL_PROFILE\n",
      "Max Clock Frequency: 1000\n",
      "Global Mem Size: 11453251584\n",
      "Address Bits: 64\n",
      "Max Compute Units: 8\n",
      "Max Work Group Size: 256\n",
      "Max Work Item Dimensions: 3\n",
      "Max Work Item Sizes: [256, 256, 256]\n",
      "Local Mem Size: 32768\n",
      "Max Mem Alloc Size: 2147483648\n",
      "Extensions: cl_APPLE_SetMemObjectDestructor cl_APPLE_ContextLoggingFunctions cl_APPLE_clut cl_APPLE_query_kernel_names cl_APPLE_gl_sharing cl_khr_gl_event cl_khr_byte_addressable_store cl_khr_global_int32_base_atomics cl_khr_global_int32_extended_atomics cl_khr_local_int32_base_atomics cl_khr_local_int32_extended_atomics cl_khr_3d_image_writes cl_khr_image2d_from_buffer cl_khr_depth_images \n",
      "\n",
      "\n",
      "RQA Result:\n",
      "===========\n",
      "\n",
      "Minimum diagonal line length (L_min): 2\n",
      "Minimum vertical line length (V_min): 2\n",
      "Minimum white vertical line length (W_min): 2\n",
      "\n",
      "Recurrence rate (RR): 0.371901\n",
      "Determinism (DET): 0.411765\n",
      "Average diagonal line length (L): 2.333333\n",
      "Longest diagonal line length (L_max): 3\n",
      "Divergence (DIV): 0.333333\n",
      "Entropy diagonal lines (L_entr): 0.636514\n",
      "Laminarity (LAM): 0.400000\n",
      "Trapping time (TT): 2.571429\n",
      "Longest vertical line length (V_max): 4\n",
      "Entropy vertical lines (V_entr): 0.955700\n",
      "Average white vertical line length (W): 2.538462\n",
      "Longest white vertical line length (W_max): 6\n",
      "Longest white vertical line length inverse (W_div): 0.166667\n",
      "Entropy white vertical lines (W_entr): 0.839796\n",
      "\n",
      "Ratio determinism / recurrence rate (DET/RR): 1.107190\n",
      "Ratio laminarity / determinism (LAM/DET): 0.971429\n",
      "\n"
     ]
    }
   ],
   "source": [
    "# This is example code\n",
    "data_points = [0.1, 0.5, 1.3, 0.7, 0.8, 1.4, 1.6, 1.2, 0.4, 1.1, 0.8, 0.2, 1.3]\n",
    "time_series = TimeSeries(data_points,\n",
    "                         embedding_dimension=2,\n",
    "                         time_delay=2)\n",
    "settings = Settings(time_series,\n",
    "                    analysis_type=Classic,\n",
    "                    neighbourhood=FixedRadius(0.65),\n",
    "                    similarity_measure=EuclideanMetric,\n",
    "                    theiler_corrector=1)\n",
    "computation = RQAComputation.create(settings,\n",
    "                                    verbose=True)\n",
    "result = computation.run()\n",
    "result.min_diagonal_line_length = 2\n",
    "result.min_vertical_line_length = 2\n",
    "result.min_white_vertical_line_length = 2\n",
    "print(result)"
   ]
  },
  {
   "cell_type": "code",
   "execution_count": 10,
   "metadata": {},
   "outputs": [],
   "source": [
    "log_path = 'data/hand_eye_combined_logs'\n",
    "out_plots_path = 'out/plots'"
   ]
  },
  {
   "cell_type": "code",
   "execution_count": 11,
   "metadata": {},
   "outputs": [],
   "source": [
    "dfs = []\n",
    "\n",
    "for f in glob.glob(log_path + \"/*_Normalized.txt\"):\n",
    "  d = pd.read_csv(f, sep=\"\\s+\")\n",
    "  id = re.findall(\".*Subject_(\\d+)_.*\", f)[0]\n",
    "  d[\"id\"] = id\n",
    "  dfs.append(d)\n",
    "\n",
    "df = pd.concat(dfs, ignore_index=True)"
   ]
  },
  {
   "cell_type": "code",
   "execution_count": 32,
   "metadata": {},
   "outputs": [],
   "source": [
    "def cross_rqa(x, y, id,plot=True,verbose=True):\n",
    "  data_points_x = x # [0.9, 0.1, 0.2, 0.3, 0.5, 1.7, 0.4, 0.8, 1.5]\n",
    "  time_series_x = TimeSeries(data_points_x,\n",
    "                            embedding_dimension=2,\n",
    "                            time_delay=1)\n",
    "  data_points_y = y # [0.3, 1.3, 0.6, 0.2, 1.1, 1.9, 1.3, 0.4, 0.7, 0.9, 1.6]\n",
    "  time_series_y = TimeSeries(data_points_y,\n",
    "                            embedding_dimension=2,\n",
    "                            time_delay=2)\n",
    "  time_series = (time_series_x,\n",
    "                time_series_y)\n",
    "  settings = Settings(time_series,\n",
    "                      analysis_type=Cross,\n",
    "                      neighbourhood=FixedRadius(0.73),\n",
    "                      similarity_measure=EuclideanMetric,\n",
    "                      theiler_corrector=0)\n",
    "  computation = RQAComputation.create(settings)\n",
    "  result = computation.run()\n",
    "  result.min_diagonal_line_length = 2\n",
    "  result.min_vertical_line_length = 2\n",
    "  result.min_white_vertical_line_length = 2\n",
    "\n",
    "  if(plot):\n",
    "    ImageGenerator.save_recurrence_plot(result.recurrence_matrix_reverse,\n",
    "                                        f'%s/%s_cross_recurrence_plot.png' % (out_plots_path, id))\n",
    "\n",
    "  if(verbose): print(result)\n",
    "\n",
    "  return result"
   ]
  },
  {
   "cell_type": "code",
   "execution_count": null,
   "metadata": {},
   "outputs": [],
   "source": [
    "for group_id, group_df in df.groupby(['id']):\n",
    "    x = group_df['LeftY']\n",
    "    y = group_df['RightY']\n",
    "    result = cross_rqa(x=x,y=y,id=group_id,plot=False,verbose=False)\n",
    "    group_df['LeftY_RightY_recurrence_rate'] = result.recurrence_rate\n",
    "    group_df['LeftY_RightY_determinism'] = result.determinism\n",
    "    group_df['LeftY_RightY_average_diagonal_line'] = result.average_diagonal_line\n",
    "    group_df['LeftY_RightY_longest_diagonal_line'] = result.longest_diagonal_line\n",
    "    group_df['LeftY_RightY_divergence'] = result.divergence\n",
    "    group_df['LeftY_RightY_entropy_diagonal_lines'] = result.entropy_diagonal_lines\n",
    "    group_df['LeftY_RightY_laminarity'] = result.laminarity\n",
    "    group_df['LeftY_RightY_trapping_time'] = result.trapping_time\n",
    "    group_df['LeftY_RightY_longest_vertical_line'] = result.longest_vertical_line\n",
    "    group_df['LeftY_RightY_entropy_vertical_lines'] = result.entropy_vertical_lines\n",
    "    group_df['LeftY_RightY_average_white_vertical_line'] = result.average_white_vertical_line\n",
    "    group_df['LeftY_RightY_longest_white_vertical_line'] = result.longest_white_vertical_line\n",
    "    group_df['LeftY_RightY_entropy_white_vertical_lines'] = result.entropy_white_vertical_lines\n",
    "    group_df['LeftY_RightY_ratio_determinism_recurrence_rate'] = result.ratio_determinism_recurrence_rate\n",
    "    group_df['LeftY_RightY_ratio_laminarity_determinism'] = result.ratio_laminarity_determinism"
   ]
  },
  {
   "cell_type": "code",
   "execution_count": 63,
   "metadata": {},
   "outputs": [
    {
     "ename": "KeyError",
     "evalue": "0",
     "output_type": "error",
     "traceback": [
      "\u001b[0;31m---------------------------------------------------------------------------\u001b[0m",
      "\u001b[0;31mKeyError\u001b[0m                                  Traceback (most recent call last)",
      "File \u001b[0;32m~/workspace/mled/final/env/lib/python3.8/site-packages/pandas/core/indexes/base.py:3621\u001b[0m, in \u001b[0;36mIndex.get_loc\u001b[0;34m(self, key, method, tolerance)\u001b[0m\n\u001b[1;32m   <a href='file:///Users/elipleaner/workspace/mled/final/env/lib/python3.8/site-packages/pandas/core/indexes/base.py?line=3619'>3620</a>\u001b[0m \u001b[39mtry\u001b[39;00m:\n\u001b[0;32m-> <a href='file:///Users/elipleaner/workspace/mled/final/env/lib/python3.8/site-packages/pandas/core/indexes/base.py?line=3620'>3621</a>\u001b[0m     \u001b[39mreturn\u001b[39;00m \u001b[39mself\u001b[39;49m\u001b[39m.\u001b[39;49m_engine\u001b[39m.\u001b[39;49mget_loc(casted_key)\n\u001b[1;32m   <a href='file:///Users/elipleaner/workspace/mled/final/env/lib/python3.8/site-packages/pandas/core/indexes/base.py?line=3621'>3622</a>\u001b[0m \u001b[39mexcept\u001b[39;00m \u001b[39mKeyError\u001b[39;00m \u001b[39mas\u001b[39;00m err:\n",
      "File \u001b[0;32mpandas/_libs/index.pyx:136\u001b[0m, in \u001b[0;36mpandas._libs.index.IndexEngine.get_loc\u001b[0;34m()\u001b[0m\n",
      "File \u001b[0;32mpandas/_libs/index.pyx:163\u001b[0m, in \u001b[0;36mpandas._libs.index.IndexEngine.get_loc\u001b[0;34m()\u001b[0m\n",
      "File \u001b[0;32mpandas/_libs/hashtable_class_helper.pxi:2131\u001b[0m, in \u001b[0;36mpandas._libs.hashtable.Int64HashTable.get_item\u001b[0;34m()\u001b[0m\n",
      "File \u001b[0;32mpandas/_libs/hashtable_class_helper.pxi:2140\u001b[0m, in \u001b[0;36mpandas._libs.hashtable.Int64HashTable.get_item\u001b[0;34m()\u001b[0m\n",
      "\u001b[0;31mKeyError\u001b[0m: 0",
      "\nThe above exception was the direct cause of the following exception:\n",
      "\u001b[0;31mKeyError\u001b[0m                                  Traceback (most recent call last)",
      "\u001b[1;32m/Users/elipleaner/workspace/mled/final/rqa.ipynb Cell 7'\u001b[0m in \u001b[0;36m<cell line: 1>\u001b[0;34m()\u001b[0m\n\u001b[0;32m----> <a href='vscode-notebook-cell:/Users/elipleaner/workspace/mled/final/rqa.ipynb#ch0000007?line=0'>1</a>\u001b[0m df\u001b[39m.\u001b[39;49mgroupby([\u001b[39m'\u001b[39;49m\u001b[39mid\u001b[39;49m\u001b[39m'\u001b[39;49m])\u001b[39m.\u001b[39;49mfilter(\u001b[39mlambda\u001b[39;49;00m g: g\u001b[39m.\u001b[39;49mid[\u001b[39m0\u001b[39;49m] \u001b[39m==\u001b[39;49m \u001b[39m'\u001b[39;49m\u001b[39m03\u001b[39;49m\u001b[39m'\u001b[39;49m)\n",
      "File \u001b[0;32m~/workspace/mled/final/env/lib/python3.8/site-packages/pandas/core/groupby/generic.py:1304\u001b[0m, in \u001b[0;36mDataFrameGroupBy.filter\u001b[0;34m(self, func, dropna, *args, **kwargs)\u001b[0m\n\u001b[1;32m   <a href='file:///Users/elipleaner/workspace/mled/final/env/lib/python3.8/site-packages/pandas/core/groupby/generic.py?line=1300'>1301</a>\u001b[0m \u001b[39mfor\u001b[39;00m name, group \u001b[39min\u001b[39;00m gen:\n\u001b[1;32m   <a href='file:///Users/elipleaner/workspace/mled/final/env/lib/python3.8/site-packages/pandas/core/groupby/generic.py?line=1301'>1302</a>\u001b[0m     \u001b[39mobject\u001b[39m\u001b[39m.\u001b[39m\u001b[39m__setattr__\u001b[39m(group, \u001b[39m\"\u001b[39m\u001b[39mname\u001b[39m\u001b[39m\"\u001b[39m, name)\n\u001b[0;32m-> <a href='file:///Users/elipleaner/workspace/mled/final/env/lib/python3.8/site-packages/pandas/core/groupby/generic.py?line=1303'>1304</a>\u001b[0m     res \u001b[39m=\u001b[39m func(group, \u001b[39m*\u001b[39;49margs, \u001b[39m*\u001b[39;49m\u001b[39m*\u001b[39;49mkwargs)\n\u001b[1;32m   <a href='file:///Users/elipleaner/workspace/mled/final/env/lib/python3.8/site-packages/pandas/core/groupby/generic.py?line=1305'>1306</a>\u001b[0m     \u001b[39mtry\u001b[39;00m:\n\u001b[1;32m   <a href='file:///Users/elipleaner/workspace/mled/final/env/lib/python3.8/site-packages/pandas/core/groupby/generic.py?line=1306'>1307</a>\u001b[0m         res \u001b[39m=\u001b[39m res\u001b[39m.\u001b[39msqueeze()\n",
      "\u001b[1;32m/Users/elipleaner/workspace/mled/final/rqa.ipynb Cell 7'\u001b[0m in \u001b[0;36m<lambda>\u001b[0;34m(g)\u001b[0m\n\u001b[0;32m----> <a href='vscode-notebook-cell:/Users/elipleaner/workspace/mled/final/rqa.ipynb#ch0000007?line=0'>1</a>\u001b[0m df\u001b[39m.\u001b[39mgroupby([\u001b[39m'\u001b[39m\u001b[39mid\u001b[39m\u001b[39m'\u001b[39m])\u001b[39m.\u001b[39mfilter(\u001b[39mlambda\u001b[39;00m g: g\u001b[39m.\u001b[39;49mid[\u001b[39m0\u001b[39;49m] \u001b[39m==\u001b[39m \u001b[39m'\u001b[39m\u001b[39m03\u001b[39m\u001b[39m'\u001b[39m)\n",
      "File \u001b[0;32m~/workspace/mled/final/env/lib/python3.8/site-packages/pandas/core/series.py:958\u001b[0m, in \u001b[0;36mSeries.__getitem__\u001b[0;34m(self, key)\u001b[0m\n\u001b[1;32m    <a href='file:///Users/elipleaner/workspace/mled/final/env/lib/python3.8/site-packages/pandas/core/series.py?line=954'>955</a>\u001b[0m     \u001b[39mreturn\u001b[39;00m \u001b[39mself\u001b[39m\u001b[39m.\u001b[39m_values[key]\n\u001b[1;32m    <a href='file:///Users/elipleaner/workspace/mled/final/env/lib/python3.8/site-packages/pandas/core/series.py?line=956'>957</a>\u001b[0m \u001b[39melif\u001b[39;00m key_is_scalar:\n\u001b[0;32m--> <a href='file:///Users/elipleaner/workspace/mled/final/env/lib/python3.8/site-packages/pandas/core/series.py?line=957'>958</a>\u001b[0m     \u001b[39mreturn\u001b[39;00m \u001b[39mself\u001b[39;49m\u001b[39m.\u001b[39;49m_get_value(key)\n\u001b[1;32m    <a href='file:///Users/elipleaner/workspace/mled/final/env/lib/python3.8/site-packages/pandas/core/series.py?line=959'>960</a>\u001b[0m \u001b[39mif\u001b[39;00m is_hashable(key):\n\u001b[1;32m    <a href='file:///Users/elipleaner/workspace/mled/final/env/lib/python3.8/site-packages/pandas/core/series.py?line=960'>961</a>\u001b[0m     \u001b[39m# Otherwise index.get_value will raise InvalidIndexError\u001b[39;00m\n\u001b[1;32m    <a href='file:///Users/elipleaner/workspace/mled/final/env/lib/python3.8/site-packages/pandas/core/series.py?line=961'>962</a>\u001b[0m     \u001b[39mtry\u001b[39;00m:\n\u001b[1;32m    <a href='file:///Users/elipleaner/workspace/mled/final/env/lib/python3.8/site-packages/pandas/core/series.py?line=962'>963</a>\u001b[0m         \u001b[39m# For labels that don't resolve as scalars like tuples and frozensets\u001b[39;00m\n",
      "File \u001b[0;32m~/workspace/mled/final/env/lib/python3.8/site-packages/pandas/core/series.py:1069\u001b[0m, in \u001b[0;36mSeries._get_value\u001b[0;34m(self, label, takeable)\u001b[0m\n\u001b[1;32m   <a href='file:///Users/elipleaner/workspace/mled/final/env/lib/python3.8/site-packages/pandas/core/series.py?line=1065'>1066</a>\u001b[0m     \u001b[39mreturn\u001b[39;00m \u001b[39mself\u001b[39m\u001b[39m.\u001b[39m_values[label]\n\u001b[1;32m   <a href='file:///Users/elipleaner/workspace/mled/final/env/lib/python3.8/site-packages/pandas/core/series.py?line=1067'>1068</a>\u001b[0m \u001b[39m# Similar to Index.get_value, but we do not fall back to positional\u001b[39;00m\n\u001b[0;32m-> <a href='file:///Users/elipleaner/workspace/mled/final/env/lib/python3.8/site-packages/pandas/core/series.py?line=1068'>1069</a>\u001b[0m loc \u001b[39m=\u001b[39m \u001b[39mself\u001b[39;49m\u001b[39m.\u001b[39;49mindex\u001b[39m.\u001b[39;49mget_loc(label)\n\u001b[1;32m   <a href='file:///Users/elipleaner/workspace/mled/final/env/lib/python3.8/site-packages/pandas/core/series.py?line=1069'>1070</a>\u001b[0m \u001b[39mreturn\u001b[39;00m \u001b[39mself\u001b[39m\u001b[39m.\u001b[39mindex\u001b[39m.\u001b[39m_get_values_for_loc(\u001b[39mself\u001b[39m, loc, label)\n",
      "File \u001b[0;32m~/workspace/mled/final/env/lib/python3.8/site-packages/pandas/core/indexes/base.py:3623\u001b[0m, in \u001b[0;36mIndex.get_loc\u001b[0;34m(self, key, method, tolerance)\u001b[0m\n\u001b[1;32m   <a href='file:///Users/elipleaner/workspace/mled/final/env/lib/python3.8/site-packages/pandas/core/indexes/base.py?line=3620'>3621</a>\u001b[0m     \u001b[39mreturn\u001b[39;00m \u001b[39mself\u001b[39m\u001b[39m.\u001b[39m_engine\u001b[39m.\u001b[39mget_loc(casted_key)\n\u001b[1;32m   <a href='file:///Users/elipleaner/workspace/mled/final/env/lib/python3.8/site-packages/pandas/core/indexes/base.py?line=3621'>3622</a>\u001b[0m \u001b[39mexcept\u001b[39;00m \u001b[39mKeyError\u001b[39;00m \u001b[39mas\u001b[39;00m err:\n\u001b[0;32m-> <a href='file:///Users/elipleaner/workspace/mled/final/env/lib/python3.8/site-packages/pandas/core/indexes/base.py?line=3622'>3623</a>\u001b[0m     \u001b[39mraise\u001b[39;00m \u001b[39mKeyError\u001b[39;00m(key) \u001b[39mfrom\u001b[39;00m \u001b[39merr\u001b[39;00m\n\u001b[1;32m   <a href='file:///Users/elipleaner/workspace/mled/final/env/lib/python3.8/site-packages/pandas/core/indexes/base.py?line=3623'>3624</a>\u001b[0m \u001b[39mexcept\u001b[39;00m \u001b[39mTypeError\u001b[39;00m:\n\u001b[1;32m   <a href='file:///Users/elipleaner/workspace/mled/final/env/lib/python3.8/site-packages/pandas/core/indexes/base.py?line=3624'>3625</a>\u001b[0m     \u001b[39m# If we have a listlike key, _check_indexing_error will raise\u001b[39;00m\n\u001b[1;32m   <a href='file:///Users/elipleaner/workspace/mled/final/env/lib/python3.8/site-packages/pandas/core/indexes/base.py?line=3625'>3626</a>\u001b[0m     \u001b[39m#  InvalidIndexError. Otherwise we fall through and re-raise\u001b[39;00m\n\u001b[1;32m   <a href='file:///Users/elipleaner/workspace/mled/final/env/lib/python3.8/site-packages/pandas/core/indexes/base.py?line=3626'>3627</a>\u001b[0m     \u001b[39m#  the TypeError.\u001b[39;00m\n\u001b[1;32m   <a href='file:///Users/elipleaner/workspace/mled/final/env/lib/python3.8/site-packages/pandas/core/indexes/base.py?line=3627'>3628</a>\u001b[0m     \u001b[39mself\u001b[39m\u001b[39m.\u001b[39m_check_indexing_error(key)\n",
      "\u001b[0;31mKeyError\u001b[0m: 0"
     ]
    }
   ],
   "source": [
    "df.groupby(['id']).filter(lambda g: g.id[0] == '03')"
   ]
  }
 ],
 "metadata": {
  "interpreter": {
   "hash": "1486a25d6f3693af53d4f23616805a19b035a435dfc2cb76bf8b05ec1a83cd8d"
  },
  "kernelspec": {
   "display_name": "Python 3.8.11 ('env': venv)",
   "language": "python",
   "name": "python3"
  },
  "language_info": {
   "codemirror_mode": {
    "name": "ipython",
    "version": 3
   },
   "file_extension": ".py",
   "mimetype": "text/x-python",
   "name": "python",
   "nbconvert_exporter": "python",
   "pygments_lexer": "ipython3",
   "version": "3.8.11"
  },
  "orig_nbformat": 4
 },
 "nbformat": 4,
 "nbformat_minor": 2
}
